{
 "cells": [
  {
   "cell_type": "code",
   "execution_count": null,
   "metadata": {},
   "outputs": [],
   "source": [
    "# import libraries\n",
    "import requests\n",
    "import os\n",
    "import hashlib\n",
    "import pathlib\n",
    "import json\n",
    "from datetime import datetime\n",
    "import pytz\n",
    "from urllib.parse import urlparse\n",
    "import time\n",
    "import pandas as pd\n",
    "import googlemaps\n",
    "import concurrent.futures"
   ]
  },
  {
   "cell_type": "code",
   "execution_count": null,
   "metadata": {},
   "outputs": [],
   "source": [
    "# api key\n",
    "key = 'Jessica_Key'"
   ]
  },
  {
   "cell_type": "code",
   "execution_count": null,
   "metadata": {},
   "outputs": [],
   "source": [
    "from functions.routes_api_functions import Location\n",
    "from functions.routes_api_functions import calculateRoute\n",
    "from functions.routes_api_functions import parseDataframeToLocations\n",
    "from functions.routes_api_functions import createDataFrame"
   ]
  },
  {
   "cell_type": "code",
   "execution_count": null,
   "metadata": {},
   "outputs": [],
   "source": [
    "from functions.routes_api_functions import cache_file_path\n",
    "from functions.routes_api_functions import save_to_cache\n",
    "from functions.routes_api_functions import load_from_cache\n",
    "from functions.routes_api_functions import fetch_all_routes"
   ]
  },
  {
   "cell_type": "code",
   "execution_count": null,
   "metadata": {},
   "outputs": [],
   "source": [
    "from functions.distance_matrix_functions import cache_distance_info\n",
    "from functions.distance_matrix_functions import batch_distance_requests"
   ]
  },
  {
   "cell_type": "code",
   "execution_count": null,
   "metadata": {},
   "outputs": [],
   "source": [
    "## import O-D\n",
    "# import origin and destination data\n",
    "origins = pd.read_csv('../Data/origins_gdf.csv')\n",
    "originsLoc = parseDataframeToLocations(origins)\n",
    "destinations = pd.read_csv('../Data/destinations_gdf.csv')\n",
    "destinationsLoc = parseDataframeToLocations(destinations)"
   ]
  },
  {
   "cell_type": "markdown",
   "metadata": {},
   "source": [
    "## 1. Check multiple request availability"
   ]
  },
  {
   "cell_type": "markdown",
   "metadata": {},
   "source": [
    "### Routes API"
   ]
  },
  {
   "cell_type": "code",
   "execution_count": null,
   "metadata": {},
   "outputs": [],
   "source": [
    "def location_to_dict(location):\n",
    "    return {\n",
    "        \"latLng\": {\n",
    "            \"latitude\": location.lat,\n",
    "            \"longitude\": location.lon\n",
    "        }\n",
    "    }\n",
    "\n",
    "origin_dicts = [location_to_dict(loc) for loc in originsLoc]\n",
    "destination_dicts = [location_to_dict(loc) for loc in destinationsLoc]\n",
    "\n",
    "# create a list of O-D pairs to pass it as a whole to the routes api\n",
    "od_pairs = []\n",
    "for o, d in zip(origin_dicts, destination_dicts):\n",
    "    od_pairs.append({\n",
    "        \"origin\": {\"location\": o},\n",
    "        \"destination\": {\"location\": d},\n",
    "        \"travelMode\": \"DRIVE\",\n",
    "        \"routingPreference\": \"TRAFFIC_AWARE\",\n",
    "        \"departureTime\": \"2023-11-30T15:00:00-08:00\",\n",
    "        \"computeAlternativeRoutes\": False,\n",
    "        \"routeModifiers\": {\n",
    "            \"avoidTolls\": False,\n",
    "            \"avoidHighways\": False,\n",
    "            \"avoidFerries\": False\n",
    "        },\n",
    "        \"languageCode\": \"en-US\",\n",
    "        \"units\": \"IMPERIAL\"\n",
    "    })"
   ]
  },
  {
   "cell_type": "code",
   "execution_count": null,
   "metadata": {},
   "outputs": [],
   "source": [
    "# headers\n",
    "headers = {\n",
    "    'Content-Type': 'application/json',\n",
    "    'X-Goog-Api-Key': key,\n",
    "    'X-Goog-FieldMask': 'routes.duration,routes.distanceMeters,routes.polyline.encodedPolyline'\n",
    "}\n",
    "url = \"https://routes.googleapis.com/directions/v2:computeRoutes\"\n",
    "\n",
    "results = []\n",
    "\n",
    "# combine all O-D pairs into a single request data structure\n",
    "request_data = od_pairs\n",
    " \n",
    "# make the request\n",
    "response = requests.post(url, headers=headers, data=json.dumps(request_data))\n",
    "if response.status_code == 200:\n",
    "        response_json = response.json()\n",
    "        results.append(response_json)\n",
    "else:\n",
    "    print(\"Error:\", response.status_code, response.text)\n",
    "    results.append(None)"
   ]
  },
  {
   "cell_type": "code",
   "execution_count": null,
   "metadata": {},
   "outputs": [],
   "source": [
    "results"
   ]
  },
  {
   "cell_type": "code",
   "execution_count": null,
   "metadata": {},
   "outputs": [],
   "source": [
    "# check if it works when directly inputting o-d\n",
    "# headers\n",
    "headers = {\n",
    "    'Content-Type': 'application/json',\n",
    "    'X-Goog-Api-Key': key,\n",
    "    'X-Goog-FieldMask': 'routes.duration,routes.distanceMeters,routes.polyline.encodedPolyline'\n",
    "}\n",
    "url = \"https://routes.googleapis.com/directions/v2:computeRoutes\"\n",
    "\n",
    "results = []\n",
    "\n",
    "request_data = {\n",
    "    \"origin\": {\n",
    "            \"location\": {\n",
    "                \"latLng\": {\n",
    "                    \"latitude\": originsLoc[0].lat,\n",
    "                    \"longitude\": originsLoc[0].lon\n",
    "                }\n",
    "                \"latLng\": {\n",
    "                    \"latitude\": originsLoc[0].lat,\n",
    "                    \"longitude\": originsLoc[0].lon\n",
    "                }\n",
    "            }\n",
    "        },\n",
    "        \"destination\": {\n",
    "            \"location\": {\n",
    "                \"latLng\": {\n",
    "                    \"latitude\": destinationsLoc[0].lat,\n",
    "                    \"longitude\": destinationsLoc[0].lon\n",
    "                }\n",
    "                \"latLng\": {\n",
    "                    \"latitude\": destinationsLoc[0].lat,\n",
    "                    \"longitude\": destinationsLoc[0].lon\n",
    "                }\n",
    "            }\n",
    "        },\n",
    "        \"travelMode\": \"DRIVE\",\n",
    "        \"routingPreference\": \"TRAFFIC_AWARE\",\n",
    "        # departure time: UTC-8\n",
    "        # 2023-11-30 15:00\n",
    "        \"departureTime\": \"2023-11-30T15:00:00-08:00\",\n",
    "        \"computeAlternativeRoutes\": False,\n",
    "        \"routeModifiers\": {\n",
    "            \"avoidTolls\": False,\n",
    "            \"avoidHighways\": False,\n",
    "            \"avoidFerries\": False\n",
    "        },\n",
    "        \"languageCode\": \"en-US\",\n",
    "        \"units\": \"IMPERIAL\"\n",
    "    }\n",
    "\n",
    "response = requests.post(url, headers=headers, data=json.dumps(request_data))\n",
    "if response.status_code == 200:\n",
    "        response_json = response.json()\n",
    "        results.append(response_json)\n",
    "else:\n",
    "    print(\"Error:\", response.status_code, response.text)\n",
    "    results.append(None)"
   ]
  },
  {
   "cell_type": "markdown",
   "metadata": {},
   "source": [
    "Seems Routes API does not support multiple requests."
   ]
  },
  {
   "cell_type": "markdown",
   "metadata": {},
   "source": [
    "### Distance Matrix"
   ]
  },
  {
   "cell_type": "code",
   "execution_count": null,
   "metadata": {},
   "outputs": [],
   "source": [
    "# distance matrix\n",
    "gmaps = googlemaps.Client(key=key)"
   ]
  },
  {
   "cell_type": "code",
   "execution_count": null,
   "metadata": {},
   "outputs": [],
   "source": [
    "def location_to_string(location):\n",
    "    return f\"{location.lat},{location.lon}\"\n",
    "\n",
    "# convert Location objects to strings\n",
    "## will add this to distance_matrix_functions.py if it is needed for reproduction\n",
    "test_o = [location_to_string(loc) for loc in originsLoc]\n",
    "test_d = [location_to_string(loc) for loc in destinationsLoc]"
   ]
  },
  {
   "cell_type": "code",
   "execution_count": null,
   "metadata": {},
   "outputs": [],
   "source": [
    "test2 = gmaps.distance_matrix(test_o, test_d, mode=\"driving\")\n",
    "test2"
   ]
  },
  {
   "cell_type": "markdown",
   "metadata": {},
   "source": [
    "Distance Matrix is able to pass multiple requests per each request."
   ]
  },
  {
   "cell_type": "markdown",
   "metadata": {},
   "source": [
    "## 2. Batch Processing - Distance Matrix"
   ]
  },
  {
   "cell_type": "code",
   "execution_count": null,
   "metadata": {},
   "outputs": [],
   "source": [
    "results = batch_distance_requests(origins=test_o, destinations=test_d, mode=\"driving\", batch_size=2, departure_time=(2023, 12, 1, 14, 0, 0))"
   ]
  },
  {
   "cell_type": "code",
   "execution_count": null,
   "metadata": {},
   "outputs": [],
   "source": [
    "results"
   ]
  },
  {
   "cell_type": "markdown",
   "metadata": {},
   "source": [
    "## 3. Routes API"
   ]
  },
  {
   "cell_type": "code",
   "execution_count": null,
   "metadata": {},
   "outputs": [],
   "source": [
    "## come up with other ways to run multiple requests at once"
   ]
  },
  {
   "cell_type": "code",
   "execution_count": null,
   "metadata": {},
   "outputs": [],
   "source": [
    "results = fetch_all_routes(apikey=key, origins=originsLoc, destinations=destinationsLoc, traffic='TRAFFIC_AWARE', departure_time=(2023, 12, 1, 13, 0, 0))"
   ]
  },
  {
   "cell_type": "code",
   "execution_count": null,
   "metadata": {},
   "outputs": [],
   "source": [
    "results"
   ]
  },
  {
   "cell_type": "code",
   "execution_count": null,
   "metadata": {},
   "outputs": [],
   "source": []
  }
 ],
 "metadata": {
  "kernelspec": {
   "display_name": "Python 3.10.10 ('ppd599')",
   "language": "python",
   "name": "python3"
  },
  "language_info": {
   "codemirror_mode": {
    "name": "ipython",
    "version": 3
   },
   "file_extension": ".py",
   "mimetype": "text/x-python",
   "name": "python",
   "nbconvert_exporter": "python",
   "pygments_lexer": "ipython3",
   "version": "3.10.10"
  },
  "orig_nbformat": 4,
  "vscode": {
   "interpreter": {
    "hash": "9459c1f1e6a42d62dba2ec1671ea395e68ff99b4f6ce754dc9cd2717ec5d1a8f"
   }
  }
 },
 "nbformat": 4,
 "nbformat_minor": 2
}

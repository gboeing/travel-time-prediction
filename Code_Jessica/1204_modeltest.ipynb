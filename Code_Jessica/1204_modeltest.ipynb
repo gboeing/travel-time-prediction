{
 "cells": [
  {
   "cell_type": "code",
   "execution_count": null,
   "metadata": {},
   "outputs": [],
   "source": [
    "# import libraries\n",
    "import requests\n",
    "import os\n",
    "import hashlib\n",
    "import pathlib\n",
    "import json\n",
    "from datetime import datetime\n",
    "import pytz\n",
    "from urllib.parse import urlparse\n",
    "import time\n",
    "import pandas as pd\n",
    "import googlemaps\n",
    "import concurrent.futures\n",
    "import pandas as pd\n",
    "import geopandas as gpd\n",
    "from shapely.geometry import Point\n",
    "import matplotlib.pyplot as plt\n",
    "import folium\n",
    "import statsmodels.api as sm\n",
    "from statsmodels.formula.api import glm\n",
    "from statsmodels.discrete.count_model import ZeroInflatedNegativeBinomialP\n",
    "import numpy as np"
   ]
  },
  {
   "cell_type": "code",
   "execution_count": null,
   "metadata": {},
   "outputs": [],
   "source": [
    "# import functions\n",
    "from functions.routes_api_functions import Location\n",
    "from functions.routes_api_functions import calculateRoute\n",
    "from functions.routes_api_functions import parseDataframeToLocations\n",
    "from functions.routes_api_functions import createDataFrameFromResults\n",
    "from functions.routes_api_functions import cache_file_path\n",
    "from functions.routes_api_functions import save_to_cache\n",
    "from functions.routes_api_functions import load_from_cache\n",
    "from functions.routes_api_functions import fetch_all_routes\n",
    "from functions.routes_api_functions import create_departure_time"
   ]
  },
  {
   "cell_type": "markdown",
   "metadata": {},
   "source": [
    "## Routes API Data Generate"
   ]
  },
  {
   "cell_type": "code",
   "execution_count": null,
   "metadata": {},
   "outputs": [],
   "source": [
    "# import data\n",
    "od = pd.read_csv('../Data/OD3am_10000.csv')"
   ]
  },
  {
   "cell_type": "code",
   "execution_count": null,
   "metadata": {},
   "outputs": [],
   "source": [
    "od"
   ]
  },
  {
   "cell_type": "code",
   "execution_count": null,
   "metadata": {},
   "outputs": [],
   "source": [
    "origins = od[['oid', 'oy', 'ox']]\n",
    "destinations = od[['did', 'dy', 'dx']]"
   ]
  },
  {
   "cell_type": "code",
   "execution_count": null,
   "metadata": {},
   "outputs": [],
   "source": [
    "# convert origins, destinations to geodataframe\n",
    "origins = gpd.GeoDataFrame(origins, geometry=[Point(xy) for xy in zip(origins.ox, origins.oy)])\n",
    "destinations = gpd.GeoDataFrame(destinations, geometry=[Point(xy) for xy in zip(destinations.dx, destinations.dy)])"
   ]
  },
  {
   "cell_type": "code",
   "execution_count": null,
   "metadata": {},
   "outputs": [],
   "source": [
    "# apply parsedataframetoLocations\n",
    "originsLoc = parseDataframeToLocations(origins)\n",
    "destinationsLoc = parseDataframeToLocations(destinations)"
   ]
  },
  {
   "cell_type": "code",
   "execution_count": null,
   "metadata": {},
   "outputs": [],
   "source": [
    "# api key\n",
    "key = 'Jessica API Key'"
   ]
  },
  {
   "cell_type": "code",
   "execution_count": null,
   "metadata": {},
   "outputs": [],
   "source": [
    "# calculate routes\n",
    "# Jan 17 (Wednesday) 3AM\n",
    "departure_times = [(2024, 1, 17, hour, 0, 0) for hour in od['hod']]\n",
    "# use departure_times list as input\n",
    "results = fetch_all_routes(apikey=key, origins=originsLoc, destinations=destinationsLoc, traffic='TRAFFIC_AWARE', departure_times=departure_times)"
   ]
  },
  {
   "cell_type": "code",
   "execution_count": null,
   "metadata": {},
   "outputs": [],
   "source": [
    "results"
   ]
  },
  {
   "cell_type": "code",
   "execution_count": null,
   "metadata": {},
   "outputs": [],
   "source": [
    "for index, item in enumerate(results):\n",
    "    if not item:  # Checks if the route object is empty\n",
    "        print(f\"Empty route object found at index {index}\")"
   ]
  },
  {
   "cell_type": "code",
   "execution_count": null,
   "metadata": {},
   "outputs": [],
   "source": [
    "results[17]"
   ]
  },
  {
   "cell_type": "code",
   "execution_count": null,
   "metadata": {},
   "outputs": [],
   "source": [
    "df = createDataFrameFromResults(results)\n",
    "df"
   ]
  },
  {
   "cell_type": "code",
   "execution_count": null,
   "metadata": {},
   "outputs": [],
   "source": [
    "# remove no results O-D\n",
    "remove = [17, 840, 2179, 3795, 4380, 5747, 8436, 8517]\n",
    "od2 = od.drop(remove)"
   ]
  },
  {
   "cell_type": "code",
   "execution_count": null,
   "metadata": {},
   "outputs": [],
   "source": [
    "od2 = od2.reset_index(drop=True)\n",
    "df = df.reset_index(drop=True)"
   ]
  },
  {
   "cell_type": "code",
   "execution_count": null,
   "metadata": {},
   "outputs": [],
   "source": [
    "len(od2)"
   ]
  },
  {
   "cell_type": "code",
   "execution_count": null,
   "metadata": {},
   "outputs": [],
   "source": [
    "len(df)"
   ]
  },
  {
   "cell_type": "code",
   "execution_count": null,
   "metadata": {},
   "outputs": [],
   "source": [
    "combined_df = pd.concat([od2, df], axis=1)"
   ]
  },
  {
   "cell_type": "code",
   "execution_count": null,
   "metadata": {},
   "outputs": [],
   "source": [
    "combined_df"
   ]
  },
  {
   "cell_type": "code",
   "execution_count": null,
   "metadata": {},
   "outputs": [],
   "source": [
    "# import uber data\n",
    "uber = pd.read_csv('../Data/route_result_uber_hod3am_10000_freeflow.csv')"
   ]
  },
  {
   "cell_type": "code",
   "execution_count": null,
   "metadata": {},
   "outputs": [],
   "source": [
    "uber"
   ]
  },
  {
   "cell_type": "code",
   "execution_count": null,
   "metadata": {},
   "outputs": [],
   "source": [
    "# combine uber, routes api, free-flow data"
   ]
  },
  {
   "cell_type": "code",
   "execution_count": null,
   "metadata": {},
   "outputs": [],
   "source": [
    "remove = [17, 840, 2179, 3795, 4380, 5747, 8436, 8517]\n",
    "uber2 = uber.drop(remove)"
   ]
  },
  {
   "cell_type": "code",
   "execution_count": null,
   "metadata": {},
   "outputs": [],
   "source": [
    "uber2 = uber2.reset_index(drop=True)"
   ]
  },
  {
   "cell_type": "code",
   "execution_count": null,
   "metadata": {},
   "outputs": [],
   "source": [
    "uber2"
   ]
  },
  {
   "cell_type": "code",
   "execution_count": null,
   "metadata": {},
   "outputs": [],
   "source": [
    "test_data = uber2\n",
    "test_data['distance'] = combined_df['distance']\n",
    "test_data['duration'] = combined_df['duration']\n",
    "test_data['polyline'] = combined_df['polyline']"
   ]
  },
  {
   "cell_type": "code",
   "execution_count": null,
   "metadata": {},
   "outputs": [],
   "source": [
    "test_data"
   ]
  },
  {
   "cell_type": "code",
   "execution_count": null,
   "metadata": {},
   "outputs": [],
   "source": [
    "test_data.columns"
   ]
  },
  {
   "cell_type": "code",
   "execution_count": null,
   "metadata": {},
   "outputs": [],
   "source": [
    "# outcome variable\n",
    "test_data['uber_diff'] = test_data['uber_time'] - test_data['freeflow_travel_time']\n",
    "test_data['gg_diff'] = test_data['duration'] - test_data['freeflow_travel_time']"
   ]
  },
  {
   "cell_type": "markdown",
   "metadata": {},
   "source": [
    "## Check Statistics of Penalty Elements"
   ]
  },
  {
   "cell_type": "code",
   "execution_count": null,
   "metadata": {},
   "outputs": [],
   "source": [
    "# mean\n",
    "test_data[['freeflow_travel_time', 'freeflow_signal_count', 'freeflow_stop_count',\n",
    "       'freeflow_crossing_count', 'freeflow_give_way_count',\n",
    "       'freeflow_mini_roundabout_count', 'freeflow_left_count',\n",
    "       'freeflow_right_count', 'freeflow_u_count']].mean()"
   ]
  },
  {
   "cell_type": "code",
   "execution_count": null,
   "metadata": {},
   "outputs": [],
   "source": [
    "# variance\n",
    "test_data[['freeflow_travel_time', 'freeflow_signal_count', 'freeflow_stop_count',\n",
    "       'freeflow_crossing_count', 'freeflow_give_way_count',\n",
    "       'freeflow_mini_roundabout_count', 'freeflow_left_count',\n",
    "       'freeflow_right_count', 'freeflow_u_count']].var()"
   ]
  },
  {
   "cell_type": "markdown",
   "metadata": {},
   "source": [
    "## Negative Binomial Regression"
   ]
  },
  {
   "cell_type": "code",
   "execution_count": null,
   "metadata": {},
   "outputs": [],
   "source": [
    "# Negative Binomial Regression model without intercept - Google Time\n",
    "formula = 'duration ~ 0 + freeflow_travel_time + freeflow_signal_count + freeflow_stop_count + freeflow_crossing_count + freeflow_give_way_count + freeflow_mini_roundabout_count + freeflow_left_count + freeflow_right_count + freeflow_u_count'\n",
    "model = sm.GLM.from_formula(formula, data=test_data, family=sm.families.NegativeBinomial()).fit()\n",
    "\n",
    "# Print Model\n",
    "print(model.summary())"
   ]
  },
  {
   "cell_type": "code",
   "execution_count": null,
   "metadata": {},
   "outputs": [],
   "source": [
    "# Negative Binomial Regression model without intercept - Uber Time\n",
    "formula = 'uber_time ~ 0 + freeflow_travel_time + freeflow_signal_count + freeflow_stop_count + freeflow_crossing_count + freeflow_give_way_count + freeflow_mini_roundabout_count + freeflow_left_count + freeflow_right_count + freeflow_u_count'\n",
    "model = sm.GLM.from_formula(formula, data=test_data, family=sm.families.NegativeBinomial()).fit()\n",
    "\n",
    "# Print Model\n",
    "print(model.summary())"
   ]
  },
  {
   "cell_type": "markdown",
   "metadata": {},
   "source": [
    "## Poisson Regression"
   ]
  },
  {
   "cell_type": "code",
   "execution_count": null,
   "metadata": {},
   "outputs": [],
   "source": [
    "# Poisson Regression - Google Time\n",
    "formula = 'duration ~ 0 + freeflow_travel_time + freeflow_signal_count + freeflow_stop_count + freeflow_crossing_count + freeflow_give_way_count + freeflow_mini_roundabout_count + freeflow_left_count + freeflow_right_count + freeflow_u_count'\n",
    "model = sm.GLM.from_formula(formula, data=test_data, family=sm.families.Poisson()).fit()\n",
    "\n",
    "# Print Model\n",
    "print(model.summary())"
   ]
  },
  {
   "cell_type": "code",
   "execution_count": null,
   "metadata": {},
   "outputs": [],
   "source": [
    "# Negative Binomial Regression model without intercept - Uber Time\n",
    "formula = 'uber_time ~ 0 + freeflow_travel_time + freeflow_signal_count + freeflow_stop_count + freeflow_crossing_count + freeflow_give_way_count + freeflow_mini_roundabout_count + freeflow_left_count + freeflow_right_count + freeflow_u_count'\n",
    "model = sm.GLM.from_formula(formula, data=test_data, family=sm.families.Poisson()).fit()\n",
    "\n",
    "# Print Model\n",
    "print(model.summary())"
   ]
  },
  {
   "cell_type": "markdown",
   "metadata": {},
   "source": [
    "## Zero Inflated Negative Binomial Regression"
   ]
  },
  {
   "cell_type": "code",
   "execution_count": null,
   "metadata": {},
   "outputs": [],
   "source": [
    "# Zero-Inflated Negative Binomial Regression model without intercept - Google Time\n",
    "formula = 'duration ~ 0 + freeflow_travel_time + freeflow_signal_count + freeflow_stop_count + freeflow_crossing_count + freeflow_give_way_count + freeflow_mini_roundabout_count + freeflow_left_count + freeflow_right_count + freeflow_u_count'\n",
    "model = sm.ZeroInflatedNegativeBinomialP.from_formula(formula, data=test_data).fit()\n",
    "\n",
    "# Print Model\n",
    "print(model.summary())"
   ]
  },
  {
   "cell_type": "code",
   "execution_count": null,
   "metadata": {},
   "outputs": [],
   "source": [
    "# Zero-Inflated Negative Binomial Regression model without intercept - Google Time\n",
    "formula = 'uber_time ~ 0 + freeflow_travel_time + freeflow_signal_count + freeflow_stop_count + freeflow_crossing_count + freeflow_give_way_count + freeflow_mini_roundabout_count + freeflow_left_count + freeflow_right_count + freeflow_u_count'\n",
    "model = sm.ZeroInflatedNegativeBinomialP.from_formula(formula, data=test_data).fit()\n",
    "\n",
    "# Print Model\n",
    "print(model.summary())"
   ]
  },
  {
   "cell_type": "markdown",
   "metadata": {},
   "source": [
    "## Zero Inflated Poisson Regression"
   ]
  },
  {
   "cell_type": "code",
   "execution_count": null,
   "metadata": {},
   "outputs": [],
   "source": [
    "# Zero-Inflated Negative Binomial Regression model without intercept - Google Time\n",
    "formula = 'duration ~ 0 + freeflow_travel_time + freeflow_signal_count + freeflow_stop_count + freeflow_crossing_count + freeflow_give_way_count + freeflow_mini_roundabout_count + freeflow_left_count + freeflow_right_count + freeflow_u_count'\n",
    "model = sm.ZeroInflatedPoisson.from_formula(formula, data=test_data).fit()\n",
    "\n",
    "# Print Model\n",
    "print(model.summary())"
   ]
  },
  {
   "cell_type": "code",
   "execution_count": null,
   "metadata": {},
   "outputs": [],
   "source": [
    "# Zero-Inflated Negative Binomial Regression model without intercept - Google Time\n",
    "formula = 'uber_time ~ 0 + freeflow_travel_time + freeflow_signal_count + freeflow_stop_count + freeflow_crossing_count + freeflow_give_way_count + freeflow_mini_roundabout_count + freeflow_left_count + freeflow_right_count + freeflow_u_count'\n",
    "model = sm.ZeroInflatedPoisson.from_formula(formula, data=test_data).fit()\n",
    "\n",
    "# Print Model\n",
    "print(model.summary())"
   ]
  },
  {
   "cell_type": "code",
   "execution_count": null,
   "metadata": {},
   "outputs": [],
   "source": []
  }
 ],
 "metadata": {
  "kernelspec": {
   "display_name": "Python 3.10.10 ('ppd599')",
   "language": "python",
   "name": "python3"
  },
  "language_info": {
   "codemirror_mode": {
    "name": "ipython",
    "version": 3
   },
   "file_extension": ".py",
   "mimetype": "text/x-python",
   "name": "python",
   "nbconvert_exporter": "python",
   "pygments_lexer": "ipython3",
   "version": "3.10.10"
  },
  "orig_nbformat": 4,
  "vscode": {
   "interpreter": {
    "hash": "9459c1f1e6a42d62dba2ec1671ea395e68ff99b4f6ce754dc9cd2717ec5d1a8f"
   }
  }
 },
 "nbformat": 4,
 "nbformat_minor": 2
}

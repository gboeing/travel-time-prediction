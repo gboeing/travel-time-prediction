{
 "cells": [
  {
   "cell_type": "code",
   "execution_count": null,
   "metadata": {},
   "outputs": [],
   "source": [
    "# import libraries\n",
    "import osmnx as ox\n",
    "import networkx as nx\n",
    "import pandas as pd\n",
    "import ast\n",
    "import matplotlib.pyplot as plt\n",
    "import concurrent.futures\n",
    "from shapely.geometry import LineString\n",
    "import geopandas as gpd"
   ]
  },
  {
   "cell_type": "code",
   "execution_count": null,
   "metadata": {},
   "outputs": [],
   "source": [
    "G = ox.io.load_graphml('../Data/LA_clip_convex_strong_network.graphml')"
   ]
  },
  {
   "cell_type": "code",
   "execution_count": null,
   "metadata": {},
   "outputs": [],
   "source": [
    "# import routes\n",
    "route1 = pd.read_csv('../Data/model_iteration/route_result_uber_hod3am_10000_freeflow.csv')\n",
    "route2 = pd.read_csv('../Data/model_iteration/route_result_uber_hod3am_10000_bo_model1.csv')\n",
    "route3 = pd.read_csv('../Data/model_iteration/route_result_uber_hod3am_10000_bo_model2.csv')"
   ]
  },
  {
   "cell_type": "code",
   "execution_count": null,
   "metadata": {},
   "outputs": [],
   "source": [
    "remove = [17, 840, 2179, 3795, 4380, 5747, 8436, 8517]\n",
    "route1 = route1.drop(remove).reset_index(drop=True)\n",
    "route2 = route2.drop(remove).reset_index(drop=True)\n",
    "route3 = route3.drop(remove).reset_index(drop=True)"
   ]
  },
  {
   "cell_type": "code",
   "execution_count": null,
   "metadata": {},
   "outputs": [],
   "source": [
    "route1['freeflow_route'] = [ast.literal_eval(route) for route in route1['freeflow_route']]\n",
    "route2['penalized_route'] = [ast.literal_eval(route) for route in route2['penalized_route']]\n",
    "route3['penalized_route'] = [ast.literal_eval(route) for route in route3['penalized_route']]"
   ]
  },
  {
   "cell_type": "code",
   "execution_count": null,
   "metadata": {},
   "outputs": [],
   "source": [
    "# import google routes\n",
    "od_data = pd.read_csv('../Data/routesdataadded10000.csv')"
   ]
  },
  {
   "cell_type": "code",
   "execution_count": null,
   "metadata": {},
   "outputs": [],
   "source": [
    "od_data.columns"
   ]
  },
  {
   "cell_type": "code",
   "execution_count": null,
   "metadata": {},
   "outputs": [],
   "source": [
    "for node, attr in G.nodes(data=True):\n",
    "    G.nodes[node]['y'] = float(attr['y'])\n",
    "    G.nodes[node]['x'] = float(attr['x'])"
   ]
  },
  {
   "cell_type": "code",
   "execution_count": null,
   "metadata": {},
   "outputs": [],
   "source": [
    "## find top 20 routes that are different in travel time\n",
    "diff = pd.DataFrame()\n",
    "diff['route1'] = od_data['duration'] - route1['freeflow_travel_time']\n",
    "diff['route2'] = od_data['duration'] - route2['penalized_total_time']\n",
    "diff['route3'] = od_data['duration'] - route3['penalized_total_time']\n",
    "diff['total'] = diff['route1'] + diff['route2'] + diff['route3']"
   ]
  },
  {
   "cell_type": "code",
   "execution_count": null,
   "metadata": {},
   "outputs": [],
   "source": [
    "diff = diff.dropna()\n",
    "diff"
   ]
  },
  {
   "cell_type": "code",
   "execution_count": null,
   "metadata": {},
   "outputs": [],
   "source": [
    "diff.columns"
   ]
  },
  {
   "cell_type": "code",
   "execution_count": null,
   "metadata": {},
   "outputs": [],
   "source": [
    "timecomparison = pd.DataFrame()\n",
    "timecomparison['route1'] = route1['freeflow_travel_time']\n",
    "timecomparison['route2'] = route2['penalized_total_time']\n",
    "timecomparison['route3'] = route3['penalized_total_time']\n",
    "timecomparison['google'] = od_data['duration']"
   ]
  },
  {
   "cell_type": "code",
   "execution_count": null,
   "metadata": {},
   "outputs": [],
   "source": [
    "timecomparison"
   ]
  },
  {
   "cell_type": "markdown",
   "metadata": {},
   "source": [
    "## Greatest"
   ]
  },
  {
   "cell_type": "code",
   "execution_count": null,
   "metadata": {},
   "outputs": [],
   "source": [
    "diff = diff.sort_values(ascending=False, by='total')\n",
    "diff.head(20)"
   ]
  },
  {
   "cell_type": "code",
   "execution_count": null,
   "metadata": {},
   "outputs": [],
   "source": [
    "most_diff = diff.head(20).index\n",
    "most_diff"
   ]
  },
  {
   "cell_type": "code",
   "execution_count": null,
   "metadata": {},
   "outputs": [],
   "source": [
    "od_data_longer = od_data['polyline'][most_diff]"
   ]
  },
  {
   "cell_type": "code",
   "execution_count": null,
   "metadata": {},
   "outputs": [],
   "source": [
    "od_data_longer"
   ]
  },
  {
   "cell_type": "code",
   "execution_count": null,
   "metadata": {},
   "outputs": [],
   "source": [
    "linestrings = [LineString(ast.literal_eval(item)) for item in od_data_longer]"
   ]
  },
  {
   "cell_type": "code",
   "execution_count": null,
   "metadata": {},
   "outputs": [],
   "source": [
    "for i in range(10):\n",
    "    fig, ax = ox.plot_graph(G, bgcolor='k', show=False, close=False, node_size=0)\n",
    "    \n",
    "    y, x = linestrings[i].xy\n",
    "    ax.plot(x, y, color='red', linewidth=4)\n",
    "\n",
    "    route1_list = route1['freeflow_route'].iloc[most_diff[i]]\n",
    "    route2_list = route2['penalized_route'].iloc[most_diff[i]]\n",
    "    route3_list = route3['penalized_route'].iloc[most_diff[i]]\n",
    "\n",
    "    routes = [route1_list, route2_list, route3_list]\n",
    "    route_colors = ['yellow', 'green', 'blue']\n",
    "\n",
    "    ox.plot_graph_routes(G, routes=routes, route_colors=route_colors, route_linewidth=3, bgcolor='k', node_size=0, ax=ax)\n",
    "\n",
    "plt.show()"
   ]
  },
  {
   "cell_type": "code",
   "execution_count": null,
   "metadata": {},
   "outputs": [],
   "source": [
    "timecomparison.iloc[most_diff][0:10]"
   ]
  },
  {
   "cell_type": "markdown",
   "metadata": {},
   "source": [
    "## Least"
   ]
  },
  {
   "cell_type": "code",
   "execution_count": null,
   "metadata": {},
   "outputs": [],
   "source": [
    "diff = diff.sort_values(ascending=True, by='total')\n",
    "less_diff = diff[diff['total'] > 0]\n",
    "less_diff.head(20)"
   ]
  },
  {
   "cell_type": "code",
   "execution_count": null,
   "metadata": {},
   "outputs": [],
   "source": [
    "od_data_less_index = less_diff.head(20).index\n",
    "od_data_less_index"
   ]
  },
  {
   "cell_type": "code",
   "execution_count": null,
   "metadata": {},
   "outputs": [],
   "source": [
    "od_data_least = od_data['polyline'][od_data_less_index]\n",
    "linestrings = [LineString(ast.literal_eval(item)) for item in od_data_least]"
   ]
  },
  {
   "cell_type": "code",
   "execution_count": null,
   "metadata": {},
   "outputs": [],
   "source": [
    "for i in range(10):\n",
    "    fig, ax = ox.plot_graph(G, bgcolor='k', show=False, close=False, node_size=0)\n",
    "    \n",
    "    y, x = linestrings[i].xy\n",
    "    ax.plot(x, y, color='red', linewidth=4)\n",
    "\n",
    "    route1_list = route1['freeflow_route'].iloc[od_data_less_index[i]]\n",
    "    route2_list = route2['penalized_route'].iloc[od_data_less_index[i]]\n",
    "    route3_list = route3['penalized_route'].iloc[od_data_less_index[i]]\n",
    "\n",
    "    routes = [route1_list, route2_list, route3_list]\n",
    "    route_colors = ['yellow', 'green', 'blue']\n",
    "\n",
    "    ox.plot_graph_routes(G, routes=routes, route_colors=route_colors, route_linewidth=3, bgcolor='k', node_size=0, ax=ax)\n",
    "\n",
    "plt.show()"
   ]
  },
  {
   "cell_type": "code",
   "execution_count": null,
   "metadata": {},
   "outputs": [],
   "source": [
    "timecomparison.iloc[od_data_less_index][0:10]"
   ]
  },
  {
   "cell_type": "markdown",
   "metadata": {},
   "source": [
    "## Median"
   ]
  },
  {
   "cell_type": "code",
   "execution_count": null,
   "metadata": {},
   "outputs": [],
   "source": [
    "diff = diff.sort_values(ascending=True, by='total')\n",
    "\n",
    "median_index = len(diff) // 2\n",
    "\n",
    "lower_bound = max(0, median_index - 5)\n",
    "upper_bound = min(len(diff), median_index + 5)\n",
    "\n",
    "median_10 = diff.iloc[lower_bound:upper_bound]"
   ]
  },
  {
   "cell_type": "code",
   "execution_count": null,
   "metadata": {},
   "outputs": [],
   "source": [
    "m_index = median_10.index\n",
    "median_route = od_data['polyline'][m_index]"
   ]
  },
  {
   "cell_type": "code",
   "execution_count": null,
   "metadata": {},
   "outputs": [],
   "source": [
    "linestrings = [LineString(ast.literal_eval(item)) for item in median_route]"
   ]
  },
  {
   "cell_type": "code",
   "execution_count": null,
   "metadata": {},
   "outputs": [],
   "source": [
    "for i in range(10):\n",
    "    fig, ax = ox.plot_graph(G, bgcolor='k', show=False, close=False, node_size=0)\n",
    "    \n",
    "    y, x = linestrings[i].xy\n",
    "    ax.plot(x, y, color='red', linewidth=4)\n",
    "\n",
    "    route1_list = route1['freeflow_route'].iloc[m_index[i]]\n",
    "    route2_list = route2['penalized_route'].iloc[m_index[i]]\n",
    "    route3_list = route3['penalized_route'].iloc[m_index[i]]\n",
    "\n",
    "    routes = [route1_list, route2_list, route3_list]\n",
    "    route_colors = ['yellow', 'green', 'blue']\n",
    "\n",
    "    ox.plot_graph_routes(G, routes=routes, route_colors=route_colors, route_linewidth=3, bgcolor='k', node_size=0, ax=ax)\n",
    "\n",
    "plt.show()"
   ]
  },
  {
   "cell_type": "code",
   "execution_count": null,
   "metadata": {},
   "outputs": [],
   "source": [
    "timecomparison.iloc[m_index][0:10]"
   ]
  },
  {
   "cell_type": "markdown",
   "metadata": {},
   "source": [
    "## Negative Difference"
   ]
  },
  {
   "cell_type": "code",
   "execution_count": null,
   "metadata": {},
   "outputs": [],
   "source": [
    "diff = diff.sort_values(ascending=True, by='total')\n",
    "shorter_google = diff[diff['total'] < 0]\n",
    "shorter_index = shorter_google.index"
   ]
  },
  {
   "cell_type": "code",
   "execution_count": null,
   "metadata": {},
   "outputs": [],
   "source": [
    "shorter_index"
   ]
  },
  {
   "cell_type": "code",
   "execution_count": null,
   "metadata": {},
   "outputs": [],
   "source": [
    "negative = od_data['polyline'][shorter_index]\n",
    "linestrings = [LineString(ast.literal_eval(item)) for item in negative]"
   ]
  },
  {
   "cell_type": "code",
   "execution_count": null,
   "metadata": {},
   "outputs": [],
   "source": [
    "for i in range(10):\n",
    "    fig, ax = ox.plot_graph(G, bgcolor='k', show=False, close=False, node_size=0)\n",
    "    \n",
    "    y, x = linestrings[i].xy\n",
    "    ax.plot(x, y, color='red', linewidth=4)\n",
    "\n",
    "    route1_list = route1['freeflow_route'].iloc[shorter_index[i]]\n",
    "    route2_list = route2['penalized_route'].iloc[shorter_index[i]]\n",
    "    route3_list = route3['penalized_route'].iloc[shorter_index[i]]\n",
    "\n",
    "    routes = [route1_list, route2_list, route3_list]\n",
    "    route_colors = ['yellow', 'green', 'blue']\n",
    "\n",
    "    ox.plot_graph_routes(G, routes=routes, route_colors=route_colors, route_linewidth=3, bgcolor='k', node_size=0, ax=ax)\n",
    "\n",
    "plt.show()"
   ]
  },
  {
   "cell_type": "code",
   "execution_count": null,
   "metadata": {},
   "outputs": [],
   "source": [
    "timecomparison.iloc[shorter_index][0:10]"
   ]
  },
  {
   "cell_type": "code",
   "execution_count": null,
   "metadata": {},
   "outputs": [],
   "source": []
  }
 ],
 "metadata": {
  "kernelspec": {
   "display_name": "Python 3.10.10 ('ppd599')",
   "language": "python",
   "name": "python3"
  },
  "language_info": {
   "codemirror_mode": {
    "name": "ipython",
    "version": 3
   },
   "file_extension": ".py",
   "mimetype": "text/x-python",
   "name": "python",
   "nbconvert_exporter": "python",
   "pygments_lexer": "ipython3",
   "version": "3.10.10"
  },
  "orig_nbformat": 4,
  "vscode": {
   "interpreter": {
    "hash": "9459c1f1e6a42d62dba2ec1671ea395e68ff99b4f6ce754dc9cd2717ec5d1a8f"
   }
  }
 },
 "nbformat": 4,
 "nbformat_minor": 2
}

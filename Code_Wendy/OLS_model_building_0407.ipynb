{
 "cells": [
  {
   "cell_type": "markdown",
   "source": "# OLS Model Building for penalty estimation",
   "metadata": {
    "collapsed": false
   },
   "id": "9b32017706d585bf"
  },
  {
   "cell_type": "code",
   "id": "initial_id",
   "metadata": {
    "collapsed": true
   },
   "source": [
    "import pandas as pd\n",
    "import statsmodels.api as sm\n",
    "import matplotlib.pyplot as plt\n",
    "import seaborn as sns\n",
    "from sklearn.model_selection import train_test_split\n",
    "from statsmodels.stats.outliers_influence import variance_inflation_factor"
   ],
   "outputs": [],
   "execution_count": null
  },
  {
   "cell_type": "code",
   "source": [
    "# setting up file path\n",
    "file_path = '../Data/'\n",
    "output_file_path = file_path + 'Output/'"
   ],
   "metadata": {
    "collapsed": false
   },
   "id": "dc422e227c99475c",
   "outputs": [],
   "execution_count": null
  },
  {
   "cell_type": "code",
   "source": [
    "# import the dataframe with the result of freeflow travel time and routing \n",
    "ff_df = pd.read_csv(output_file_path + 'result0226/' + \"freeflow_OD3am_all_googlerouteapi_new_graph_new_turn_control_slight.csv\")"
   ],
   "metadata": {
    "collapsed": false
   },
   "id": "ed12ac8153764bbf",
   "outputs": [],
   "execution_count": null
  },
  {
   "cell_type": "code",
   "source": [
    "# Import the result of google route api travel time\n",
    "gg_df_result_all = pd.read_csv(output_file_path + 'googlerouteapi2024allresult.csv')"
   ],
   "metadata": {
    "collapsed": false
   },
   "id": "72c3223251e4a4d5",
   "outputs": [],
   "execution_count": null
  },
  {
   "cell_type": "code",
   "source": [
    "# merge the freeflow travel time and google travel time into one dataframe\n",
    "df = ff_df.merge(gg_df_result_all, left_on=['oid', 'did'], right_on=['oid', 'did'])"
   ],
   "metadata": {
    "collapsed": false
   },
   "id": "3b9ac3ca9a3fe971",
   "outputs": [],
   "execution_count": null
  },
  {
   "cell_type": "code",
   "source": [
    "# split the training and testing set\n",
    "train1, test1 = train_test_split(df, test_size=0.2, random_state=123)"
   ],
   "metadata": {
    "collapsed": false
   },
   "id": "2f1bd889419fa71a",
   "outputs": [],
   "execution_count": null
  },
  {
   "cell_type": "markdown",
   "source": [
    "## OLS Model 1: based on freeflow routing"
   ],
   "metadata": {
    "collapsed": false
   },
   "id": "89123496e666856d"
  },
  {
   "cell_type": "code",
   "source": [
    "# model the difference between google travel time and edge freeflow traversal travel time\n",
    "train1['diff'] = train1['duration']-train1['travel_time']"
   ],
   "metadata": {
    "collapsed": false
   },
   "id": "6a754cb755b3fe8e",
   "outputs": [],
   "execution_count": null
  },
  {
   "cell_type": "code",
   "source": [
    "# model all the traffic control and turn count to explain the difference between google travel time and edge freeflow traversal travel time\n",
    "res = sm.OLS(endog=train1['diff'], exog=train1[['signal_count', 'stop_count', 'crossing_count', 'give_way_count','mini_roundabout_count','left_count','slight_left_count','right_count','slight_right_count', 'u_count']].assign(intercept=0)).fit()\n",
    "print(res.summary())"
   ],
   "metadata": {
    "collapsed": false
   },
   "id": "89e6f041a1c25cc6",
   "outputs": [],
   "execution_count": null
  },
  {
   "cell_type": "code",
   "source": [
    "# only include significant and positive coefficients\n",
    "res2 = sm.OLS(endog=train1['diff'], exog=train1[['signal_count', 'stop_count', 'crossing_count', 'left_count','right_count','slight_right_count', 'u_count']].assign(intercept=0)).fit()\n",
    "print(res2.summary())"
   ],
   "metadata": {
    "collapsed": false
   },
   "id": "c7444072ac05cea9",
   "outputs": [],
   "execution_count": null
  },
  {
   "cell_type": "code",
   "source": [
    "# only include significant and positive coefficients, excluding slight right count\n",
    "res3 = sm.OLS(endog=train1['diff'], exog=train1[['signal_count', 'stop_count', 'crossing_count', 'left_count','right_count','u_count']].assign(intercept=0)).fit()\n",
    "print(res3.summary())"
   ],
   "metadata": {
    "collapsed": false
   },
   "id": "3f5ebf313e338116",
   "outputs": [],
   "execution_count": null
  },
  {
   "cell_type": "code",
   "source": [
    "# only include significant and positive coefficients, excluding slight right count and crossing count\n",
    "res4 = sm.OLS(endog=train1['diff'], exog=train1[['signal_count', 'stop_count', 'left_count', 'right_count', 'u_count']].assign(intercept=0)).fit()\n",
    "print(res4.summary())"
   ],
   "metadata": {
    "collapsed": false
   },
   "id": "3772f84e959bd1f4",
   "outputs": [],
   "execution_count": null
  },
  {
   "cell_type": "code",
   "source": [
    "# include only turns\n",
    "res5 = sm.OLS(endog=train1['diff'], exog=train1[['left_count','slight_left_count','right_count','slight_right_count', 'u_count']].assign(intercept=0)).fit()\n",
    "print(res5.summary())"
   ],
   "metadata": {
    "collapsed": false
   },
   "id": "e1d31fcc09056b04",
   "outputs": [],
   "execution_count": null
  },
  {
   "cell_type": "markdown",
   "source": "## OLS Revised Model 1: Re-estimate the OLS model based on the routing result based on the coefficient estimated by the OLS models above\n",
   "metadata": {
    "collapsed": false
   },
   "id": "e1422b337315c4bc"
  },
  {
   "cell_type": "markdown",
   "source": [
    "### Use the coefficient of only turns in model 1 to run the penalized routing (using OD_pairs_time_distance_uber_routes_0224.py)"
   ],
   "metadata": {
    "collapsed": false
   },
   "id": "f383d38afe5da76d"
  },
  {
   "cell_type": "code",
   "source": [
    "# Import the result\n",
    "p_df2 = pd.read_csv(output_file_path + 'result0319parsimonious/'+ 'penalized_OD3am_all_googlerouteapi_model1_parsi.csv')"
   ],
   "metadata": {
    "collapsed": false
   },
   "id": "282381b1264aac22",
   "outputs": [],
   "execution_count": null
  },
  {
   "cell_type": "code",
   "source": [
    "# merge with Google travel time into one dataframe\n",
    "df2 = p_df2.merge(gg_df_result_all, left_on=['oid', 'did'], right_on=['oid', 'did'])"
   ],
   "metadata": {
    "collapsed": false
   },
   "id": "97510deda5b942ea",
   "outputs": [],
   "execution_count": null
  },
  {
   "cell_type": "code",
   "source": [
    "# split the training and testing set\n",
    "train2, test2 = train_test_split(df2, test_size=0.2, random_state=123)"
   ],
   "metadata": {
    "collapsed": false
   },
   "id": "6bee87ae19139bfb",
   "outputs": [],
   "execution_count": null
  },
  {
   "cell_type": "markdown",
   "source": [
    "## OLS Revised Model 2\n"
   ],
   "metadata": {
    "collapsed": false
   },
   "id": "21803eb664a0c12c"
  },
  {
   "cell_type": "code",
   "source": [
    "train2['diff'] = train2['duration'] - train2['total_time_with_turn_penalty']"
   ],
   "metadata": {
    "collapsed": false
   },
   "id": "22e6a7b606f6a90c",
   "outputs": [],
   "execution_count": null
  },
  {
   "cell_type": "code",
   "source": [
    "res6 = sm.OLS(endog=train2['diff'], exog=train2[['left_count','slight_left_count','right_count','slight_right_count', 'u_count']].assign(intercept=0)).fit()\n",
    "print(res6.summary())"
   ],
   "metadata": {
    "collapsed": false
   },
   "id": "57c0fab4309f70ae",
   "outputs": [],
   "execution_count": null
  },
  {
   "cell_type": "markdown",
   "source": [
    "\n",
    "### Add the significant coefficients in new revised model 2 to the previous penalties in model 1 and run the penalized routing (using OD_pairs_time_distance_uber_routes_0224.py)\n",
    "\n"
   ],
   "metadata": {
    "collapsed": false
   },
   "id": "a4efad975e5d5409"
  },
  {
   "cell_type": "code",
   "source": [
    "p_df3 = pd.read_csv(output_file_path + 'result0319parsimonious/'+ 'penalized_OD3am_all_googlerouteapi_model2_parsi.csv')"
   ],
   "metadata": {
    "collapsed": false
   },
   "id": "70e219efa72a3b61",
   "outputs": [],
   "execution_count": null
  },
  {
   "cell_type": "code",
   "source": [
    "# merge with google travel time into one dataframe\n",
    "df3 = p_df3.merge(gg_df_result_all, left_on=['oid', 'did'], right_on=['oid', 'did'])\n",
    "# split the training and testing set\n",
    "train3, test3 = train_test_split(df3, test_size=0.2, random_state=123)"
   ],
   "metadata": {
    "collapsed": false
   },
   "id": "e69942a834ee1acb",
   "outputs": [],
   "execution_count": null
  },
  {
   "cell_type": "markdown",
   "source": [
    "## OLS Revised Model 2"
   ],
   "metadata": {
    "collapsed": false
   },
   "id": "5fb990348dd3194a"
  },
  {
   "cell_type": "code",
   "source": [
    "train3['diff'] = train3['duration'] - train3['total_time_with_turn_penalty']"
   ],
   "metadata": {
    "collapsed": false
   },
   "id": "dc924615372f56dc",
   "outputs": [],
   "execution_count": null
  },
  {
   "cell_type": "code",
   "source": [
    "res7 = sm.OLS(endog=train3['diff'], exog=train3[['left_count','slight_left_count','right_count','slight_right_count', 'u_count']].assign(intercept=0)).fit()\n",
    "print(res4.summary())"
   ],
   "metadata": {
    "collapsed": false
   },
   "id": "bcc6b700261377b1",
   "outputs": [],
   "execution_count": null
  }
 ],
 "metadata": {
  "kernelspec": {
   "display_name": "Python 3",
   "language": "python",
   "name": "python3"
  },
  "language_info": {
   "codemirror_mode": {
    "name": "ipython",
    "version": 2
   },
   "file_extension": ".py",
   "mimetype": "text/x-python",
   "name": "python",
   "nbconvert_exporter": "python",
   "pygments_lexer": "ipython2",
   "version": "2.7.6"
  }
 },
 "nbformat": 4,
 "nbformat_minor": 5
}

{
 "cells": [
  {
   "cell_type": "code",
   "execution_count": null,
   "id": "initial_id",
   "metadata": {},
   "outputs": [],
   "source": [
    "import pandas as pd\n",
    "import numpy as np\n",
    "from sklearn.model_selection import train_test_split\n",
    "from sklearn.model_selection import RandomizedSearchCV\n",
    "from sklearn.ensemble import RandomForestRegressor\n",
    "from sklearn.metrics import mean_squared_error, r2_score\n",
    "from pprint import pprint\n",
    "from scipy import stats\n",
    "from sklearn.model_selection import GridSearchCV\n",
    "import statsmodels.api as sm\n",
    "from sklearn.model_selection import cross_val_score"
   ]
  },
  {
   "cell_type": "code",
   "execution_count": null,
   "id": "18a0d7ce87b4903a",
   "metadata": {},
   "outputs": [],
   "source": [
    "# file paths\n",
    "file_path = '../Data/'\n",
    "output_file_path = file_path + 'Output/'"
   ]
  },
  {
   "cell_type": "code",
   "execution_count": null,
   "id": "1163fe5da854c9de",
   "metadata": {},
   "outputs": [],
   "source": [
    "# import the freeflow result based on non-simplified graph\n",
    "ff_df = pd.read_csv(\n",
    "    output_file_path + 'result0226/' + \"freeflow_OD3am_all_googlerouteapi_new_graph_new_turn_control_slight.csv\")"
   ]
  },
  {
   "cell_type": "code",
   "execution_count": null,
   "id": "d4b86c987fa24421",
   "metadata": {},
   "outputs": [],
   "source": [
    "# import the google api result\n",
    "gg_df_result_all = pd.read_csv(output_file_path + 'googlerouteapi2024allresult.csv')\n",
    "# merge the freeflow travel time and google travel time into one dataframe\n",
    "df = ff_df.merge(gg_df_result_all, left_on=['oid', 'did'], right_on=['oid', 'did'])"
   ]
  },
  {
   "cell_type": "code",
   "execution_count": null,
   "id": "1f9e1ea3785a546e",
   "metadata": {},
   "outputs": [],
   "source": [
    "df['diff'] = df['duration'] - df['travel_time']"
   ]
  },
  {
   "cell_type": "markdown",
   "id": "c63e9ca6410808d2",
   "metadata": {
    "collapsed": false
   },
   "source": [
    "# Default Baseline Random Forest Regression Model"
   ]
  },
  {
   "cell_type": "code",
   "execution_count": null,
   "id": "bf0de26baffbe160",
   "metadata": {},
   "outputs": [],
   "source": [
    "# split train and test set\n",
    "train1, test1 = train_test_split(df, test_size=0.2, random_state=123)"
   ]
  },
  {
   "cell_type": "code",
   "execution_count": null,
   "id": "b970d7297d88c11a",
   "metadata": {},
   "outputs": [],
   "source": [
    "y = train1['duration']\n",
    "x =train1[['signal_count', 'stop_count', 'crossing_count', 'give_way_count','mini_roundabout_count','left_count','slight_left_count','right_count','slight_right_count', 'u_count','travel_time']]\n",
    "x_test =test1[['signal_count', 'stop_count', 'crossing_count', 'give_way_count','mini_roundabout_count','left_count','slight_left_count','right_count','slight_right_count', 'u_count','travel_time']]\n",
    "y_test = test1['duration']"
   ]
  },
  {
   "cell_type": "code",
   "execution_count": null,
   "id": "585c463b3317e431",
   "metadata": {},
   "outputs": [],
   "source": [
    "# Fitting the default Random forest Regression to the dataset\n",
    "regressor = RandomForestRegressor()\n",
    "# Fit the regressor with x and y data\n",
    "regressor.fit(x, y)"
   ]
  },
  {
   "cell_type": "code",
   "execution_count": null,
   "id": "a44b483f91826353",
   "metadata": {},
   "outputs": [],
   "source": [
    "# Predict the result\n",
    "predictions = regressor.predict(x_test)"
   ]
  },
  {
   "cell_type": "code",
   "execution_count": null,
   "id": "5abf1dbc47fff9f3",
   "metadata": {},
   "outputs": [],
   "source": [
    "Errors=abs(predictions-y_test)\n",
    "print('Average baseline error:', round(np.mean(Errors), 3), ' seconds')"
   ]
  },
  {
   "cell_type": "code",
   "execution_count": null,
   "id": "ff362d34b2a89455",
   "metadata": {},
   "outputs": [],
   "source": [
    "test1['rf_predict_default'] = regressor.predict(x_test)"
   ]
  },
  {
   "cell_type": "code",
   "execution_count": null,
   "id": "831504d06d1a1460",
   "metadata": {},
   "outputs": [],
   "source": [
    "# Evaluating the default random forest model: mean square error and r-squared\n",
    "mse = mean_squared_error(y_test, predictions)\n",
    "print(f'Mean Squared Error: {mse}')\n",
    "r2 = r2_score(y_test, predictions)\n",
    "print(f'R-squared: {r2}')\n"
   ]
  },
  {
   "cell_type": "code",
   "execution_count": null,
   "id": "f6f905a643df7df7",
   "metadata": {},
   "outputs": [],
   "source": [
    "errors = abs(y_test - test1['travel_time'])\n",
    "print('Average Error: {:0.3f} seconds.'.format(np.mean(errors)))"
   ]
  },
  {
   "cell_type": "code",
   "execution_count": null,
   "id": "153c1515700aa1ea",
   "metadata": {},
   "outputs": [],
   "source": [
    "mape = 100 * np.mean(errors / y_test )\n",
    "accuracy = 100 - mape\n",
    "print('Average Accuracy = {:0.2f}%.'.format(accuracy))\n",
    "print('MAPE= {:0.2f}%.'.format(mape))"
   ]
  },
  {
   "cell_type": "markdown",
   "id": "38ab115e8dfbb94b",
   "metadata": {},
   "source": [
    "## Freeflow travel time prediction"
   ]
  },
  {
   "cell_type": "markdown",
   "id": "513753c6989ce219",
   "metadata": {
    "collapsed": false
   },
   "source": [
    "## Hyper tuning of random forest regression"
   ]
  },
  {
   "cell_type": "code",
   "execution_count": null,
   "id": "7b0c03fd86b9f87c",
   "metadata": {},
   "outputs": [],
   "source": [
    "regressor = RandomForestRegressor(random_state=123)"
   ]
  },
  {
   "cell_type": "code",
   "execution_count": null,
   "id": "a4fd995b0787f1a8",
   "metadata": {},
   "outputs": [],
   "source": [
    "# default model hyper-parameter\n",
    "print('Parameters currently in use:\\n')\n",
    "pprint(regressor.get_params())"
   ]
  },
  {
   "cell_type": "code",
   "execution_count": null,
   "id": "df6b221ca34482a4",
   "metadata": {},
   "outputs": [],
   "source": [
    "# Create and rid of hyper parameters\n",
    "# Number of trees in random forest\n",
    "n_estimators = [int(x) for x in np.linspace(start = 100, stop = 1000, num = 10)]\n",
    "# Number of features to consider at every split\n",
    "max_features = ['sqrt', 'log2', None]\n",
    "# Maximum number of levels in tree\n",
    "max_depth = [int(x) for x in np.linspace(10, 110, num = 11)]\n",
    "max_depth.append(None)\n",
    "# Minimum number of samples required to split a node\n",
    "min_samples_split = [2, 5, 10, None]\n",
    "# Minimum number of samples required at each leaf node\n",
    "min_samples_leaf = [1, 2, 4]\n",
    "# Method of selecting samples for training each tree\n",
    "bootstrap = [True, False]\n",
    "# Create the random grid\n",
    "random_grid = {'n_estimators': n_estimators,\n",
    "               'max_features': max_features,\n",
    "               'max_depth': max_depth,\n",
    "               'min_samples_split': min_samples_split,\n",
    "               'bootstrap': bootstrap}\n",
    "pprint(random_grid)"
   ]
  },
  {
   "cell_type": "code",
   "execution_count": null,
   "id": "2a3c0b4257d75a97",
   "metadata": {},
   "outputs": [],
   "source": [
    "train_labels = train1['duration']\n",
    "train_features =train1[['signal_count', 'stop_count', 'crossing_count', 'give_way_count','mini_roundabout_count','left_count','slight_left_count','right_count','slight_right_count', 'u_count','travel_time']]\n",
    "test_features =test1[['signal_count', 'stop_count', 'crossing_count', 'give_way_count','mini_roundabout_count','left_count','slight_left_count','right_count','slight_right_count', 'u_count','travel_time']]\n",
    "test_labels = test1['duration']"
   ]
  },
  {
   "cell_type": "markdown",
   "id": "d9e95ece40191ec5",
   "metadata": {},
   "source": [
    "## Complete grid search"
   ]
  },
  {
   "cell_type": "code",
   "execution_count": null,
   "id": "615832efbafa7ddd",
   "metadata": {},
   "outputs": [],
   "source": [
    "# Use the complete grid to search for best hyperparameters\n",
    "# First create the base model to tune\n",
    "rf = RandomForestRegressor(random_state = 123)\n",
    "# Random search of parameters, using 5 fold cross validation, \n",
    "# search across 100 different combinations, and use all available cores\n",
    "rf_complete = GridSearchCV(estimator=rf,param_grid=random_grid, scoring='neg_mean_absolute_error', \n",
    "                              cv = 5, verbose=2, n_jobs= -1,\n",
    "                              return_train_score=True)\n",
    "\n",
    "# Fit the random search model\n",
    "rf_complete.fit(train_features, train_labels);"
   ]
  },
  {
   "cell_type": "code",
   "execution_count": null,
   "id": "1750979ea572f9c3",
   "metadata": {},
   "outputs": [],
   "source": [
    "rf_complete.best_params_\n"
   ]
  },
  {
   "cell_type": "code",
   "execution_count": null,
   "id": "22e11ae1ae366f54",
   "metadata": {},
   "outputs": [],
   "source": [
    "param_accuracy = pd.concat([pd.DataFrame(rf_complete.cv_results_[\"params\"]),pd.DataFrame(rf_complete.cv_results_[\"mean_test_score\"], columns=[\"Accuracy\"])],axis=1)"
   ]
  },
  {
   "cell_type": "code",
   "execution_count": null,
   "id": "dc5523a43c645b0f",
   "metadata": {},
   "outputs": [],
   "source": [
    "param_accuracy.to_csv(output_file_path + 'result0331/' + 'param_accuracy_completegridsearch_0514.csv')"
   ]
  },
  {
   "cell_type": "markdown",
   "id": "27dba0db46371460",
   "metadata": {},
   "source": [
    "## Random grid search"
   ]
  },
  {
   "cell_type": "code",
   "execution_count": null,
   "id": "dd6159932f061ba2",
   "metadata": {},
   "outputs": [],
   "source": [
    "# Use the random grid to search for best hyperparameters\n",
    "# First create the base model to tune\n",
    "rf = RandomForestRegressor(random_state = 123)\n",
    "# Random search of parameters, using 5 fold cross validation, \n",
    "# search across 100 different combinations, and use all available cores\n",
    "rf_random = RandomizedSearchCV(estimator=rf, param_distributions=random_grid,\n",
    "                              n_iter = 100, scoring='neg_mean_absolute_error', \n",
    "                              cv = 5, verbose=2, random_state=123, n_jobs= -1,\n",
    "                              return_train_score=True)\n",
    "\n",
    "# Fit the random search model\n",
    "rf_random.fit(train_features, train_labels);"
   ]
  },
  {
   "cell_type": "code",
   "execution_count": null,
   "id": "a21622c68cb285e5",
   "metadata": {},
   "outputs": [],
   "source": [
    "# the best hyper parameters\n",
    "rf_random.best_params_"
   ]
  },
  {
   "cell_type": "markdown",
   "id": "4457906d30ef0a9f",
   "metadata": {},
   "source": [
    "## Performance evaluation"
   ]
  },
  {
   "cell_type": "code",
   "execution_count": null,
   "id": "52fa78142323cc68",
   "metadata": {},
   "outputs": [],
   "source": [
    "def evaluate(model, test_features, test_labels):\n",
    "    predictions = model.predict(test_features)\n",
    "    errors = abs(predictions - test_labels)\n",
    "    mape = 100 * np.mean(errors / test_labels)\n",
    "    accuracy = 100 - mape\n",
    "    print('Model Performance')\n",
    "    print('Average Error: {:0.4f} seconds.'.format(np.mean(errors)))\n",
    "    print('Accuracy = {:0.2f}%.'.format(accuracy))\n",
    "    \n",
    "    return accuracy"
   ]
  },
  {
   "cell_type": "code",
   "execution_count": null,
   "id": "eb84ef8eb6ff173a",
   "metadata": {},
   "outputs": [],
   "source": [
    "# base model\n",
    "base_model = RandomForestRegressor(n_estimators = 100, random_state = 123)\n",
    "base_model.fit(train_features, train_labels)\n",
    "base_accuracy = evaluate(base_model, test_features, test_labels)"
   ]
  },
  {
   "cell_type": "code",
   "execution_count": null,
   "id": "7a5aec3739e35118",
   "metadata": {},
   "outputs": [],
   "source": [
    "predictions = base_model.predict(test_features)\n",
    "# Evaluating the model\n",
    "mse = mean_squared_error(test_labels, predictions)\n",
    "print(f'Mean Squared Error: {mse}')\n",
    "r2 = r2_score(y_test, predictions)\n",
    "print(f'R-squared: {r2}')"
   ]
  },
  {
   "cell_type": "code",
   "execution_count": null,
   "id": "93e13c4f3f59a418",
   "metadata": {},
   "outputs": [],
   "source": [
    "#best model based on randomized hyper-parameter tuning\n",
    "best_random = RandomForestRegressor(n_estimators = 600, random_state = 123, min_samples_split = 2, max_features = None, max_depth=10, bootstrap=True)\n",
    "best_random.fit(train_features, train_labels)\n",
    "random_accuracy = evaluate(best_random, test_features, test_labels)"
   ]
  },
  {
   "cell_type": "code",
   "execution_count": null,
   "id": "ea5de8261832e91a",
   "metadata": {},
   "outputs": [],
   "source": [
    "predictions = best_random.predict(test_features)\n",
    "# Evaluating the model\n",
    "mse = mean_squared_error(test_labels, predictions)\n",
    "print(f'Mean Squared Error: {mse}')\n",
    "r2 = r2_score(y_test, predictions)\n",
    "print(f'R-squared: {r2}')"
   ]
  },
  {
   "cell_type": "code",
   "execution_count": null,
   "id": "5fdf662f63aa93a2",
   "metadata": {},
   "outputs": [],
   "source": [
    "test1['best_rf_predict_random'] = best_random.predict(test_features)"
   ]
  },
  {
   "cell_type": "code",
   "execution_count": null,
   "id": "4c9c9e376cc6ede1",
   "metadata": {},
   "outputs": [],
   "source": [
    "# t-test\n",
    "stats.ttest_rel(test1['best_rf_predict_random'], test_labels)"
   ]
  },
  {
   "cell_type": "code",
   "execution_count": null,
   "id": "c4790b21a4a7233b",
   "metadata": {},
   "outputs": [],
   "source": [
    "response = \"duration\"\n",
    "predictors = [\"best_rf_predict_random\"]\n",
    "data = test1[[response] + predictors].dropna()\n",
    "X = data[predictors]\n",
    "y = data[response]\n",
    "model1 = sm.OLS(y, sm.add_constant(X))\n",
    "result1 = model1.fit()\n",
    "print(result1.summary())"
   ]
  },
  {
   "cell_type": "code",
   "execution_count": null,
   "id": "c1ac87b8301f0cde",
   "metadata": {},
   "outputs": [],
   "source": [
    "#best model based on complete hyper-parameter tuning\n",
    "best_complete = RandomForestRegressor(n_estimators = 1000, random_state = 123, min_samples_split = 10, max_features = None, max_depth=10, bootstrap=True)\n",
    "best_complete.fit(train_features, train_labels)\n",
    "random_accuracy = evaluate(best_complete, test_features, test_labels)"
   ]
  },
  {
   "cell_type": "code",
   "execution_count": null,
   "id": "4a847963a48e2014",
   "metadata": {},
   "outputs": [],
   "source": [
    "predictions = best_complete.predict(test_features)\n",
    "# Evaluating the model\n",
    "mse = mean_squared_error(test_labels, predictions)\n",
    "print(f'Mean Squared Error: {mse}')\n",
    "r2 = r2_score(y_test, predictions)\n",
    "print(f'R-squared: {r2}')"
   ]
  },
  {
   "cell_type": "code",
   "execution_count": null,
   "id": "b7a2233802722371",
   "metadata": {},
   "outputs": [],
   "source": [
    "test1['best_rf_predict_complete'] = best_complete.predict(test_features)\n"
   ]
  },
  {
   "cell_type": "code",
   "execution_count": null,
   "id": "89ebba9df081ff5",
   "metadata": {},
   "outputs": [],
   "source": [
    "stats.ttest_rel(test1['best_rf_predict_complete'], test_labels)"
   ]
  },
  {
   "cell_type": "code",
   "execution_count": null,
   "id": "6f0fbad130f4e07f",
   "metadata": {},
   "outputs": [],
   "source": [
    "response = \"duration\"\n",
    "predictors = [\"best_rf_predict_complete\"]\n",
    "data = test1[[response] + predictors].dropna()\n",
    "X = data[predictors]\n",
    "y = data[response]\n",
    "model1 = sm.OLS(y, sm.add_constant(X))\n",
    "result1 = model1.fit()\n",
    "print(result1.summary())"
   ]
  },
  {
   "cell_type": "code",
   "execution_count": null,
   "id": "dabd31626317375b",
   "metadata": {},
   "outputs": [],
   "source": [
    "# export all result\n",
    "test1.to_csv(output_file_path + 'result0331/' + 'test1_best_random_complete_rf_predict0514.csv')"
   ]
  },
  {
   "cell_type": "markdown",
   "id": "c8b031a46068a259",
   "metadata": {},
   "source": [
    "## 5 fold cross validation to see whether there is overfitting problem"
   ]
  },
  {
   "cell_type": "code",
   "execution_count": null,
   "id": "7d07f7ec61c6b4d1",
   "metadata": {},
   "outputs": [],
   "source": [
    "# cross validation\n",
    "X = df[['signal_count', 'stop_count', 'crossing_count', 'give_way_count','mini_roundabout_count','left_count','slight_left_count','right_count','slight_right_count', 'u_count','travel_time']]\n",
    "y = df['duration']\n",
    "rf = RandomForestRegressor(n_estimators = 1000, min_samples_split = 10, max_features = None, max_depth = 10, bootstrap =  True)\n",
    "cross_val_score(rf, X, y, cv=5, scoring='neg_mean_absolute_error')"
   ]
  },
  {
   "cell_type": "code",
   "execution_count": null,
   "id": "1f931eada851a937",
   "metadata": {},
   "outputs": [],
   "source": [
    "X = df[['signal_count', 'stop_count', 'crossing_count', 'give_way_count','mini_roundabout_count','left_count','slight_left_count','right_count','slight_right_count', 'u_count','travel_time']]\n",
    "y = df['duration']\n",
    "rf = RandomForestRegressor(n_estimators = 600, min_samples_split = 2, max_features = None, max_depth = 10, bootstrap =  True)\n",
    "cross_val_score(rf, X, y, cv=5, scoring='neg_mean_absolute_error')"
   ]
  }
 ],
 "metadata": {
  "kernelspec": {
   "display_name": "Python 3",
   "language": "python",
   "name": "python3"
  },
  "language_info": {
   "codemirror_mode": {
    "name": "ipython",
    "version": 2
   },
   "file_extension": ".py",
   "mimetype": "text/x-python",
   "name": "python",
   "nbconvert_exporter": "python",
   "pygments_lexer": "ipython2",
   "version": "2.7.6"
  }
 },
 "nbformat": 4,
 "nbformat_minor": 5
}

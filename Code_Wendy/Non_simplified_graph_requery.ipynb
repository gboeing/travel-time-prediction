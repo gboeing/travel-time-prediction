{
 "cells": [
  {
   "cell_type": "code",
   "execution_count": null,
   "id": "initial_id",
   "metadata": {
    "collapsed": true
   },
   "outputs": [],
   "source": [
    "import osmnx as ox\n",
    "import geopandas as gpd"
   ]
  },
  {
   "cell_type": "code",
   "outputs": [],
   "source": [
    "# include the tag we need\n",
    "ox.utils.config(useful_tags_node=['ref', 'highway','traffic_signals:direction', 'direction','crossing','stop','stop:direction'])"
   ],
   "metadata": {
    "collapsed": false
   },
   "id": "5570d4f28d3bbca9",
   "execution_count": null
  },
  {
   "cell_type": "code",
   "outputs": [],
   "source": [
    "utn = ox.settings.useful_tags_node\n",
    "utn"
   ],
   "metadata": {
    "collapsed": false
   },
   "id": "6396f95b06929b3c",
   "execution_count": null
  },
  {
   "cell_type": "code",
   "execution_count": null,
   "outputs": [],
   "source": [
    "file_path = '../Data/'\n",
    "output_file_path = file_path + 'Output/'"
   ],
   "metadata": {
    "collapsed": false
   },
   "id": "43224ce62d055254"
  },
  {
   "cell_type": "markdown",
   "source": [
    "# Import human settlement shapefile from GHS UCDB\n",
    "Source: GHS Urban Centre Database 2015\n",
    "https://ghsl.jrc.ec.europa.eu/download.php?ds=ucdb "
   ],
   "metadata": {
    "collapsed": false
   },
   "id": "dc367bc782c8f9ed"
  },
  {
   "cell_type": "code",
   "execution_count": null,
   "outputs": [],
   "source": [
    "UCDB_gdf = gpd.read_file(file_path + \"GHS_STAT_UCDB2015MT_GLOBE_R2019A_V1_2.gpkg\")"
   ],
   "metadata": {
    "collapsed": false
   },
   "id": "a2268bfa1bf253dc"
  },
  {
   "cell_type": "code",
   "execution_count": null,
   "outputs": [],
   "source": [
    "# Select the polygon that is the human settlement area of LA: plot it, you can see there are holes in it\n",
    "LA_UCDB_gdf = UCDB_gdf[UCDB_gdf['UC_NM_MN'] == 'Los Angeles']\n",
    "LA_UCDB_gdf.plot()"
   ],
   "metadata": {
    "collapsed": false
   },
   "id": "a9f5c3ff6c1819e0"
  },
  {
   "cell_type": "markdown",
   "source": [
    "# Import TIGERline census tract shapefile"
   ],
   "metadata": {
    "collapsed": false
   },
   "id": "c17838f3c6dddc5b"
  },
  {
   "cell_type": "code",
   "execution_count": null,
   "outputs": [],
   "source": [
    "# census tracts in California\n",
    "CA_22tract = gpd.read_file(file_path + \"tl_2022_06_tract/tl_2022_06_tract.shp\")\n",
    "LA_UCDB_gdf.crs == CA_22tract.crs"
   ],
   "metadata": {
    "collapsed": false
   },
   "id": "997277004958b9a6"
  },
  {
   "cell_type": "code",
   "execution_count": null,
   "outputs": [],
   "source": [
    "# project the CRS to be the same - 4326\n",
    "CA_22tract_crs = CA_22tract.to_crs(4326)\n",
    "LA_UCDB_gdf.crs == CA_22tract_crs.crs"
   ],
   "metadata": {
    "collapsed": false
   },
   "id": "2a92ee1d275359e4"
  },
  {
   "cell_type": "code",
   "execution_count": null,
   "outputs": [],
   "source": [
    "# selecting census tracts in LA county\n",
    "LA_22tract = CA_22tract_crs[CA_22tract_crs['COUNTYFP'] == '037']"
   ],
   "metadata": {
    "collapsed": false
   },
   "id": "113130a60c7bba02"
  },
  {
   "cell_type": "markdown",
   "source": [
    "# Get the shapefile of intersection of LA county and LA human settlement area"
   ],
   "metadata": {
    "collapsed": false
   },
   "id": "101344b5436305b1"
  },
  {
   "cell_type": "code",
   "execution_count": null,
   "outputs": [],
   "source": [
    "# Plot the difference of two shapefile\n",
    "ax = LA_22tract.plot(color=\"palegreen\", edgecolor=\"green\", figsize=(20, 10))\n",
    "LA_UCDB_gdf.plot(ax=ax, color=\"red\")"
   ],
   "metadata": {
    "collapsed": false
   },
   "id": "620028d1ec5c448d"
  },
  {
   "cell_type": "code",
   "execution_count": null,
   "outputs": [],
   "source": [
    "# Get the intersection proportion of these two shapefiles\n",
    "LA_clip = gpd.clip(LA_22tract, LA_UCDB_gdf)\n",
    "LA_clip_whole = LA_clip.dissolve()"
   ],
   "metadata": {
    "collapsed": false
   },
   "id": "ea86c04c1fdb4862"
  },
  {
   "cell_type": "code",
   "execution_count": null,
   "outputs": [],
   "source": [
    "LA_clip_whole.plot()"
   ],
   "metadata": {
    "collapsed": false
   },
   "id": "3ebc24e8e8b086a7"
  },
  {
   "cell_type": "markdown",
   "source": [
    "# Get the convex hull of it"
   ],
   "metadata": {
    "collapsed": false
   },
   "id": "f1a16d5f18360b72"
  },
  {
   "cell_type": "code",
   "execution_count": null,
   "outputs": [],
   "source": [
    "LA_clip_convex = LA_clip_whole.convex_hull"
   ],
   "metadata": {
    "collapsed": false
   },
   "id": "e60dd41f9b206b2a"
  },
  {
   "cell_type": "code",
   "execution_count": null,
   "outputs": [],
   "source": [
    "# plot the convex hull of the intersected shapefile, which is our study area\n",
    "ax = LA_clip_convex.plot(color=\"palegreen\", edgecolor=\"green\", figsize=(20, 10))\n",
    "LA_clip_whole.plot(ax=ax, color=\"red\")"
   ],
   "metadata": {
    "collapsed": false
   },
   "id": "f2fa45904122ddc6"
  },
  {
   "cell_type": "code",
   "execution_count": null,
   "outputs": [],
   "source": [
    "LA_clip_convex.to_file(output_file_path + 'LA_clip_convex.shp')"
   ],
   "metadata": {
    "collapsed": false
   },
   "id": "8105ff68df631a42"
  },
  {
   "cell_type": "markdown",
   "source": [
    "# get street network for analysis\n",
    "### Using the above convex hull shapefile are our study region\n",
    "### Get strongly connected graph"
   ],
   "metadata": {
    "collapsed": false
   },
   "id": "e255c33851f5cb9"
  },
  {
   "cell_type": "code",
   "execution_count": null,
   "outputs": [],
   "source": [
    "LA_clip_convex_gdf = gpd.GeoDataFrame(geometry=gpd.GeoSeries(LA_clip_convex))\n",
    "LA_clip_convex_polygon = LA_clip_convex_gdf.iloc[0]['geometry']"
   ],
   "metadata": {
    "collapsed": false
   },
   "id": "d61298041d30a5b0"
  },
  {
   "cell_type": "code",
   "execution_count": null,
   "outputs": [],
   "source": [
    "G = ox.graph_from_polygon(LA_clip_convex_polygon, simplify=False, network_type='drive')\n",
    "ox.plot_graph(G)"
   ],
   "metadata": {
    "collapsed": false
   },
   "id": "8471169d5e8fc80b"
  },
  {
   "cell_type": "code",
   "outputs": [],
   "source": [
    "G.nodes(data=True)[5432488414]"
   ],
   "metadata": {
    "collapsed": false
   },
   "id": "4707cc10a61f7118",
   "execution_count": null
  },
  {
   "cell_type": "code",
   "outputs": [],
   "source": [
    "# Save Geopackages\n",
    "ox.save_graph_geopackage(G, filepath=output_file_path + 'LA_clip_convex_network_non_simplify_all_direction.gpkg')\n",
    "# Save Graphml\n",
    "ox.save_graphml(G, filepath=output_file_path + 'LA_clip_convex_network_non_simplify_all_direction.graphml')"
   ],
   "metadata": {
    "collapsed": false
   },
   "id": "e42dff62dcd6e661",
   "execution_count": null
  },
  {
   "cell_type": "code",
   "outputs": [],
   "source": [
    "# get strongly connected graph\n",
    "G = ox.utils_graph.get_largest_component(G, strongly=True)"
   ],
   "metadata": {
    "collapsed": false
   },
   "id": "e6b9a3244f706d35",
   "execution_count": null
  },
  {
   "cell_type": "code",
   "outputs": [],
   "source": [
    "# Save Geopackages\n",
    "ox.save_graph_geopackage(G, filepath=output_file_path + 'LA_clip_convex_strong_network_non_simplify_all_direction.gpkg')\n",
    "# Save Graphml\n",
    "ox.save_graphml(G, filepath=output_file_path + 'LA_clip_convex_strong_network_non_simplify_all_direction.graphml')"
   ],
   "metadata": {
    "collapsed": false
   },
   "id": "ae2eaba5e76e356c",
   "execution_count": null
  }
 ],
 "metadata": {
  "kernelspec": {
   "display_name": "Python 3",
   "language": "python",
   "name": "python3"
  },
  "language_info": {
   "codemirror_mode": {
    "name": "ipython",
    "version": 2
   },
   "file_extension": ".py",
   "mimetype": "text/x-python",
   "name": "python",
   "nbconvert_exporter": "python",
   "pygments_lexer": "ipython2",
   "version": "2.7.6"
  }
 },
 "nbformat": 4,
 "nbformat_minor": 5
}

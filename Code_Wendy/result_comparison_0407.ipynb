{
 "cells": [
  {
   "cell_type": "code",
   "id": "initial_id",
   "metadata": {
    "collapsed": true
   },
   "source": [
    "import pandas as pd\n",
    "from sklearn.metrics import mean_squared_error, r2_score\n",
    "import numpy as np\n",
    "from scipy import stats"
   ],
   "outputs": [],
   "execution_count": null
  },
  {
   "cell_type": "code",
   "source": [
    "# setting up file paths\n",
    "file_path = '../Data/'\n",
    "output_file_path = file_path + 'Output/'"
   ],
   "metadata": {
    "collapsed": false
   },
   "id": "d15a009bb8c3e3b8",
   "outputs": [],
   "execution_count": null
  },
  {
   "cell_type": "code",
   "source": [
    "# google time result\n",
    "result = pd.read_csv(output_file_path + 'googlerouteapi2024allresult.csv')"
   ],
   "metadata": {
    "collapsed": false
   },
   "id": "e101d90af0dce836",
   "outputs": [],
   "execution_count": null
  },
  {
   "cell_type": "code",
   "source": [
    "# freeflow routing result based on the simplified graph\n",
    "ff_sim = pd.read_csv(output_file_path + 'result0319parsimonious/' + 'freeflow_OD3am_all_googlerouteapi_simplified_parsi.csv')"
   ],
   "metadata": {
    "collapsed": false
   },
   "id": "e51d9dc76cbfab15",
   "outputs": [],
   "execution_count": null
  },
  {
   "cell_type": "code",
   "source": [
    "# rename the column name and merge the freeflow result with google api result\n",
    "ff_sim.rename(\n",
    "    columns={'distance': 'ff_distance', 'travel_time': 'ff_time', 'route': 'ff_route'},\n",
    "    inplace=True)\n",
    "ff_sim_df_result = ff_sim[['oid', 'did', 'ff_distance', 'ff_time', 'ff_route']]\n",
    "\n",
    "df = result.merge(ff_sim_df_result, left_on=['oid', 'did'], right_on=['oid', 'did'])"
   ],
   "metadata": {
    "collapsed": false
   },
   "id": "3c68ba7bc1743e87",
   "outputs": [],
   "execution_count": null
  },
  {
   "cell_type": "code",
   "source": [
    "# OLS routing result based on both turn and traffic control penalties\n",
    "penalized_param = pd.read_csv(output_file_path + 'result0226/'+ 'penalized_OD3am_all_googlerouteapi_new_graph_new_turn_control_model2_no_slight.csv')"
   ],
   "metadata": {
    "collapsed": false
   },
   "id": "51bc91ae5a121bd3",
   "outputs": [],
   "execution_count": null
  },
  {
   "cell_type": "code",
   "source": [
    "# rename the column name and merge with previous df\n",
    "penalized_param.rename(columns={'distance': 'all_ols_distance', 'total_time_with_turn_penalty': 'all_ols_time', 'route': 'all_ols_route'}, inplace=True)\n",
    "penalized_param_result = penalized_param[['oid', 'did', 'all_ols_distance', 'all_ols_time', 'all_ols_route']]\n",
    "df = df.merge(penalized_param_result, left_on=['oid', 'did'], right_on=['oid', 'did'])"
   ],
   "metadata": {
    "collapsed": false
   },
   "id": "68acd6d57f4693d",
   "outputs": [],
   "execution_count": null
  },
  {
   "cell_type": "code",
   "source": [
    "df = df.drop(['Unnamed: 0.3', 'Unnamed: 0.2', 'Unnamed: 0.1', 'Unnamed: 0'], axis = 1)"
   ],
   "metadata": {
    "collapsed": false
   },
   "id": "d74966b5e7c070a7",
   "outputs": [],
   "execution_count": null
  },
  {
   "cell_type": "code",
   "source": [
    "# OLS routing result based on only turn penalty on non-simplified graph\n",
    "non_simplify_turn = pd.read_csv(output_file_path + 'result0319parsimonious/' + 'penalized_OD3am_all_googlerouteapi_model2_parsi.csv')"
   ],
   "metadata": {
    "collapsed": false
   },
   "id": "1c349c24526a2610",
   "outputs": [],
   "execution_count": null
  },
  {
   "cell_type": "code",
   "source": [
    "# rename the column name and merge with previous df\n",
    "non_simplify_turn.rename(columns={'distance': 'non_simplify_turn_distance', 'total_time_with_turn_penalty': 'non_simplify_turn_time', 'route': 'non_simplify_route'}, inplace = True)\n",
    "non_simplify_turn_result = non_simplify_turn[['oid', 'did', 'non_simplify_turn_distance','non_simplify_turn_time', 'non_simplify_route']]\n",
    "df = df.merge(non_simplify_turn_result, left_on=['oid', 'did'], right_on=['oid', 'did'])\n"
   ],
   "metadata": {
    "collapsed": false
   },
   "id": "7c63e245096f4f2c",
   "outputs": [],
   "execution_count": null
  },
  {
   "cell_type": "code",
   "source": [
    "# OLS routing result based on only turn penalty on simplified graph\n",
    "simplify_turn = pd.read_csv(output_file_path + 'result0319parsimonious/' + 'penalized_OD3am_all_googlerouteapi_simplified_parsi_model2.csv')"
   ],
   "metadata": {
    "collapsed": false
   },
   "id": "4ef3ca6fd0fa3132",
   "outputs": [],
   "execution_count": null
  },
  {
   "cell_type": "code",
   "source": [
    "# rename the column name and merge with previous df\n",
    "simplify_turn.rename(columns={'distance': 'simplify_turn_distance', 'total_time_with_turn_penalty': 'simplify_turn_time', 'route': 'simplify_route'}, inplace = True)\n",
    "simplify_turn_result = simplify_turn[['oid', 'did', 'simplify_turn_distance','simplify_turn_time', 'simplify_route']]\n",
    "df = df.merge(simplify_turn_result, left_on=['oid', 'did'], right_on=['oid', 'did'])\n"
   ],
   "metadata": {
    "collapsed": false
   },
   "id": "15b5b290c081ec59",
   "outputs": [],
   "execution_count": null
  },
  {
   "cell_type": "code",
   "source": [
    "# calculate percentages\n",
    "df['ff_time_pct'] = df['ff_time']/df['duration']\n",
    "df['all_ols_time_pct'] = df['all_ols_time']/df['duration']\n",
    "df['non_simplify_turn_time_pct'] = df['non_simplify_turn_time']/df['duration']\n",
    "df['simplify_turn_time_pct'] = df['simplify_turn_time']/df['duration']"
   ],
   "metadata": {
    "collapsed": false
   },
   "id": "142691c6670f66b6",
   "outputs": [],
   "execution_count": null
  },
  {
   "cell_type": "code",
   "source": [
    "# function for prediction accuracy evaluation\n",
    "def evaluate(predictions, test_labels):\n",
    "    errors = abs(predictions - test_labels)\n",
    "    mape = 100 * np.mean(errors / test_labels)\n",
    "    mdeian_mape = 100 * np.median(errors / test_labels)\n",
    "    accuracy_mean = 100 - mape\n",
    "    accuracy_median = 100 - mdeian_mape\n",
    "    print('Model Performance')\n",
    "    print('Average Error: {:0.4f} seconds.'.format(np.mean(errors)))\n",
    "    print('Median Error: {:0.4f} seconds.'.format(np.median(errors)))\n",
    "    print('accuracy_mean = {:0.2f}%.'.format(accuracy_mean))\n",
    "    print('accuracy_median = {:0.2f}%.'.format(accuracy_median))\n",
    "    \n",
    "    return accuracy_mean"
   ],
   "metadata": {
    "collapsed": false
   },
   "id": "4e71b2c80e9b6248",
   "outputs": [],
   "execution_count": null
  },
  {
   "metadata": {},
   "cell_type": "code",
   "source": [
    "# split for the test\n",
    "test = pd.read_csv(output_file_path + '/result0319parsimonious/test3.csv')\n",
    "test['split'] = 'test'\n",
    "test = test[['oid', 'did', 'split']]\n",
    "df = df.merge(test, how='left', left_on=['oid', 'did'], right_on=['oid', 'did'])\n",
    "df[['split']] = df[['split']].fillna('train')\n",
    "test_df = df[df['split'] == 'test']"
   ],
   "id": "685d9fb119c463c7",
   "outputs": [],
   "execution_count": null
  },
  {
   "cell_type": "code",
   "source": [
    "evaluate(test_df['ff_time'], test_df['duration'])"
   ],
   "metadata": {
    "collapsed": false
   },
   "id": "7340a15d823a126e",
   "outputs": [],
   "execution_count": null
  },
  {
   "cell_type": "code",
   "source": [
    "Errors = abs(test_df['all_ols_time'] - test_df['duration'])\n",
    "print('Average baseline error:', round(np.mean(Errors), 3), ' seconds')\n",
    "# Evaluating the model\n",
    "mse = mean_squared_error(test_df['duration'], test_df['all_ols_time']  )\n",
    "print(f'Mean Squared Error: {mse}')\n",
    "r2 = r2_score(test_df['duration'], test_df['all_ols_time'])\n",
    "print(f'R-squared: {r2}')"
   ],
   "metadata": {
    "collapsed": false
   },
   "id": "42c20e8b037fde2e",
   "outputs": [],
   "execution_count": null
  },
  {
   "cell_type": "code",
   "source": [
    "Errors = abs(test_df['non_simplify_turn_time'] - test_df['duration'])\n",
    "print('Average baseline error:', round(np.mean(Errors), 3), ' seconds')\n",
    "# Evaluating the model\n",
    "mse = mean_squared_error(test_df['duration'], test_df['non_simplify_turn_time']  )\n",
    "print(f'Mean Squared Error: {mse}')\n",
    "r2 = r2_score(test_df['duration'], test_df['non_simplify_turn_time'])\n",
    "print(f'R-squared: {r2}')"
   ],
   "metadata": {
    "collapsed": false
   },
   "id": "4803aafe09e7fb9",
   "outputs": [],
   "execution_count": null
  },
  {
   "cell_type": "code",
   "source": [
    "Errors = abs(test_df['simplify_turn_time'] - test_df['duration'])\n",
    "print('Average baseline error:', round(np.mean(Errors), 3), ' seconds')\n",
    "# Evaluating the model\n",
    "mse = mean_squared_error(test_df['duration'], test_df['simplify_turn_time']  )\n",
    "print(f'Mean Squared Error: {mse}')\n",
    "r2 = r2_score(test_df['duration'], test_df['simplify_turn_time'])\n",
    "print(f'R-squared: {r2}')"
   ],
   "metadata": {
    "collapsed": false
   },
   "id": "64321c293804a282",
   "outputs": [],
   "execution_count": null
  },
  {
   "metadata": {},
   "cell_type": "code",
   "source": "stats.ttest_rel(test_df['simplify_turn_time'], test_df['duration'])",
   "id": "e2dac94f4b5c9f8c",
   "outputs": [],
   "execution_count": null
  },
  {
   "cell_type": "code",
   "source": [
    "stats.ttest_rel(test_df['ff_time'], test_df['duration'])\n"
   ],
   "metadata": {
    "collapsed": false
   },
   "id": "958046c82544560e",
   "outputs": [],
   "execution_count": null
  },
  {
   "cell_type": "code",
   "source": [
    "stats.ttest_rel(test_df['all_ols_time'], test_df['duration'])"
   ],
   "metadata": {
    "collapsed": false
   },
   "id": "98e8bb6efb8666a8",
   "outputs": [],
   "execution_count": null
  },
  {
   "cell_type": "code",
   "source": [
    "# libraries & dataset\n",
    "import seaborn as sns\n",
    "import matplotlib.pyplot as plt\n",
    "# set a grey background (use sns.set_theme() if seaborn version 0.11.0 or above) \n",
    "sns.set(style=\"darkgrid\")\n",
    "sns.set_theme(rc={'figure.figsize':(11.7,8.27)})\n",
    "sns.histplot(data=df, x=\"duration\", color=\"skyblue\", label=\"google travel time\", kde=True)\n",
    "sns.histplot(data=df, x=\"ff_time\", color=\"red\", label=\"shortest edge traversal time\", kde=True)\n",
    "sns.histplot(data=df, x=\"all_ols_time\", color=\"yellow\", label=\"travel time based on OLS parameters\", kde=True)\n",
    "\n",
    "plt.legend() \n",
    "plt.show()"
   ],
   "metadata": {
    "collapsed": false
   },
   "id": "4a509befd894c371",
   "outputs": [],
   "execution_count": null
  },
  {
   "cell_type": "markdown",
   "source": [
    "# machine learning predictions"
   ],
   "metadata": {
    "collapsed": false
   },
   "id": "71681f9c29dbc979"
  },
  {
   "cell_type": "code",
   "source": "rf = pd.read_csv(output_file_path + 'result0331/' + 'test1_best_rf_predict0331.csv')",
   "metadata": {
    "collapsed": false
   },
   "id": "bb0c6f783807d0cf",
   "outputs": [],
   "execution_count": null
  },
  {
   "cell_type": "code",
   "source": "rf_result = rf[['oid', 'did', 'best_rf_predict']]",
   "metadata": {
    "collapsed": false
   },
   "id": "cba3fdb480320864",
   "outputs": [],
   "execution_count": null
  },
  {
   "cell_type": "code",
   "source": [
    "test_df = test_df.merge(rf_result, left_on=['oid', 'did'], right_on=['oid', 'did'])\n"
   ],
   "metadata": {
    "collapsed": false
   },
   "id": "b0482cc07cf89797",
   "outputs": [],
   "execution_count": null
  },
  {
   "cell_type": "code",
   "source": [
    "test_df['rf_predict_gg_pct'] = test_df['best_rf_predict']/test_df['duration']\n",
    "test_df['rf_predict_uber_pct'] = test_df['best_rf_predict']/test_df['mean_travel_time']"
   ],
   "metadata": {
    "collapsed": false
   },
   "id": "1e6bbb9cb1feb02e",
   "outputs": [],
   "execution_count": null
  },
  {
   "cell_type": "code",
   "source": "stats.ttest_rel(test_df['best_rf_predict'], test_df['duration'])",
   "metadata": {
    "collapsed": false
   },
   "id": "4992ac861474af17",
   "outputs": [],
   "execution_count": null
  },
  {
   "cell_type": "code",
   "source": [
    "# libraries & dataset\n",
    "import seaborn as sns\n",
    "import matplotlib.pyplot as plt\n",
    "# set a grey background (use sns.set_theme() if seaborn version 0.11.0 or above) \n",
    "sns.set(style=\"darkgrid\")\n",
    "sns.set_theme(rc={'figure.figsize':(11.7,8.27)})\n",
    "sns.histplot(data=test_df, x=\"duration\", color=\"skyblue\", label=\"google travel time\", kde=True)\n",
    "sns.histplot(data=test_df, x=\"ff_time\", color=\"red\", label=\"shortest freeflow traversal time\", kde=True)\n",
    "sns.histplot(data=test_df, x=\"all_ols_time\", color=\"yellow\", label=\"travel time based on OLS parameters\", kde=True)\n",
    "sns.histplot(data=test_df, x=\"best_rf_predict\", color=\"green\", label=\"travel time based on OLS parameters\", kde=True)\n",
    "\n",
    "plt.legend() \n",
    "plt.show()"
   ],
   "metadata": {
    "collapsed": false
   },
   "id": "7291882583ea78f3",
   "outputs": [],
   "execution_count": null
  },
  {
   "cell_type": "code",
   "source": [
    "sns.set(style=\"darkgrid\")\n",
    "sns.set_theme(rc={'figure.figsize':(11.7,8.27)})\n",
    "sns.histplot(data=df, x=\"duration\", color=\"skyblue\", label=\"all sample: google travel time\", kde=True)\n",
    "sns.histplot(data=df, x=\"ff_time\", color=\"red\", label=\"all sample: shortest freeflow traversal time\", kde=True)\n",
    "sns.histplot(data=df, x=\"all_ols_time\", color=\"yellow\", label=\"all sample: travel time based on OLS parameters\", kde=True)\n",
    "sns.histplot(data=test_df, x=\"duration\", color=\"skyblue\", label=\"test: google travel time\", kde=True)\n",
    "sns.histplot(data=test_df, x=\"ff_time\", color=\"red\", label=\"test:shortest freeflow traversal time\", kde=True)\n",
    "sns.histplot(data=test_df, x=\"all_ols_time\", color=\"yellow\", label=\"test:travel time based on OLS parameters\", kde=True)\n",
    "sns.histplot(data=test_df, x=\"best_rf_predict\", color=\"green\", label=\"test:travel time based on random forest\", kde=True)\n",
    "\n",
    "\n",
    "plt.legend() \n",
    "plt.show()"
   ],
   "metadata": {
    "collapsed": false
   },
   "id": "9e2d63c2aff5b896",
   "outputs": [],
   "execution_count": null
  }
 ],
 "metadata": {
  "kernelspec": {
   "display_name": "Python 3",
   "language": "python",
   "name": "python3"
  },
  "language_info": {
   "codemirror_mode": {
    "name": "ipython",
    "version": 2
   },
   "file_extension": ".py",
   "mimetype": "text/x-python",
   "name": "python",
   "nbconvert_exporter": "python",
   "pygments_lexer": "ipython2",
   "version": "2.7.6"
  }
 },
 "nbformat": 4,
 "nbformat_minor": 5
}

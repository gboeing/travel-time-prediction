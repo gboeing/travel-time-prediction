{
 "cells": [
  {
   "cell_type": "code",
   "execution_count": null,
   "metadata": {},
   "outputs": [],
   "source": [
    "# import libraries\n",
    "import folium\n",
    "import geopandas as gpd\n",
    "import matplotlib.pyplot as plt\n",
    "import pandas as pd\n",
    "from shapely.geometry import Point"
   ]
  },
  {
   "cell_type": "code",
   "execution_count": null,
   "metadata": {},
   "outputs": [],
   "source": [
    "# import functions\n",
    "from functions.routes_api_functions import (\n",
    "    calculateRoute,\n",
    "    createDataFrameFromResults,\n",
    "    fetch_all_routes,\n",
    "    parseDataframeToLocations,\n",
    ")"
   ]
  },
  {
   "cell_type": "markdown",
   "metadata": {},
   "source": [
    "## Calculate routes at 3AM on 300 OD pairs"
   ]
  },
  {
   "cell_type": "code",
   "execution_count": null,
   "metadata": {},
   "outputs": [],
   "source": [
    "# import data\n",
    "od_300 = pd.read_csv(\"../Data/route_result_uber_hod3am_300_all_original.csv\")"
   ]
  },
  {
   "cell_type": "code",
   "execution_count": null,
   "metadata": {},
   "outputs": [],
   "source": [
    "od_300"
   ]
  },
  {
   "cell_type": "code",
   "execution_count": null,
   "metadata": {},
   "outputs": [],
   "source": [
    "origins = od_300[[\"oid\", \"oy\", \"ox\"]]\n",
    "destinations = od_300[[\"did\", \"dy\", \"dx\"]]"
   ]
  },
  {
   "cell_type": "code",
   "execution_count": null,
   "metadata": {},
   "outputs": [],
   "source": [
    "# convert origins, destinations to geodataframe\n",
    "origins = gpd.GeoDataFrame(\n",
    "    origins,\n",
    "    geometry=[Point(xy) for xy in zip(origins.ox, origins.oy, strict=False)],\n",
    ")\n",
    "destinations = gpd.GeoDataFrame(\n",
    "    destinations,\n",
    "    geometry=[Point(xy) for xy in zip(destinations.dx, destinations.dy, strict=False)],\n",
    ")"
   ]
  },
  {
   "cell_type": "code",
   "execution_count": null,
   "metadata": {},
   "outputs": [],
   "source": [
    "# apply parsedataframetoLocations\n",
    "originsLoc = parseDataframeToLocations(origins)\n",
    "destinationsLoc = parseDataframeToLocations(destinations)"
   ]
  },
  {
   "cell_type": "code",
   "execution_count": null,
   "metadata": {},
   "outputs": [],
   "source": [
    "# api key\n",
    "key = \"Jessica API Key\""
   ]
  },
  {
   "cell_type": "code",
   "execution_count": null,
   "metadata": {},
   "outputs": [],
   "source": [
    "# calculate routes\n",
    "# Nov 29 (Wednesday) 3AM\n",
    "departure_times = [(2023, 11, 29, hour, 0, 0) for hour in od_300[\"hour_of_day\"]]\n",
    "# use departure_times list as input\n",
    "results = fetch_all_routes(\n",
    "    apikey=key,\n",
    "    origins=originsLoc,\n",
    "    destinations=destinationsLoc,\n",
    "    traffic=\"TRAFFIC_AWARE\",\n",
    "    departure_times=departure_times,\n",
    ")"
   ]
  },
  {
   "cell_type": "code",
   "execution_count": null,
   "metadata": {},
   "outputs": [],
   "source": [
    "# test of calculateRoute function\n",
    "result = calculateRoute(\n",
    "    apikey=key,\n",
    "    orig=originsLoc[17],\n",
    "    dest=destinationsLoc[17],\n",
    "    traffic=\"TRAFFIC_AWARE\",\n",
    "    departure_time=(2023, 11, 29, od_300[\"hour_of_day\"][17], 0, 0),\n",
    ")\n",
    "result"
   ]
  },
  {
   "cell_type": "code",
   "execution_count": null,
   "metadata": {},
   "outputs": [],
   "source": [
    "df = createDataFrameFromResults(results)\n",
    "df"
   ]
  },
  {
   "cell_type": "code",
   "execution_count": null,
   "metadata": {},
   "outputs": [],
   "source": [
    "# check location of O-D\n",
    "# latitude and longitude for the two points\n",
    "o_lat, o_lon = float(originsLoc[17].lat), float(originsLoc[17].lon)\n",
    "d_lat, d_lon = float(destinationsLoc[17].lat), float(destinationsLoc[17].lon)\n",
    "\n",
    "# create a map centered between the two points\n",
    "m = folium.Map(location=[(o_lat + d_lat) / 2, (o_lon + d_lon) / 2], zoom_start=11)\n",
    "\n",
    "folium.Marker(\n",
    "    [o_lat, o_lon],\n",
    "    popup=\"Origin\",\n",
    "    icon=folium.Icon(color=\"red\"),\n",
    ").add_to(m)\n",
    "\n",
    "folium.Marker(\n",
    "    [d_lat, d_lon],\n",
    "    popup=\"Destination\",\n",
    "    icon=folium.Icon(color=\"blue\"),\n",
    ").add_to(m)\n",
    "\n",
    "m"
   ]
  },
  {
   "cell_type": "markdown",
   "metadata": {},
   "source": [
    "## Comparison of Routes API results"
   ]
  },
  {
   "cell_type": "code",
   "execution_count": null,
   "metadata": {},
   "outputs": [],
   "source": [
    "# routes duration time comparison (without caching)\n",
    "## Nov 27"
   ]
  },
  {
   "cell_type": "code",
   "execution_count": null,
   "metadata": {},
   "outputs": [],
   "source": [
    "# import data 300 od pairs with different departure times\n",
    "data = pd.read_csv(\"../Data/routeresultadded_od300.csv\")\n",
    "origins = data[[\"oid\", \"oy\", \"ox\"]]\n",
    "destinations = data[[\"did\", \"dy\", \"dx\"]]\n",
    "\n",
    "# convert origins, destinations to geodataframe\n",
    "origins = gpd.GeoDataFrame(\n",
    "    origins,\n",
    "    geometry=[Point(xy) for xy in zip(origins.ox, origins.oy, strict=False)],\n",
    ")\n",
    "destinations = gpd.GeoDataFrame(\n",
    "    destinations,\n",
    "    geometry=[Point(xy) for xy in zip(destinations.dx, destinations.dy, strict=False)],\n",
    ")\n",
    "\n",
    "# apply parsedataframetoLocations\n",
    "originsLoc = parseDataframeToLocations(origins)\n",
    "destinationsLoc = parseDataframeToLocations(destinations)"
   ]
  },
  {
   "cell_type": "code",
   "execution_count": null,
   "metadata": {},
   "outputs": [],
   "source": [
    "data"
   ]
  },
  {
   "cell_type": "code",
   "execution_count": null,
   "metadata": {},
   "outputs": [],
   "source": [
    "compare = []\n",
    "for i, row in od_300.iterrows():\n",
    "    x = calculateRoute(\n",
    "        apikey=key,\n",
    "        orig=originsLoc[i],\n",
    "        dest=destinationsLoc[i],\n",
    "        traffic=\"TRAFFIC_AWARE\",\n",
    "        departure_time=(2023, 11, 27, row[\"hour_of_day\"], 0, 0),\n",
    "    )\n",
    "    compare.append(x)"
   ]
  },
  {
   "cell_type": "code",
   "execution_count": null,
   "metadata": {},
   "outputs": [],
   "source": [
    "df_compare = createDataFrameFromResults(compare)\n",
    "df_compare"
   ]
  },
  {
   "cell_type": "code",
   "execution_count": null,
   "metadata": {},
   "outputs": [],
   "source": [
    "previous = data[[\"distance\", \"duration\", \"polyline\"]]"
   ]
  },
  {
   "cell_type": "code",
   "execution_count": null,
   "metadata": {},
   "outputs": [],
   "source": [
    "previous == df_compare"
   ]
  },
  {
   "cell_type": "code",
   "execution_count": null,
   "metadata": {},
   "outputs": [],
   "source": [
    "dataframes = {\n",
    "    \"1126_distance\": df_compare[\"distance\"],\n",
    "    \"1126_duration\": df_compare[\"duration\"],\n",
    "    \"1119_distance\": previous[\"distance\"],\n",
    "    \"1119_duration\": previous[\"duration\"],\n",
    "}\n",
    "\n",
    "styles = {\n",
    "    \"1126_distance\": \"r-\",\n",
    "    \"1126_duration\": \"r-\",\n",
    "    \"1119_distance\": \"b-\",\n",
    "    \"1119_duration\": \"b-\",\n",
    "}"
   ]
  },
  {
   "cell_type": "code",
   "execution_count": null,
   "metadata": {},
   "outputs": [],
   "source": [
    "# Distance\n",
    "plt.figure(figsize=(12, 6))\n",
    "plt.plot(dataframes[\"1126_distance\"], styles[\"1126_distance\"], label=\"1126 Distance\")\n",
    "plt.plot(dataframes[\"1119_distance\"], styles[\"1119_distance\"], label=\"1119 Distance\")\n",
    "plt.title(\"Distance Comparison\")\n",
    "plt.ylabel(\"Distance\")\n",
    "plt.legend()\n",
    "plt.show()"
   ]
  },
  {
   "cell_type": "code",
   "execution_count": null,
   "metadata": {},
   "outputs": [],
   "source": [
    "# Duration\n",
    "plt.figure(figsize=(12, 6))\n",
    "plt.plot(dataframes[\"1126_duration\"], styles[\"1126_duration\"], label=\"1126 Duration\")\n",
    "plt.plot(dataframes[\"1119_duration\"], styles[\"1119_duration\"], label=\"1119 Duration\")\n",
    "plt.title(\"Duration Comparison\")\n",
    "plt.ylabel(\"Duration\")\n",
    "plt.legend()\n",
    "plt.show()"
   ]
  },
  {
   "cell_type": "code",
   "execution_count": null,
   "metadata": {},
   "outputs": [],
   "source": [
    "# calculate the difference (distance, duration)\n",
    "difference = pd.DataFrame()\n",
    "difference[\"distance\"] = (\n",
    "    (df_compare[\"distance\"] - previous[\"distance\"]) / previous[\"distance\"]\n",
    ") * 100\n",
    "difference[\"duration\"] = (\n",
    "    (df_compare[\"duration\"] - previous[\"duration\"]) / previous[\"duration\"]\n",
    ") * 100"
   ]
  },
  {
   "cell_type": "code",
   "execution_count": null,
   "metadata": {},
   "outputs": [],
   "source": [
    "difference"
   ]
  },
  {
   "cell_type": "code",
   "execution_count": null,
   "metadata": {},
   "outputs": [],
   "source": [
    "fig, axes = plt.subplots(nrows=1, ncols=2, figsize=(12, 6))\n",
    "\n",
    "difference[\"distance\"].plot(ax=axes[0])\n",
    "axes[0].set_title(\"Distance\")\n",
    "axes[0].set_ylabel(\"Difference (%)\")\n",
    "\n",
    "difference[\"duration\"].plot(ax=axes[1])\n",
    "axes[1].set_title(\"Duration\")\n",
    "axes[1].set_ylabel(\"Difference (%)\")\n",
    "\n",
    "plt.tight_layout()\n",
    "plt.show()"
   ]
  }
 ],
 "metadata": {
  "kernelspec": {
   "display_name": "Python 3.10.10 ('ppd599')",
   "language": "python",
   "name": "python3"
  },
  "language_info": {
   "codemirror_mode": {
    "name": "ipython",
    "version": 3
   },
   "file_extension": ".py",
   "mimetype": "text/x-python",
   "name": "python",
   "nbconvert_exporter": "python",
   "pygments_lexer": "ipython3",
   "version": "3.10.10"
  },
  "vscode": {
   "interpreter": {
    "hash": "9459c1f1e6a42d62dba2ec1671ea395e68ff99b4f6ce754dc9cd2717ec5d1a8f"
   }
  }
 },
 "nbformat": 4,
 "nbformat_minor": 2
}

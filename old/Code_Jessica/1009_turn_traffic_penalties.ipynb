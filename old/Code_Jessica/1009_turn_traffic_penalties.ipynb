{
 "cells": [
  {
   "cell_type": "code",
   "execution_count": null,
   "metadata": {
    "id": "rL0qzmy5Q4wP"
   },
   "outputs": [],
   "source": [
    "# import libraries\n",
    "\n",
    "import geopandas as gpd\n",
    "import matplotlib.pyplot as plt\n",
    "import osmnx as ox\n",
    "import pandas as pd\n",
    "from shapely import wkt"
   ]
  },
  {
   "cell_type": "code",
   "execution_count": null,
   "metadata": {},
   "outputs": [],
   "source": [
    "# Parameter used in add_edge_traffic_times\n",
    "TRAFFIC_TIME_CONFIG = {\n",
    "    \"traffic_signals_time\": 2,\n",
    "    \"stop_time\": 2,\n",
    "    \"turning_circle_time\": 0,\n",
    "    \"crossing_time\": 1.5,\n",
    "    \"give_way_time\": 1.5,\n",
    "    \"mini_roundabout_time\": 1.5,\n",
    "}"
   ]
  },
  {
   "cell_type": "code",
   "execution_count": null,
   "metadata": {
    "id": "NXevHLTFQ4wQ"
   },
   "outputs": [],
   "source": [
    "# generate G of LA County\n",
    "G = ox.graph_from_place(\"Los Angeles County, CA, USA\", network_type=\"drive\")"
   ]
  },
  {
   "cell_type": "code",
   "execution_count": null,
   "metadata": {
    "id": "ccD7UyBNQ4wR"
   },
   "outputs": [],
   "source": [
    "# add attributes\n",
    "G = ox.add_edge_speeds(G)\n",
    "G = ox.add_edge_travel_times(G)\n",
    "G = ox.bearing.add_edge_bearings(G)"
   ]
  },
  {
   "cell_type": "code",
   "execution_count": null,
   "metadata": {
    "id": "sKNOOBN0Q4wR"
   },
   "outputs": [],
   "source": [
    "# create gdfs\n",
    "nodes_gdf, edges_gdf = ox.graph_to_gdfs(G)"
   ]
  },
  {
   "cell_type": "code",
   "execution_count": null,
   "metadata": {
    "id": "oBQhpaBBQ4wR"
   },
   "outputs": [],
   "source": [
    "# import O,D\n",
    "origins_df = pd.read_csv(\"../Data/origins_gdf.csv\")\n",
    "destinations_df = pd.read_csv(\"../Data/destinations_gdf.csv\")\n",
    "\n",
    "origins_df[\"geometry\"] = origins_df[\"geometry\"].apply(wkt.loads)\n",
    "destinations_df[\"geometry\"] = destinations_df[\"geometry\"].apply(wkt.loads)\n",
    "\n",
    "# geodataframe of O, D\n",
    "origins_gdf = gpd.GeoDataFrame(origins_df, geometry=\"geometry\")\n",
    "destinations_gdf = gpd.GeoDataFrame(destinations_df, geometry=\"geometry\")"
   ]
  },
  {
   "cell_type": "markdown",
   "metadata": {
    "id": "Uok3SOu7Q4wR"
   },
   "source": [
    "# Add attributes to G edges"
   ]
  },
  {
   "cell_type": "markdown",
   "metadata": {},
   "source": [
    "Use add_edge_traffic_times function to add extra time based on traffic controls"
   ]
  },
  {
   "cell_type": "code",
   "execution_count": null,
   "metadata": {},
   "outputs": [],
   "source": [
    "from functions import add_edge_traffic_times"
   ]
  },
  {
   "cell_type": "code",
   "execution_count": null,
   "metadata": {
    "id": "ZHb4DxkvmmBb"
   },
   "outputs": [],
   "source": [
    "G = add_edge_traffic_times(G, **TRAFFIC_TIME_CONFIG)"
   ]
  },
  {
   "cell_type": "code",
   "execution_count": null,
   "metadata": {
    "id": "INFTkc1BQ4wT"
   },
   "outputs": [],
   "source": [
    "# create gdfs\n",
    "nodes_gdf, edges_gdf = ox.graph_to_gdfs(G)"
   ]
  },
  {
   "cell_type": "code",
   "execution_count": null,
   "metadata": {},
   "outputs": [],
   "source": [
    "edges_gdf"
   ]
  },
  {
   "cell_type": "code",
   "execution_count": null,
   "metadata": {
    "id": "CQLgp09_Q4wT",
    "outputId": "17985e4c-15ef-43f1-f517-bbe954a26af8"
   },
   "outputs": [],
   "source": [
    "edges_gdf[[\"travel_time\", \"traffic_time\", \"total_time\"]]"
   ]
  },
  {
   "cell_type": "markdown",
   "metadata": {
    "id": "X7hrWImSQ4wT"
   },
   "source": [
    "# Penalty functions"
   ]
  },
  {
   "cell_type": "markdown",
   "metadata": {},
   "source": [
    "Use get_turn_penalty_dict function to get turn penalty dictionary"
   ]
  },
  {
   "cell_type": "code",
   "execution_count": null,
   "metadata": {},
   "outputs": [],
   "source": [
    "from functions import get_turn_penalty_dict"
   ]
  },
  {
   "cell_type": "code",
   "execution_count": null,
   "metadata": {
    "id": "EbE7DF-dQ4wT",
    "outputId": "26f7aaaa-9195-49e0-bae8-db63d7bd1aff"
   },
   "outputs": [],
   "source": [
    "penalty = get_turn_penalty_dict(G, left_turn_penalty=30, right_turn_penalty=10, u_turn_penalty=90)"
   ]
  },
  {
   "cell_type": "code",
   "execution_count": null,
   "metadata": {},
   "outputs": [],
   "source": [
    "penalty"
   ]
  },
  {
   "cell_type": "markdown",
   "metadata": {
    "id": "7tyru0OPQ4wT"
   },
   "source": [
    "# shortest_path_turn_penalty"
   ]
  },
  {
   "cell_type": "code",
   "execution_count": null,
   "metadata": {},
   "outputs": [],
   "source": [
    "# import necessary functions from functions.py\n",
    "from functions import get_routes_from_gdfs, shortest_path_turn_penalty"
   ]
  },
  {
   "cell_type": "code",
   "execution_count": null,
   "metadata": {},
   "outputs": [],
   "source": [
    "# routes of 10 O-D pairs\n",
    "# condiders traffic control penalty and turn penalty\n",
    "routes = get_routes_from_gdfs(\n",
    "    G,\n",
    "    origins_gdf,\n",
    "    destinations_gdf,\n",
    "    weight=\"total_time\",\n",
    "    penalty=penalty,\n",
    ")"
   ]
  },
  {
   "cell_type": "code",
   "execution_count": null,
   "metadata": {},
   "outputs": [],
   "source": [
    "# travel time of 10 O-D pairs routes\n",
    "time_result = []\n",
    "\n",
    "for i in range(len(routes)):\n",
    "    x = sum(ox.utils_graph.get_route_edge_attributes(G, routes[i], \"total_time\"))\n",
    "    time_result.append(x)"
   ]
  },
  {
   "cell_type": "code",
   "execution_count": null,
   "metadata": {},
   "outputs": [],
   "source": [
    "time_result"
   ]
  },
  {
   "cell_type": "code",
   "execution_count": null,
   "metadata": {},
   "outputs": [],
   "source": [
    "# format time_result\n",
    "def format_travel_time(seconds):\n",
    "    if seconds is None:\n",
    "        return None\n",
    "\n",
    "    rounded_seconds = round(seconds)\n",
    "    minutes, remaining_seconds = divmod(rounded_seconds, 60)\n",
    "    hours, minutes = divmod(minutes, 60)\n",
    "\n",
    "    formatted_time = []\n",
    "\n",
    "    if hours:\n",
    "        formatted_time.append(f\"{hours} hour\")\n",
    "\n",
    "    if minutes:\n",
    "        formatted_time.append(f\"{minutes} min\")\n",
    "\n",
    "    if remaining_seconds:\n",
    "        formatted_time.append(f\"{remaining_seconds} sec\")\n",
    "\n",
    "    return \" \".join(formatted_time)\n",
    "\n",
    "\n",
    "formatted_times = [format_travel_time(t) for t in time_result]"
   ]
  },
  {
   "cell_type": "code",
   "execution_count": null,
   "metadata": {},
   "outputs": [],
   "source": [
    "formatted_times"
   ]
  },
  {
   "cell_type": "markdown",
   "metadata": {
    "id": "9rIn98ESQ4wU"
   },
   "source": [
    "### TEST"
   ]
  },
  {
   "cell_type": "code",
   "execution_count": null,
   "metadata": {
    "id": "7H0dJ1ihQ4wU"
   },
   "outputs": [],
   "source": [
    "# sample\n",
    "## for test, used 7th O-D pair\n",
    "orig_node = ox.distance.nearest_nodes(\n",
    "    G,\n",
    "    origins_gdf.iloc[6][\"geometry\"].x,\n",
    "    origins_gdf.iloc[6][\"geometry\"].y,\n",
    ")\n",
    "dest_node = ox.distance.nearest_nodes(\n",
    "    G,\n",
    "    destinations_gdf.iloc[6][\"geometry\"].x,\n",
    "    destinations_gdf.iloc[6][\"geometry\"].y,\n",
    ")"
   ]
  },
  {
   "cell_type": "code",
   "execution_count": null,
   "metadata": {
    "id": "NcnZ-vtlQ4wU"
   },
   "outputs": [],
   "source": [
    "# with both traffic, turn penalties\n",
    "shortest_path = shortest_path_turn_penalty(\n",
    "    G,\n",
    "    orig_node,\n",
    "    dest_node,\n",
    "    weight=\"total_time\",\n",
    "    penalty=penalty,\n",
    ")"
   ]
  },
  {
   "cell_type": "code",
   "execution_count": null,
   "metadata": {
    "id": "NUhXKFT2Q4wU"
   },
   "outputs": [],
   "source": [
    "# without traffic or turn penalties\n",
    "# weight = 'travel_time'\n",
    "no_penalty = shortest_path_turn_penalty(G, orig_node, dest_node, weight=\"travel_time\")"
   ]
  },
  {
   "cell_type": "code",
   "execution_count": null,
   "metadata": {
    "id": "44wEq9k8Q4wV"
   },
   "outputs": [],
   "source": [
    "# only traffic penalties\n",
    "only_traffic = shortest_path_turn_penalty(G, orig_node, dest_node, weight=\"total_time\")"
   ]
  },
  {
   "cell_type": "code",
   "execution_count": null,
   "metadata": {
    "id": "sHNHMh_0Q4wV"
   },
   "outputs": [],
   "source": [
    "# only turn penalties\n",
    "only_turn = shortest_path_turn_penalty(\n",
    "    G,\n",
    "    orig_node,\n",
    "    dest_node,\n",
    "    weight=\"travel_time\",\n",
    "    penalty=penalty,\n",
    ")"
   ]
  },
  {
   "cell_type": "code",
   "execution_count": null,
   "metadata": {},
   "outputs": [],
   "source": [
    "# difference in the routes\n",
    "# plot the routes on top of the network\n",
    "ox.plot_graph_routes(\n",
    "    G,\n",
    "    routes=[shortest_path, no_penalty, only_traffic, only_turn],\n",
    "    route_linewidth=1,\n",
    "    route_colors=[\"r\", \"b\", \"g\", \"y\"],\n",
    "    bgcolor=\"k\",\n",
    "    node_size=0,\n",
    ")\n",
    "\n",
    "plt.show()"
   ]
  },
  {
   "cell_type": "markdown",
   "metadata": {
    "id": "cN4kiFFava7T"
   },
   "source": [
    "# Calculate time"
   ]
  },
  {
   "cell_type": "code",
   "execution_count": null,
   "metadata": {},
   "outputs": [],
   "source": [
    "# calculate the total travel time of each route\n",
    "no_penalties = sum(ox.utils_graph.get_route_edge_attributes(G, no_penalty, \"travel_time\"))\n",
    "all_penalties = sum(ox.utils_graph.get_route_edge_attributes(G, shortest_path, \"total_time\"))\n",
    "traffic_penalties = sum(ox.utils_graph.get_route_edge_attributes(G, only_traffic, \"total_time\"))\n",
    "turn_penalites = sum(ox.utils_graph.get_route_edge_attributes(G, only_turn, \"travel_time\"))"
   ]
  },
  {
   "cell_type": "code",
   "execution_count": null,
   "metadata": {},
   "outputs": [],
   "source": [
    "osmnx = ox.distance.shortest_path(G, orig_node, dest_node, weight=\"travel_time\")\n",
    "osmnx_result = sum(ox.utils_graph.get_route_edge_attributes(G, osmnx, \"travel_time\"))"
   ]
  },
  {
   "cell_type": "code",
   "execution_count": null,
   "metadata": {},
   "outputs": [],
   "source": [
    "data = {\n",
    "    \"osmnx_result\": [osmnx_result],\n",
    "    \"no_penalties\": [no_penalties],\n",
    "    \"all_penalties\": [all_penalties],\n",
    "    \"traffic_penalties\": [traffic_penalties],\n",
    "    \"turn_penalites\": [turn_penalites],\n",
    "}\n",
    "\n",
    "comparison = pd.DataFrame(data)"
   ]
  },
  {
   "cell_type": "code",
   "execution_count": null,
   "metadata": {},
   "outputs": [],
   "source": [
    "comparison"
   ]
  }
 ],
 "metadata": {
  "colab": {
   "provenance": []
  },
  "kernelspec": {
   "display_name": "Python 3 (ipykernel)",
   "language": "python",
   "name": "python3"
  },
  "language_info": {
   "codemirror_mode": {
    "name": "ipython",
    "version": 3
   },
   "file_extension": ".py",
   "mimetype": "text/x-python",
   "name": "python",
   "nbconvert_exporter": "python",
   "pygments_lexer": "ipython3",
   "version": "3.12.0"
  },
  "vscode": {
   "interpreter": {
    "hash": "9459c1f1e6a42d62dba2ec1671ea395e68ff99b4f6ce754dc9cd2717ec5d1a8f"
   }
  }
 },
 "nbformat": 4,
 "nbformat_minor": 4
}

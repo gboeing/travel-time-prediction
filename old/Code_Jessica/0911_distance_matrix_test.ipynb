{
 "cells": [
  {
   "cell_type": "markdown",
   "id": "7ddf56e4",
   "metadata": {},
   "source": [
    "## Google Distance Matrix Trial\n",
    "Tested Google Distance Matrix based on 10 O-D pairs with different departure times(durtion, duration_in_traffic)."
   ]
  },
  {
   "cell_type": "code",
   "execution_count": null,
   "id": "0c4f7541",
   "metadata": {},
   "outputs": [],
   "source": [
    "import datetime\n",
    "import time\n",
    "\n",
    "import geopandas as gpd\n",
    "import googlemaps\n",
    "import pandas as pd\n",
    "from shapely import wkt"
   ]
  },
  {
   "cell_type": "code",
   "execution_count": null,
   "id": "0d465cf0",
   "metadata": {},
   "outputs": [],
   "source": [
    "# Jessica Google API Key\n",
    "key = \"Jessica Google API Key\""
   ]
  },
  {
   "cell_type": "code",
   "execution_count": null,
   "id": "7f6b4ffd",
   "metadata": {},
   "outputs": [],
   "source": [
    "origins_df = pd.read_csv(\"../Data/origins_gdf.csv\")\n",
    "destinations_df = pd.read_csv(\"../Data/destinations_gdf.csv\")"
   ]
  },
  {
   "cell_type": "code",
   "execution_count": null,
   "id": "18b8bcca",
   "metadata": {},
   "outputs": [],
   "source": [
    "origins_df[\"geometry\"] = origins_df[\"geometry\"].apply(wkt.loads)\n",
    "destinations_df[\"geometry\"] = destinations_df[\"geometry\"].apply(wkt.loads)"
   ]
  },
  {
   "cell_type": "code",
   "execution_count": null,
   "id": "14072fcd",
   "metadata": {},
   "outputs": [],
   "source": [
    "origins_gdf = gpd.GeoDataFrame(origins_df, geometry=\"geometry\")\n",
    "destinations_gdf = gpd.GeoDataFrame(destinations_df, geometry=\"geometry\")"
   ]
  },
  {
   "cell_type": "code",
   "execution_count": null,
   "id": "c683b6f8",
   "metadata": {},
   "outputs": [],
   "source": [
    "type(destinations_gdf)"
   ]
  },
  {
   "cell_type": "markdown",
   "id": "f35d10f4",
   "metadata": {},
   "source": [
    "## Calculate Free-Flow Travel Time"
   ]
  },
  {
   "cell_type": "code",
   "execution_count": null,
   "id": "92bdaca5",
   "metadata": {},
   "outputs": [],
   "source": [
    "gmaps = googlemaps.Client(key=key)"
   ]
  },
  {
   "cell_type": "code",
   "execution_count": null,
   "id": "f1ec29b5",
   "metadata": {},
   "outputs": [],
   "source": [
    "# extract origin and destination coordinates from the GeoDataFrames\n",
    "origins = origins_gdf.geometry.apply(lambda point: (point.y, point.x)).tolist()\n",
    "destinations = destinations_gdf.geometry.apply(lambda point: (point.y, point.x)).tolist()"
   ]
  },
  {
   "cell_type": "code",
   "execution_count": null,
   "id": "02cbd2e8",
   "metadata": {},
   "outputs": [],
   "source": [
    "# trial at 9/10 6:35 pm\n",
    "result = gmaps.distance_matrix(origins, destinations, mode=\"driving\")"
   ]
  },
  {
   "cell_type": "code",
   "execution_count": null,
   "id": "4d457666",
   "metadata": {},
   "outputs": [],
   "source": [
    "result"
   ]
  },
  {
   "cell_type": "code",
   "execution_count": null,
   "id": "39fa824f",
   "metadata": {},
   "outputs": [],
   "source": [
    "# create free_flow travel time (at 9/8 10:48 pm)\n",
    "free_flow_times = []\n",
    "for origin, destination in zip(origins, destinations, strict=False):\n",
    "    # call the Distance Matrix API\n",
    "    result = gmaps.distance_matrix(origins=origin, destinations=destination, mode=\"driving\")\n",
    "\n",
    "    # extract travel time from the result\n",
    "    travel_time = result[\"rows\"][0][\"elements\"][0][\"duration\"][\"text\"]\n",
    "    free_flow_times.append(travel_time)"
   ]
  },
  {
   "cell_type": "code",
   "execution_count": null,
   "id": "a630d141",
   "metadata": {},
   "outputs": [],
   "source": [
    "free_flow_times"
   ]
  },
  {
   "cell_type": "code",
   "execution_count": null,
   "id": "d04c4649",
   "metadata": {},
   "outputs": [],
   "source": [
    "# create free_flow travel time (at 9/10 7/52 pm)\n",
    "free_flow_times = []\n",
    "for origin, destination in zip(origins, destinations, strict=False):\n",
    "    # call the Distance Matrix API\n",
    "    result = gmaps.distance_matrix(origins=origin, destinations=destination, mode=\"driving\")\n",
    "\n",
    "    # extract travel time from the result\n",
    "    travel_time = result[\"rows\"][0][\"elements\"][0][\"duration\"][\"text\"]\n",
    "    free_flow_times.append(travel_time)"
   ]
  },
  {
   "cell_type": "code",
   "execution_count": null,
   "id": "9a8f3a21",
   "metadata": {},
   "outputs": [],
   "source": [
    "free_flow_times"
   ]
  },
  {
   "cell_type": "code",
   "execution_count": null,
   "id": "1b77fbce",
   "metadata": {},
   "outputs": [],
   "source": [
    "# create distance\n",
    "distances = []\n",
    "for origin, destination in zip(origins, destinations, strict=False):\n",
    "    # call the Distance Matrix API\n",
    "    result = gmaps.distance_matrix(origins=origin, destinations=destination, mode=\"driving\")\n",
    "\n",
    "    # extract distance from the result\n",
    "    distance = result[\"rows\"][0][\"elements\"][0][\"distance\"][\"text\"]\n",
    "    distances.append(distance)"
   ]
  },
  {
   "cell_type": "code",
   "execution_count": null,
   "id": "0bc2cb95",
   "metadata": {},
   "outputs": [],
   "source": [
    "distances"
   ]
  },
  {
   "cell_type": "markdown",
   "id": "aaee62c3",
   "metadata": {},
   "source": [
    "## Real-Time Travel Time"
   ]
  },
  {
   "cell_type": "code",
   "execution_count": null,
   "id": "a73ac9eb",
   "metadata": {},
   "outputs": [],
   "source": [
    "# trial at 9/10 6:35 pm\n",
    "result = gmaps.distance_matrix(origins[0], destinations[0], mode=\"driving\", departure_time=\"now\")\n",
    "result"
   ]
  },
  {
   "cell_type": "code",
   "execution_count": null,
   "id": "1b664524",
   "metadata": {},
   "outputs": [],
   "source": [
    "# create free_flow travel time (at 10:48 pm)\n",
    "real_times = []\n",
    "for origin, destination in zip(origins, destinations, strict=False):\n",
    "    # call the Distance Matrix API\n",
    "    result = gmaps.distance_matrix(\n",
    "        origins=origin,\n",
    "        destinations=destination,\n",
    "        mode=\"driving\",\n",
    "        departure_time=\"now\",\n",
    "    )\n",
    "\n",
    "    # extract travel time from the result\n",
    "    travel_time = result[\"rows\"][0][\"elements\"][0][\"duration\"][\"text\"]\n",
    "    real_times.append(travel_time)"
   ]
  },
  {
   "cell_type": "code",
   "execution_count": null,
   "id": "c3d82ed0",
   "metadata": {},
   "outputs": [],
   "source": [
    "real_times"
   ]
  },
  {
   "cell_type": "code",
   "execution_count": null,
   "id": "5d0a9b74",
   "metadata": {},
   "outputs": [],
   "source": [
    "# create free_flow travel time (at 9/10 7:48 pm)\n",
    "real_times = []\n",
    "for origin, destination in zip(origins, destinations, strict=False):\n",
    "    # call the Distance Matrix API\n",
    "    result = gmaps.distance_matrix(\n",
    "        origins=origin,\n",
    "        destinations=destination,\n",
    "        mode=\"driving\",\n",
    "        departure_time=\"now\",\n",
    "    )\n",
    "\n",
    "    # extract travel time from the result\n",
    "    travel_time = result[\"rows\"][0][\"elements\"][0][\"duration\"][\"text\"]\n",
    "    real_times.append(travel_time)"
   ]
  },
  {
   "cell_type": "code",
   "execution_count": null,
   "id": "5fde7dc0",
   "metadata": {},
   "outputs": [],
   "source": [
    "real_times"
   ]
  },
  {
   "cell_type": "code",
   "execution_count": null,
   "id": "e0d1f20c",
   "metadata": {},
   "outputs": [],
   "source": [
    "real_times = pd.DataFrame(real_times)\n",
    "real_times"
   ]
  },
  {
   "cell_type": "code",
   "execution_count": null,
   "id": "a6503cbd",
   "metadata": {},
   "outputs": [],
   "source": [
    "# create travel time (at 9/10 7:48 pm)\n",
    "traffic_times = []\n",
    "for origin, destination in zip(origins, destinations, strict=False):\n",
    "    # call the Distance Matrix API\n",
    "    result = gmaps.distance_matrix(\n",
    "        origins=origin,\n",
    "        destinations=destination,\n",
    "        mode=\"driving\",\n",
    "        departure_time=\"now\",\n",
    "    )\n",
    "\n",
    "    # extract duration_in_traffic from the result\n",
    "    travel_time = result[\"rows\"][0][\"elements\"][0][\"duration_in_traffic\"][\"text\"]\n",
    "    traffic_times.append(travel_time)"
   ]
  },
  {
   "cell_type": "code",
   "execution_count": null,
   "id": "dd557866",
   "metadata": {},
   "outputs": [],
   "source": [
    "traffic_times"
   ]
  },
  {
   "cell_type": "code",
   "execution_count": null,
   "id": "3cb56412",
   "metadata": {},
   "outputs": [],
   "source": [
    "traffic_times = pd.DataFrame(traffic_times)\n",
    "traffic_times"
   ]
  },
  {
   "cell_type": "markdown",
   "id": "d8ab8a69",
   "metadata": {},
   "source": [
    "## Organize Data"
   ]
  },
  {
   "cell_type": "code",
   "execution_count": null,
   "id": "fe653603",
   "metadata": {},
   "outputs": [],
   "source": [
    "origins_df = origins_df.columns = [\"origins_\" + col for col in origins_df.columns]\n",
    "destinations_df = destinations_df.columns = [\n",
    "    \"destinations_\" + col for col in destinations_df.columns\n",
    "]"
   ]
  },
  {
   "cell_type": "code",
   "execution_count": null,
   "id": "986f5709",
   "metadata": {},
   "outputs": [],
   "source": [
    "combined_df = pd.concat([origins_df, destinations_df], axis=1)"
   ]
  },
  {
   "cell_type": "code",
   "execution_count": null,
   "id": "820fa269",
   "metadata": {},
   "outputs": [],
   "source": [
    "combined_df"
   ]
  },
  {
   "cell_type": "code",
   "execution_count": null,
   "id": "4cf8d42c",
   "metadata": {},
   "outputs": [],
   "source": [
    "combined_df[\"free_flow_time_10:48pm\"] = free_flow_times"
   ]
  },
  {
   "cell_type": "code",
   "execution_count": null,
   "id": "a91a5347",
   "metadata": {},
   "outputs": [],
   "source": [
    "combined_df[\"real_times_10:48pm\"] = real_times"
   ]
  },
  {
   "cell_type": "code",
   "execution_count": null,
   "id": "8b7b30d6",
   "metadata": {},
   "outputs": [],
   "source": [
    "combined_df"
   ]
  },
  {
   "cell_type": "markdown",
   "id": "5cc79d22",
   "metadata": {},
   "source": [
    "## Set Times"
   ]
  },
  {
   "cell_type": "code",
   "execution_count": null,
   "id": "25b0189b",
   "metadata": {},
   "outputs": [],
   "source": [
    "# trial\n",
    "\n",
    "departure_time_obj = datetime.datetime(2023, 10, 1, 11)\n",
    "departure_time_unix = int(time.mktime(departure_time_obj.timetuple()))\n",
    "\n",
    "result = gmaps.distance_matrix(\n",
    "    origins=origins[0],\n",
    "    destinations=destinations[0],\n",
    "    mode=\"driving\",\n",
    "    departure_time=departure_time_unix,\n",
    ")\n",
    "\n",
    "result"
   ]
  },
  {
   "cell_type": "code",
   "execution_count": null,
   "id": "5fcc567d",
   "metadata": {},
   "outputs": [],
   "source": [
    "# set departure_times\n",
    "start_time = datetime.datetime(2023, 10, 1)\n",
    "departure_times = [start_time + datetime.timedelta(hours=i) for i in range(24)]"
   ]
  },
  {
   "cell_type": "code",
   "execution_count": null,
   "id": "a33614d9",
   "metadata": {},
   "outputs": [],
   "source": [
    "travel_times = []\n",
    "\n",
    "# calculate the travel time for each pair\n",
    "for i in range(10):\n",
    "    origin = origins[i]\n",
    "    destination = destinations[i]\n",
    "\n",
    "    travel_times_by_hour = {}\n",
    "\n",
    "    for dt in departure_times:\n",
    "        hour_str = dt.strftime(\"%H\")\n",
    "        column_name = f\"duration_{hour_str}\"\n",
    "\n",
    "        result = gmaps.distance_matrix(\n",
    "            origins=origin,\n",
    "            destinations=destination,\n",
    "            mode=\"driving\",\n",
    "            departure_time=dt,\n",
    "        )\n",
    "\n",
    "        travel_time = result[\"rows\"][0][\"elements\"][0][\"duration\"][\"text\"]\n",
    "        travel_times_by_hour[column_name] = travel_time\n",
    "\n",
    "    travel_times.append(travel_times_by_hour)"
   ]
  },
  {
   "cell_type": "code",
   "execution_count": null,
   "id": "41a9444e",
   "metadata": {},
   "outputs": [],
   "source": [
    "travel_times_df = pd.DataFrame(travel_times)"
   ]
  },
  {
   "cell_type": "code",
   "execution_count": null,
   "id": "a5ffa31c",
   "metadata": {},
   "outputs": [],
   "source": [
    "travel_times_df"
   ]
  },
  {
   "cell_type": "code",
   "execution_count": null,
   "id": "566759b2",
   "metadata": {},
   "outputs": [],
   "source": [
    "travel_times_t = []\n",
    "\n",
    "# calculate the travel time for each pair\n",
    "for i in range(10):\n",
    "    origin = origins[i]\n",
    "    destination = destinations[i]\n",
    "\n",
    "    travel_times_by_hour = {}\n",
    "\n",
    "    for dt in departure_times:\n",
    "        hour_str = dt.strftime(\"%H\")\n",
    "        column_name = f\"duration_in_traffic_{hour_str}\"\n",
    "\n",
    "        result = gmaps.distance_matrix(\n",
    "            origins=origin,\n",
    "            destinations=destination,\n",
    "            mode=\"driving\",\n",
    "            departure_time=dt,\n",
    "        )\n",
    "\n",
    "        travel_time = result[\"rows\"][0][\"elements\"][0][\"duration_in_traffic\"][\"text\"]\n",
    "        travel_times_by_hour[column_name] = travel_time\n",
    "\n",
    "    travel_times_t.append(travel_times_by_hour)"
   ]
  },
  {
   "cell_type": "code",
   "execution_count": null,
   "id": "6a3aa9c8",
   "metadata": {},
   "outputs": [],
   "source": [
    "travel_times_df2 = pd.DataFrame(travel_times_t)"
   ]
  },
  {
   "cell_type": "code",
   "execution_count": null,
   "id": "53b6f1df",
   "metadata": {},
   "outputs": [],
   "source": [
    "travel_times_df2"
   ]
  },
  {
   "cell_type": "markdown",
   "id": "7c69a1ad",
   "metadata": {},
   "source": [
    "## Organize Data"
   ]
  },
  {
   "cell_type": "code",
   "execution_count": null,
   "id": "76728754",
   "metadata": {},
   "outputs": [],
   "source": [
    "combined_df = pd.concat([combined_df, travel_times_df], axis=1)"
   ]
  },
  {
   "cell_type": "code",
   "execution_count": null,
   "id": "89a5dd0d",
   "metadata": {},
   "outputs": [],
   "source": [
    "combined_df = pd.concat([combined_df, travel_times_df2], axis=1)"
   ]
  },
  {
   "cell_type": "code",
   "execution_count": null,
   "id": "98a7cb3d",
   "metadata": {},
   "outputs": [],
   "source": [
    "combined_df[\"distance\"] = distances"
   ]
  },
  {
   "cell_type": "code",
   "execution_count": null,
   "id": "1054972a",
   "metadata": {},
   "outputs": [],
   "source": [
    "combined_df"
   ]
  },
  {
   "cell_type": "code",
   "execution_count": null,
   "id": "85fb83ab",
   "metadata": {},
   "outputs": [],
   "source": []
  }
 ],
 "metadata": {
  "kernelspec": {
   "display_name": "Python (ppd599)",
   "language": "python",
   "name": "ppd599"
  },
  "language_info": {
   "codemirror_mode": {
    "name": "ipython",
    "version": 3
   },
   "file_extension": ".py",
   "mimetype": "text/x-python",
   "name": "python",
   "nbconvert_exporter": "python",
   "pygments_lexer": "ipython3",
   "version": "3.10.10"
  },
  "vscode": {
   "interpreter": {
    "hash": "2bb776062ff31192b4bf9af4036b9c8615fee959ed08a0f264ab14429dc90274"
   }
  }
 },
 "nbformat": 4,
 "nbformat_minor": 5
}

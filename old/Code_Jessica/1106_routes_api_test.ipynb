{
 "cells": [
  {
   "cell_type": "markdown",
   "metadata": {},
   "source": [
    "## Import libraries and data"
   ]
  },
  {
   "cell_type": "code",
   "execution_count": null,
   "metadata": {},
   "outputs": [],
   "source": [
    "# import libraries\n",
    "from datetime import datetime, timedelta\n",
    "\n",
    "import googlemaps\n",
    "import matplotlib.pyplot as plt\n",
    "import pandas as pd\n",
    "import pytz"
   ]
  },
  {
   "cell_type": "code",
   "execution_count": null,
   "metadata": {},
   "outputs": [],
   "source": [
    "# import defined functions and class\n",
    "from functions.routes_api_functions import createDataFrame, parseDataframeToLocations"
   ]
  },
  {
   "cell_type": "code",
   "execution_count": null,
   "metadata": {},
   "outputs": [],
   "source": [
    "# import origin and destination data\n",
    "origins = pd.read_csv(\"../Data/origins_gdf.csv\")\n",
    "originsLoc = parseDataframeToLocations(origins)\n",
    "destinations = pd.read_csv(\"../Data/destinations_gdf.csv\")\n",
    "destinationsLoc = parseDataframeToLocations(destinations)"
   ]
  },
  {
   "cell_type": "markdown",
   "metadata": {},
   "source": [
    "## API tests"
   ]
  },
  {
   "cell_type": "code",
   "execution_count": null,
   "metadata": {},
   "outputs": [],
   "source": [
    "# api key\n",
    "key = \"Jessica_Key\""
   ]
  },
  {
   "cell_type": "code",
   "execution_count": null,
   "metadata": {},
   "outputs": [],
   "source": [
    "x = createDataFrame(\n",
    "    apikey=key,\n",
    "    orig=originsLoc[5],\n",
    "    dest=destinationsLoc[0],\n",
    "    traffic=\"TRAFFIC_AWARE\",\n",
    "    departure_time=(2023, 11, 13, 7, 0, 0),\n",
    ")\n",
    "x"
   ]
  },
  {
   "cell_type": "code",
   "execution_count": null,
   "metadata": {},
   "outputs": [],
   "source": [
    "x = createDataFrame(\n",
    "    apikey=key,\n",
    "    orig=originsLoc[5],\n",
    "    dest=destinationsLoc[0],\n",
    "    traffic=\"TRAFFIC_AWARE_OPTIMAL\",\n",
    "    departure_time=(2023, 11, 13, 7, 0, 0),\n",
    ")\n",
    "x"
   ]
  },
  {
   "cell_type": "code",
   "execution_count": null,
   "metadata": {},
   "outputs": [],
   "source": [
    "# Traffic Unaware, Traffic Aware, Traffic Aware Optimal in 24 hours of day\n",
    "## Weekday"
   ]
  },
  {
   "cell_type": "code",
   "execution_count": null,
   "metadata": {},
   "outputs": [],
   "source": [
    "# TRAFFIC_UNAWARE\n",
    "# 2023-11-13 (Mon)\n",
    "# departure_time = None\n",
    "# departure_time does not apply to TRAFFIC_UNAWARE"
   ]
  },
  {
   "cell_type": "code",
   "execution_count": null,
   "metadata": {},
   "outputs": [],
   "source": [
    "# create DataFrame\n",
    "columns = [\"hour\" + str(hour) for hour in range(24)]\n",
    "row_names = [\"O-D \" + str(i) for i in range(len(originsLoc))]\n",
    "\n",
    "df_unaware_weekday = pd.DataFrame(index=row_names, columns=columns)\n",
    "\n",
    "# request the duration for 10 O-D pairs\n",
    "for i in range(10):\n",
    "    durations = []\n",
    "\n",
    "    route_info_df = createDataFrame(\n",
    "        apikey=key,\n",
    "        orig=originsLoc[i],\n",
    "        dest=destinationsLoc[i],\n",
    "        traffic=\"TRAFFIC_UNAWARE\",\n",
    "        departure_time=None,\n",
    "    )\n",
    "\n",
    "    # extract the duration information\n",
    "    duration = route_info_df[\"duration\"].iloc[0] if not route_info_df.empty else None\n",
    "    durations.append(duration)\n",
    "\n",
    "    df_unaware_weekday.loc[\"O-D \" + str(i)] = durations\n",
    "\n",
    "df_unaware_weekday"
   ]
  },
  {
   "cell_type": "code",
   "execution_count": null,
   "metadata": {},
   "outputs": [],
   "source": [
    "# TRAFFIC_AWARE\n",
    "# 2023-11-13 (Mon)"
   ]
  },
  {
   "cell_type": "code",
   "execution_count": null,
   "metadata": {},
   "outputs": [],
   "source": [
    "# create DataFrame\n",
    "columns = [\"hour\" + str(hour) for hour in range(24)]\n",
    "row_names = [\"O-D \" + str(i) for i in range(len(originsLoc))]\n",
    "\n",
    "df_aware_weekday = pd.DataFrame(index=row_names, columns=columns)\n",
    "\n",
    "# request the duration for 10 O-D pairs over a 24-hour period\n",
    "for i in range(len(origins)):\n",
    "    durations = []\n",
    "    for hour in range(24):\n",
    "        departure_time = (2023, 11, 13, hour, 0)\n",
    "\n",
    "        route_info_df = createDataFrame(\n",
    "            apikey=key,\n",
    "            orig=originsLoc[i],\n",
    "            dest=destinationsLoc[i],\n",
    "            traffic=\"TRAFFIC_AWARE\",\n",
    "            departure_time=departure_time,\n",
    "        )\n",
    "\n",
    "        # extract the duration information\n",
    "        duration = route_info_df[\"duration\"].iloc[0] if not route_info_df.empty else None\n",
    "        durations.append(duration)\n",
    "\n",
    "    df_aware_weekday.loc[\"O-D \" + str(i)] = durations\n",
    "\n",
    "df_aware_weekday"
   ]
  },
  {
   "cell_type": "code",
   "execution_count": null,
   "metadata": {},
   "outputs": [],
   "source": [
    "# TRAFFIC_AWARE_OPTIMAL\n",
    "# 2023-11-13 (Mon)"
   ]
  },
  {
   "cell_type": "code",
   "execution_count": null,
   "metadata": {},
   "outputs": [],
   "source": [
    "# create DataFrame\n",
    "columns = [\"hour\" + str(hour) for hour in range(24)]\n",
    "row_names = [\"O-D \" + str(i) for i in range(len(originsLoc))]\n",
    "\n",
    "df_opt_weekday = pd.DataFrame(index=row_names, columns=columns)\n",
    "\n",
    "# request the duration for 10 O-D pairs over a 24-hour period\n",
    "for i in range(len(originsLoc)):\n",
    "    durations = []\n",
    "    for hour in range(24):\n",
    "        departure_time = (2023, 11, 13, hour, 0)\n",
    "\n",
    "        route_info_df = createDataFrame(\n",
    "            apikey=key,\n",
    "            orig=originsLoc[i],\n",
    "            dest=destinationsLoc[i],\n",
    "            traffic=\"TRAFFIC_AWARE_OPTIMAL\",\n",
    "            departure_time=departure_time,\n",
    "        )\n",
    "\n",
    "        # extract the duration information\n",
    "        duration = route_info_df[\"duration\"].iloc[0] if not route_info_df.empty else None\n",
    "        durations.append(duration)\n",
    "\n",
    "    df_opt_weekday.loc[\"O-D \" + str(i)] = durations\n",
    "\n",
    "df_opt_weekday"
   ]
  },
  {
   "cell_type": "code",
   "execution_count": null,
   "metadata": {},
   "outputs": [],
   "source": [
    "df_opt_weekday == df_aware_weekday"
   ]
  },
  {
   "cell_type": "code",
   "execution_count": null,
   "metadata": {},
   "outputs": [],
   "source": [
    "# Traffic Unaware, Traffic Aware, Traffic Aware Optimal in 24 hours of day\n",
    "## Weekend"
   ]
  },
  {
   "cell_type": "code",
   "execution_count": null,
   "metadata": {},
   "outputs": [],
   "source": [
    "# TRAFFIC_UNAWARE\n",
    "# 2023-11-18 (Sat)\n",
    "# departure_time = None\n",
    "# departure_time does not apply to TRAFFIC_UNAWARE"
   ]
  },
  {
   "cell_type": "code",
   "execution_count": null,
   "metadata": {},
   "outputs": [],
   "source": [
    "# create DataFrame\n",
    "columns = [\"hour\" + str(hour) for hour in range(24)]\n",
    "row_names = [\"O-D \" + str(i) for i in range(len(originsLoc))]\n",
    "\n",
    "df_unaware_weekend = pd.DataFrame(index=row_names, columns=columns)\n",
    "\n",
    "# request the duration for 10 O-D pairs\n",
    "for i in range(10):\n",
    "    durations = []\n",
    "\n",
    "    route_info_df = createDataFrame(\n",
    "        apikey=key,\n",
    "        orig=originsLoc[i],\n",
    "        dest=destinationsLoc[i],\n",
    "        traffic=\"TRAFFIC_UNAWARE\",\n",
    "        departure_time=None,\n",
    "    )\n",
    "\n",
    "    # extract the duration information\n",
    "    duration = route_info_df[\"duration\"].iloc[0] if not route_info_df.empty else None\n",
    "    durations.append(duration)\n",
    "\n",
    "    df_unaware_weekend.loc[\"O-D \" + str(i)] = durations\n",
    "\n",
    "df_unaware_weekend"
   ]
  },
  {
   "cell_type": "code",
   "execution_count": null,
   "metadata": {},
   "outputs": [],
   "source": [
    "# TRAFFIC_AWARE\n",
    "# 2023-11-18 (Sat)"
   ]
  },
  {
   "cell_type": "code",
   "execution_count": null,
   "metadata": {},
   "outputs": [],
   "source": [
    "# create DataFrame\n",
    "columns = [\"hour\" + str(hour) for hour in range(24)]\n",
    "row_names = [\"O-D \" + str(i) for i in range(len(originsLoc))]\n",
    "\n",
    "df_aware_weekend = pd.DataFrame(index=row_names, columns=columns)\n",
    "\n",
    "# request the duration for 10 O-D pairs over a 24-hour period\n",
    "for i in range(len(origins)):\n",
    "    durations = []\n",
    "    for hour in range(24):\n",
    "        departure_time = (2023, 11, 18, hour, 0)\n",
    "\n",
    "        route_info_df = createDataFrame(\n",
    "            apikey=key,\n",
    "            orig=originsLoc[i],\n",
    "            dest=destinationsLoc[i],\n",
    "            traffic=\"TRAFFIC_AWARE\",\n",
    "            departure_time=departure_time,\n",
    "        )\n",
    "\n",
    "        # extract the duration information\n",
    "        duration = route_info_df[\"duration\"].iloc[0] if not route_info_df.empty else None\n",
    "        durations.append(duration)\n",
    "\n",
    "    df_aware_weekend.loc[\"O-D \" + str(i)] = durations\n",
    "\n",
    "df_aware_weekend"
   ]
  },
  {
   "cell_type": "code",
   "execution_count": null,
   "metadata": {},
   "outputs": [],
   "source": [
    "# TRAFFIC_AWARE_OPTIMAL\n",
    "# 2023-11-18 (Sat)"
   ]
  },
  {
   "cell_type": "code",
   "execution_count": null,
   "metadata": {},
   "outputs": [],
   "source": [
    "# create DataFrame\n",
    "columns = [\"hour\" + str(hour) for hour in range(24)]\n",
    "row_names = [\"O-D \" + str(i) for i in range(len(originsLoc))]\n",
    "\n",
    "df_opt_weekend = pd.DataFrame(index=row_names, columns=columns)\n",
    "\n",
    "# request the duration for 10 O-D pairs over a 24-hour period\n",
    "for i in range(len(originsLoc)):\n",
    "    durations = []\n",
    "    for hour in range(24):\n",
    "        departure_time = (2023, 11, 18, hour, 0)\n",
    "\n",
    "        route_info_df = createDataFrame(\n",
    "            apikey=key,\n",
    "            orig=originsLoc[i],\n",
    "            dest=destinationsLoc[i],\n",
    "            traffic=\"TRAFFIC_AWARE_OPTIMAL\",\n",
    "            departure_time=departure_time,\n",
    "        )\n",
    "\n",
    "        # extract the duration information\n",
    "        duration = route_info_df[\"duration\"].iloc[0] if not route_info_df.empty else None\n",
    "        durations.append(duration)\n",
    "\n",
    "    df_opt_weekend.loc[\"O-D \" + str(i)] = durations\n",
    "\n",
    "df_opt_weekend"
   ]
  },
  {
   "cell_type": "code",
   "execution_count": null,
   "metadata": {},
   "outputs": [],
   "source": [
    "df_opt_weekend == df_aware_weekend"
   ]
  },
  {
   "cell_type": "markdown",
   "metadata": {},
   "source": [
    "## Visualize"
   ]
  },
  {
   "cell_type": "code",
   "execution_count": null,
   "metadata": {},
   "outputs": [],
   "source": [
    "dataframes = {\n",
    "    \"Unaware\": df_unaware_weekday,\n",
    "    \"Aware Weekday\": df_aware_weekday,\n",
    "    \"Optimal Weekday\": df_opt_weekday,\n",
    "    \"Aware Weekend\": df_aware_weekend,\n",
    "    \"Optimal Weekend\": df_opt_weekend,\n",
    "}\n",
    "\n",
    "# define the styles for each DataFrame\n",
    "styles = {\n",
    "    \"Unaware\": \"k-\",  # Black solid line\n",
    "    \"Aware Weekday\": \"r-\",  # Red solid line\n",
    "    \"Optimal Weekday\": \"r--\",  # Red dashed line\n",
    "    \"Aware Weekend\": \"b-\",  # Blue solid line\n",
    "    \"Optimal Weekend\": \"b--\",  # Blue dashed line\n",
    "}\n",
    "\n",
    "plt.figure(figsize=(15, 25))  # Adjust the size as needed\n",
    "\n",
    "# loop over each O-D pair\n",
    "for i in range(10):\n",
    "    # determine the position of the current plot\n",
    "    col = i // 5 + 1\n",
    "    row = i % 5 + 1\n",
    "    plt.subplot(5, 2, col + (row - 1) * 2)\n",
    "    plt.title(f\"Duration for O-D Pair {i}\")\n",
    "\n",
    "    for df_name, df in dataframes.items():\n",
    "        plt.plot(range(24), df.iloc[i], styles[df_name], label=df_name)\n",
    "\n",
    "    plt.xlabel(\"Hour of Day\")\n",
    "    plt.ylabel(\"Duration (seconds)\")\n",
    "    plt.xticks(range(24))\n",
    "    plt.legend()\n",
    "    plt.tight_layout()\n",
    "\n",
    "plt.show()"
   ]
  },
  {
   "cell_type": "markdown",
   "metadata": {},
   "source": [
    "## Comparison with Distance Matrix"
   ]
  },
  {
   "cell_type": "code",
   "execution_count": null,
   "metadata": {},
   "outputs": [],
   "source": [
    "gmaps = googlemaps.Client(key=key)"
   ]
  },
  {
   "cell_type": "code",
   "execution_count": null,
   "metadata": {},
   "outputs": [],
   "source": [
    "# compare routes duratioin and distance matirx duration in traffic\n",
    "# weekday (11/13)"
   ]
  },
  {
   "cell_type": "code",
   "execution_count": null,
   "metadata": {},
   "outputs": [],
   "source": [
    "# Distance Matrix\n",
    "\n",
    "# departure date at 2023-11-13\n",
    "departure_date = datetime(2023, 11, 13, tzinfo=pytz.timezone(\"US/Pacific\"))\n",
    "\n",
    "# initialize results list for each destination\n",
    "distance_results = [[] for _ in range(10)]\n",
    "\n",
    "# loop through each hour\n",
    "for hour in range(24):\n",
    "    # calculate departure time\n",
    "    departure_time = departure_date + timedelta(hours=hour)\n",
    "\n",
    "    # loop through each origin-destination pair\n",
    "    for i in range(10):\n",
    "        origin_coords = (originsLoc[i].lat, originsLoc[i].lon)\n",
    "        destination_coords = (destinationsLoc[i].lat, destinationsLoc[i].lon)\n",
    "        # call the Distance Matrix API\n",
    "        result = gmaps.distance_matrix(\n",
    "            origin_coords,\n",
    "            destination_coords,\n",
    "            mode=\"driving\",\n",
    "            departure_time=departure_time,\n",
    "        )\n",
    "\n",
    "        # extract travel time from the result\n",
    "        duration_in_traffic = result[\"rows\"][0][\"elements\"][0][\"duration_in_traffic\"][\"value\"]\n",
    "\n",
    "        # append the result to the corresponding destination's list\n",
    "        distance_results[i].append(duration_in_traffic)"
   ]
  },
  {
   "cell_type": "code",
   "execution_count": null,
   "metadata": {},
   "outputs": [],
   "source": [
    "distance_weekday = pd.DataFrame(distance_results)\n",
    "distance_weekday"
   ]
  },
  {
   "cell_type": "code",
   "execution_count": null,
   "metadata": {},
   "outputs": [],
   "source": [
    "# compare routes duratioin and distance matirx duration in traffic\n",
    "# weekend (11/18)"
   ]
  },
  {
   "cell_type": "code",
   "execution_count": null,
   "metadata": {},
   "outputs": [],
   "source": [
    "# Distance Matrix\n",
    "\n",
    "# departure date at 2023-11-18\n",
    "departure_date = datetime(2023, 11, 18, tzinfo=pytz.timezone(\"US/Pacific\"))\n",
    "\n",
    "# initialize results list for each destination\n",
    "distance_results = [[] for _ in range(10)]\n",
    "\n",
    "# loop through each hour\n",
    "for hour in range(24):\n",
    "    # calculate departure time\n",
    "    departure_time = departure_date + timedelta(hours=hour)\n",
    "\n",
    "    # loop through each origin-destination pair\n",
    "    for i in range(10):\n",
    "        origin_coords = (originsLoc[i].lat, originsLoc[i].lon)\n",
    "        destination_coords = (destinationsLoc[i].lat, destinationsLoc[i].lon)\n",
    "        # call the Distance Matrix API\n",
    "        result = gmaps.distance_matrix(\n",
    "            origin_coords,\n",
    "            destination_coords,\n",
    "            mode=\"driving\",\n",
    "            departure_time=departure_time,\n",
    "        )\n",
    "\n",
    "        # extract travel time from the result\n",
    "        duration_in_traffic = result[\"rows\"][0][\"elements\"][0][\"duration_in_traffic\"][\"value\"]\n",
    "\n",
    "        # append the result to the corresponding destination's list\n",
    "        distance_results[i].append(duration_in_traffic)"
   ]
  },
  {
   "cell_type": "code",
   "execution_count": null,
   "metadata": {},
   "outputs": [],
   "source": [
    "distance_weekend = pd.DataFrame(distance_results)\n",
    "distance_weekend"
   ]
  },
  {
   "cell_type": "code",
   "execution_count": null,
   "metadata": {},
   "outputs": [],
   "source": [
    "## visualize\n",
    "dataframes = {\n",
    "    \"Aware Weekday\": df_aware_weekday,\n",
    "    \"Aware Weekend\": df_aware_weekend,\n",
    "    \"Distance Weekday\": distance_weekday,\n",
    "    \"Distance Weekend\": distance_weekend,\n",
    "}\n",
    "\n",
    "# define the styles for each DataFrame\n",
    "styles = {\n",
    "    \"Aware Weekday\": \"r-\",  # Red solid line\n",
    "    \"Aware Weekend\": \"b-\",  # Blue solid line\n",
    "    \"Distance Weekday\": \"r--\",  # Red dashed line\n",
    "    \"Distance Weekend\": \"b--\",  # Blue dashed line\n",
    "}\n",
    "\n",
    "plt.figure(figsize=(15, 25))\n",
    "\n",
    "# loop over each O-D pair\n",
    "for i in range(10):\n",
    "    # determine the position of the current plot\n",
    "    col = i // 5 + 1\n",
    "    row = i % 5 + 1\n",
    "    plt.subplot(5, 2, col + (row - 1) * 2)\n",
    "    plt.title(f\"Comparison for O-D Pair {i}\")\n",
    "\n",
    "    for df_name, df in dataframes.items():\n",
    "        plt.plot(range(24), df.iloc[i], styles[df_name], label=df_name)\n",
    "\n",
    "    plt.xlabel(\"Hour of Day\")\n",
    "    plt.ylabel(\"Duration/Duration_In_Traffic (seconds)\")\n",
    "    plt.xticks(range(24))\n",
    "    plt.legend()\n",
    "    plt.tight_layout()\n",
    "\n",
    "plt.show()"
   ]
  },
  {
   "cell_type": "code",
   "execution_count": null,
   "metadata": {},
   "outputs": [],
   "source": []
  }
 ],
 "metadata": {
  "kernelspec": {
   "display_name": "Python 3.10.10 ('ppd599')",
   "language": "python",
   "name": "python3"
  },
  "language_info": {
   "codemirror_mode": {
    "name": "ipython",
    "version": 3
   },
   "file_extension": ".py",
   "mimetype": "text/x-python",
   "name": "python",
   "nbconvert_exporter": "python",
   "pygments_lexer": "ipython3",
   "version": "3.10.10"
  },
  "vscode": {
   "interpreter": {
    "hash": "9459c1f1e6a42d62dba2ec1671ea395e68ff99b4f6ce754dc9cd2717ec5d1a8f"
   }
  }
 },
 "nbformat": 4,
 "nbformat_minor": 2
}

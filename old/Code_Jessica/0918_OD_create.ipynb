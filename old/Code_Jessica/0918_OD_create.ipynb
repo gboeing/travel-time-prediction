{
 "cells": [
  {
   "cell_type": "markdown",
   "id": "eca3858a",
   "metadata": {},
   "source": [
    "## OSMNX O-D pairs creation\n",
    "\n",
    "Created 10 random O-D pairs. The origins_gdf and destinations_gdf in Data Folder is created in this notebook."
   ]
  },
  {
   "cell_type": "code",
   "execution_count": null,
   "id": "3fa3073e",
   "metadata": {},
   "outputs": [],
   "source": [
    "import geopandas as gpd\n",
    "import matplotlib.pyplot as plt\n",
    "import numpy as np\n",
    "import osmnx as ox"
   ]
  },
  {
   "cell_type": "markdown",
   "id": "6be1f17d",
   "metadata": {},
   "source": [
    "## Create O-D"
   ]
  },
  {
   "cell_type": "code",
   "execution_count": null,
   "id": "1ef0830d",
   "metadata": {},
   "outputs": [],
   "source": [
    "# generate G of LA County\n",
    "G = ox.graph_from_place(\"Los Angeles County, CA, USA\", network_type=\"drive\")"
   ]
  },
  {
   "cell_type": "code",
   "execution_count": null,
   "id": "5c547607",
   "metadata": {},
   "outputs": [],
   "source": [
    "fig, ax = ox.plot_graph(G)\n",
    "plt.show()"
   ]
  },
  {
   "cell_type": "code",
   "execution_count": null,
   "id": "a92d3738",
   "metadata": {},
   "outputs": [],
   "source": [
    "# convert to GeoDataFrames\n",
    "nodes_gdf, edges_gdf = ox.graph_to_gdfs(G)"
   ]
  },
  {
   "cell_type": "code",
   "execution_count": null,
   "id": "8fbbcdf1",
   "metadata": {},
   "outputs": [],
   "source": [
    "edges_gdf"
   ]
  },
  {
   "cell_type": "code",
   "execution_count": null,
   "id": "fd03ee50",
   "metadata": {},
   "outputs": [],
   "source": [
    "# generate random points LA County\n",
    "def sample_points(G, n, seed=None):\n",
    "    if seed is not None:\n",
    "        np.random.seed(seed)\n",
    "    gdf_edges = ox.graph_to_gdfs(G, nodes=False)[[\"geometry\", \"length\"]]\n",
    "    weights = gdf_edges[\"length\"] / gdf_edges[\"length\"].sum()\n",
    "    idx = np.random.choice(gdf_edges.index, size=n, p=weights)\n",
    "    lines = gdf_edges.loc[idx, \"geometry\"]\n",
    "    return lines.interpolate(lines.length * np.random.rand())"
   ]
  },
  {
   "cell_type": "code",
   "execution_count": null,
   "id": "1b2f4576",
   "metadata": {},
   "outputs": [],
   "source": [
    "# sample 10 points\n",
    "origins = sample_points(G, 10, seed=11)\n",
    "destinations = sample_points(G, 10, seed=22)"
   ]
  },
  {
   "cell_type": "code",
   "execution_count": null,
   "id": "9dd273a3",
   "metadata": {},
   "outputs": [],
   "source": [
    "origins"
   ]
  },
  {
   "cell_type": "code",
   "execution_count": null,
   "id": "4695816b",
   "metadata": {},
   "outputs": [],
   "source": [
    "destinations"
   ]
  },
  {
   "cell_type": "markdown",
   "id": "393ea7dd",
   "metadata": {},
   "source": [
    "With Google maps, found the address of the O-D points."
   ]
  },
  {
   "cell_type": "code",
   "execution_count": null,
   "id": "4e85527c",
   "metadata": {},
   "outputs": [],
   "source": [
    "import googlemaps"
   ]
  },
  {
   "cell_type": "code",
   "execution_count": null,
   "id": "91413baa",
   "metadata": {},
   "outputs": [],
   "source": [
    "# Jessica Google API Key\n",
    "key = \"Jessica Google API Key\""
   ]
  },
  {
   "cell_type": "code",
   "execution_count": null,
   "id": "3016c39f",
   "metadata": {},
   "outputs": [],
   "source": [
    "gmaps = googlemaps.Client(key=key)"
   ]
  },
  {
   "cell_type": "code",
   "execution_count": null,
   "id": "0bfc9da8",
   "metadata": {},
   "outputs": [],
   "source": [
    "# origins_address\n",
    "\n",
    "origins_addresses = []\n",
    "\n",
    "for point in origins:\n",
    "    lat, lon = point.y, point.x\n",
    "    reverse_geocode_result = gmaps.reverse_geocode((lat, lon))\n",
    "    if reverse_geocode_result:\n",
    "        address = reverse_geocode_result[0][\"formatted_address\"]\n",
    "        origins_addresses.append(address)\n",
    "    else:\n",
    "        origins_addresses.append(\"no_address\")"
   ]
  },
  {
   "cell_type": "code",
   "execution_count": null,
   "id": "446f14c5",
   "metadata": {},
   "outputs": [],
   "source": [
    "origins_addresses"
   ]
  },
  {
   "cell_type": "code",
   "execution_count": null,
   "id": "ab998ac2",
   "metadata": {},
   "outputs": [],
   "source": [
    "# destinations_address\n",
    "\n",
    "destinations_addresses = []\n",
    "\n",
    "for point in destinations:\n",
    "    lat, lon = point.y, point.x\n",
    "    reverse_geocode_result = gmaps.reverse_geocode((lat, lon))\n",
    "    if reverse_geocode_result:\n",
    "        address = reverse_geocode_result[0][\"formatted_address\"]\n",
    "        destinations_addresses.append(address)\n",
    "    else:\n",
    "        destinations_addresses.append(\"no_address\")"
   ]
  },
  {
   "cell_type": "code",
   "execution_count": null,
   "id": "d12da48d",
   "metadata": {},
   "outputs": [],
   "source": [
    "destinations_addresses"
   ]
  },
  {
   "cell_type": "code",
   "execution_count": null,
   "id": "0a56e2a8",
   "metadata": {},
   "outputs": [],
   "source": [
    "# convert origins to GeoDataFrame and add 'address' column\n",
    "origins_gdf = gpd.GeoDataFrame(origins, columns=[\"geometry\"])\n",
    "origins_gdf[\"address\"] = origins_addresses"
   ]
  },
  {
   "cell_type": "code",
   "execution_count": null,
   "id": "7deecd0a",
   "metadata": {},
   "outputs": [],
   "source": [
    "origins_gdf"
   ]
  },
  {
   "cell_type": "code",
   "execution_count": null,
   "id": "bc365a08",
   "metadata": {},
   "outputs": [],
   "source": [
    "# convert destinations to GeoDataFrame and add 'address' column\n",
    "destinations_gdf = gpd.GeoDataFrame(destinations, columns=[\"geometry\"])\n",
    "destinations_gdf[\"address\"] = destinations_addresses"
   ]
  },
  {
   "cell_type": "code",
   "execution_count": null,
   "id": "5814af06",
   "metadata": {},
   "outputs": [],
   "source": [
    "destinations_gdf"
   ]
  },
  {
   "cell_type": "code",
   "execution_count": null,
   "id": "73e15c92",
   "metadata": {},
   "outputs": [],
   "source": [
    "origins_gdf[\"geometry\"] = origins_gdf[\"geometry\"].apply(lambda x: x.wkt)\n",
    "destinations_gdf[\"geometry\"] = destinations_gdf[\"geometry\"].apply(lambda x: x.wkt)"
   ]
  },
  {
   "cell_type": "code",
   "execution_count": null,
   "id": "14a3adf4",
   "metadata": {},
   "outputs": [],
   "source": [
    "# export"
   ]
  }
 ],
 "metadata": {
  "kernelspec": {
   "display_name": "Python (ppd599)",
   "language": "python",
   "name": "ppd599"
  },
  "language_info": {
   "codemirror_mode": {
    "name": "ipython",
    "version": 3
   },
   "file_extension": ".py",
   "mimetype": "text/x-python",
   "name": "python",
   "nbconvert_exporter": "python",
   "pygments_lexer": "ipython3",
   "version": "3.10.10"
  },
  "vscode": {
   "interpreter": {
    "hash": "2bb776062ff31192b4bf9af4036b9c8615fee959ed08a0f264ab14429dc90274"
   }
  }
 },
 "nbformat": 4,
 "nbformat_minor": 5
}

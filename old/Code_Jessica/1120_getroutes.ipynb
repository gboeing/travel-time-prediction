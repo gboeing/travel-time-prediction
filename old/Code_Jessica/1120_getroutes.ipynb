{
 "cells": [
  {
   "cell_type": "code",
   "execution_count": null,
   "metadata": {},
   "outputs": [],
   "source": [
    "# import libraries\n",
    "import geopandas as gpd\n",
    "import pandas as pd\n",
    "from shapely.geometry import Point"
   ]
  },
  {
   "cell_type": "code",
   "execution_count": null,
   "metadata": {},
   "outputs": [],
   "source": [
    "# import functions\n",
    "from functions.routes_api_functions import (\n",
    "    calculateRoute,\n",
    "    create_departure_time,\n",
    "    createDataFrameFromResults,\n",
    "    fetch_all_routes,\n",
    "    parseDataframeToLocations,\n",
    ")"
   ]
  },
  {
   "cell_type": "code",
   "execution_count": null,
   "metadata": {},
   "outputs": [],
   "source": [
    "# import data\n",
    "od_300 = pd.read_csv(\"../Data/routeresultadded_od300.csv\")"
   ]
  },
  {
   "cell_type": "code",
   "execution_count": null,
   "metadata": {},
   "outputs": [],
   "source": [
    "origins = od_300[[\"oid\", \"oy\", \"ox\"]]\n",
    "destinations = od_300[[\"did\", \"dy\", \"dx\"]]"
   ]
  },
  {
   "cell_type": "code",
   "execution_count": null,
   "metadata": {},
   "outputs": [],
   "source": [
    "# convert origins, destinations to geodataframe\n",
    "origins = gpd.GeoDataFrame(\n",
    "    origins,\n",
    "    geometry=[Point(xy) for xy in zip(origins.ox, origins.oy, strict=False)],\n",
    ")\n",
    "destinations = gpd.GeoDataFrame(\n",
    "    destinations,\n",
    "    geometry=[Point(xy) for xy in zip(destinations.dx, destinations.dy, strict=False)],\n",
    ")"
   ]
  },
  {
   "cell_type": "code",
   "execution_count": null,
   "metadata": {},
   "outputs": [],
   "source": [
    "# apply parsedataframetoLocations\n",
    "originsLoc = parseDataframeToLocations(origins)\n",
    "destinationsLoc = parseDataframeToLocations(destinations)"
   ]
  },
  {
   "cell_type": "code",
   "execution_count": null,
   "metadata": {},
   "outputs": [],
   "source": [
    "# api key\n",
    "key = \"Jessica API Key\""
   ]
  },
  {
   "cell_type": "code",
   "execution_count": null,
   "metadata": {},
   "outputs": [],
   "source": [
    "# test of create_departure_time function\n",
    "x = [\n",
    "    create_departure_time(departure_time=(2023, 11, 27, hour, 0, 0))\n",
    "    for hour in od_300[\"hour_of_day\"]\n",
    "]\n",
    "x[0]"
   ]
  },
  {
   "cell_type": "code",
   "execution_count": null,
   "metadata": {},
   "outputs": [],
   "source": [
    "# test of calculateRoute function\n",
    "result = calculateRoute(\n",
    "    apikey=key,\n",
    "    orig=originsLoc[0],\n",
    "    dest=destinationsLoc[0],\n",
    "    traffic=\"TRAFFIC_AWARE\",\n",
    "    departure_time=(2023, 11, 20, od_300[\"hour_of_day\"][0], 0, 0),\n",
    ")\n",
    "result"
   ]
  },
  {
   "cell_type": "code",
   "execution_count": null,
   "metadata": {},
   "outputs": [],
   "source": [
    "departure_times = [(2023, 11, 27, hour, 0, 0) for hour in od_300[\"hour_of_day\"]]\n",
    "# use departure_times list as input\n",
    "results = fetch_all_routes(\n",
    "    apikey=key,\n",
    "    origins=originsLoc,\n",
    "    destinations=destinationsLoc,\n",
    "    traffic=\"TRAFFIC_AWARE\",\n",
    "    departure_times=departure_times,\n",
    ")"
   ]
  },
  {
   "cell_type": "code",
   "execution_count": null,
   "metadata": {},
   "outputs": [],
   "source": [
    "results"
   ]
  },
  {
   "cell_type": "code",
   "execution_count": null,
   "metadata": {},
   "outputs": [],
   "source": [
    "len(results)"
   ]
  },
  {
   "cell_type": "code",
   "execution_count": null,
   "metadata": {},
   "outputs": [],
   "source": [
    "df = createDataFrameFromResults(results)\n",
    "df"
   ]
  },
  {
   "cell_type": "code",
   "execution_count": null,
   "metadata": {},
   "outputs": [],
   "source": [
    "new_dataframe = pd.concat([od_300, df], axis=1)\n",
    "new_dataframe"
   ]
  },
  {
   "cell_type": "code",
   "execution_count": null,
   "metadata": {},
   "outputs": [],
   "source": []
  }
 ],
 "metadata": {
  "kernelspec": {
   "display_name": "Python 3.10.10 ('ppd599')",
   "language": "python",
   "name": "python3"
  },
  "language_info": {
   "codemirror_mode": {
    "name": "ipython",
    "version": 3
   },
   "file_extension": ".py",
   "mimetype": "text/x-python",
   "name": "python",
   "nbconvert_exporter": "python",
   "pygments_lexer": "ipython3",
   "version": "3.10.10"
  },
  "vscode": {
   "interpreter": {
    "hash": "9459c1f1e6a42d62dba2ec1671ea395e68ff99b4f6ce754dc9cd2717ec5d1a8f"
   }
  }
 },
 "nbformat": 4,
 "nbformat_minor": 2
}

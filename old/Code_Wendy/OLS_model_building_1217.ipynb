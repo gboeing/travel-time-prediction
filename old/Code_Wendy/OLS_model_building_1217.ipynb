{
 "cells": [
  {
   "cell_type": "markdown",
   "id": "9b32017706d585bf",
   "metadata": {
    "collapsed": false
   },
   "source": [
    "# OLS Model Building and Result Visulization"
   ]
  },
  {
   "cell_type": "code",
   "execution_count": null,
   "id": "initial_id",
   "metadata": {},
   "outputs": [],
   "source": [
    "import matplotlib.pyplot as plt\n",
    "import osmnx as ox\n",
    "import pandas as pd\n",
    "import seaborn as sns\n",
    "import statsmodels.api as sm\n",
    "from sklearn.model_selection import train_test_split\n",
    "from statsmodels.stats.outliers_influence import variance_inflation_factor"
   ]
  },
  {
   "cell_type": "code",
   "execution_count": null,
   "id": "dc422e227c99475c",
   "metadata": {},
   "outputs": [],
   "source": [
    "file_path = \"../Data/\"\n",
    "output_file_path = file_path + \"Output/\""
   ]
  },
  {
   "cell_type": "code",
   "execution_count": null,
   "id": "ed12ac8153764bbf",
   "metadata": {},
   "outputs": [],
   "source": [
    "# import the dataframe with 10000 OD pairs (selected from OD pairs with 3am travel time reference in uber movement) result of freeflow travel time and routing\n",
    "ff_df = pd.read_csv(output_file_path + \"route_result_uber_hod3am_10000_freeflow.csv\")"
   ]
  },
  {
   "cell_type": "code",
   "execution_count": null,
   "id": "89b8e86470625d6c",
   "metadata": {},
   "outputs": [],
   "source": [
    "# import the dataframe of the 1000 OD pairs with Google route api travel time (duration) added\n",
    "gg_df = pd.read_csv(output_file_path + \"routesdataadded10000.csv\")\n",
    "gg_df_result = gg_df[[\"oid\", \"did\", \"distance\", \"duration\", \"polyline\"]]"
   ]
  },
  {
   "cell_type": "code",
   "execution_count": null,
   "id": "3b9ac3ca9a3fe971",
   "metadata": {},
   "outputs": [],
   "source": [
    "# merge the freeflow travel time and google travel time into one dataframe\n",
    "df = ff_df.merge(gg_df_result, left_on=[\"oid\", \"did\"], right_on=[\"oid\", \"did\"])"
   ]
  },
  {
   "cell_type": "code",
   "execution_count": null,
   "id": "2f1bd889419fa71a",
   "metadata": {},
   "outputs": [],
   "source": [
    "# split the training and testing set\n",
    "train1, test1 = train_test_split(df, test_size=0.2, random_state=123)"
   ]
  },
  {
   "cell_type": "markdown",
   "id": "89123496e666856d",
   "metadata": {
    "collapsed": false
   },
   "source": [
    "## OLS Model 1: based on freeflow routing"
   ]
  },
  {
   "cell_type": "code",
   "execution_count": null,
   "id": "b6dcda5becfe276",
   "metadata": {},
   "outputs": [],
   "source": [
    "# model 1\n",
    "response = \"duration\"\n",
    "predictors = [\n",
    "    \"freeflow_travel_time\",\n",
    "    \"freeflow_signal_count\",\n",
    "    \"freeflow_stop_count\",\n",
    "    \"freeflow_crossing_count\",\n",
    "    \"freeflow_give_way_count\",\n",
    "    \"freeflow_mini_roundabout_count\",\n",
    "    \"freeflow_left_count\",\n",
    "    \"freeflow_right_count\",\n",
    "    \"freeflow_u_count\",\n",
    "]\n",
    "data = train1[[response] + predictors].dropna()\n",
    "X = data[predictors]\n",
    "y = data[response]\n",
    "model1 = sm.OLS(y, sm.add_constant(X))\n",
    "result1 = model1.fit()\n",
    "print(result1.summary())"
   ]
  },
  {
   "cell_type": "code",
   "execution_count": null,
   "id": "6c423c01bf09124c",
   "metadata": {},
   "outputs": [],
   "source": [
    "# calculate VIFs\n",
    "X = train1[\n",
    "    [\n",
    "        \"freeflow_travel_time\",\n",
    "        \"freeflow_signal_count\",\n",
    "        \"freeflow_stop_count\",\n",
    "        \"freeflow_crossing_count\",\n",
    "        \"freeflow_give_way_count\",\n",
    "        \"freeflow_mini_roundabout_count\",\n",
    "        \"freeflow_left_count\",\n",
    "        \"freeflow_right_count\",\n",
    "        \"freeflow_u_count\",\n",
    "    ]\n",
    "]\n",
    "vif_data = pd.DataFrame()\n",
    "vif_data[\"feature\"] = X.columns\n",
    "vif_data[\"VIF\"] = [variance_inflation_factor(X.values, i) for i in range(len(X.columns))]\n",
    "print(vif_data)"
   ]
  },
  {
   "cell_type": "markdown",
   "id": "2cd00742b1213e36",
   "metadata": {
    "collapsed": false
   },
   "source": [
    "### Check the number of traffic control counts of the whole study region and in the sampled OD pairs"
   ]
  },
  {
   "cell_type": "markdown",
   "id": "d47580cec622916d",
   "metadata": {
    "collapsed": false
   },
   "source": [
    "##### In the study region"
   ]
  },
  {
   "cell_type": "code",
   "execution_count": null,
   "id": "b4ebf343bb42b816",
   "metadata": {},
   "outputs": [],
   "source": [
    "G = ox.io.load_graphml(output_file_path + \"LA_clip_convex_strong_network.graphml\")"
   ]
  },
  {
   "cell_type": "code",
   "execution_count": null,
   "id": "a5e4c87faf412c82",
   "metadata": {},
   "outputs": [],
   "source": [
    "gdf_nodes, gdf_edges = ox.graph_to_gdfs(G)"
   ]
  },
  {
   "cell_type": "code",
   "execution_count": null,
   "id": "2287ab19ea1ea158",
   "metadata": {},
   "outputs": [],
   "source": [
    "tc_df = gdf_nodes[\"highway\"].value_counts().reset_index()"
   ]
  },
  {
   "cell_type": "code",
   "execution_count": null,
   "id": "82680114448acda8",
   "metadata": {},
   "outputs": [],
   "source": [
    "tc_df[\"percentage\"] = tc_df[\"count\"] / len(gdf_nodes)\n",
    "tc_df[\"percentage\"] = tc_df[\"percentage\"].astype(float).map(\"{:.2%}\".format)"
   ]
  },
  {
   "cell_type": "code",
   "execution_count": null,
   "id": "f6627a7be85ddf08",
   "metadata": {},
   "outputs": [],
   "source": [
    "tc_df"
   ]
  },
  {
   "cell_type": "markdown",
   "id": "7ad7141a43f8173b",
   "metadata": {
    "collapsed": false
   },
   "source": [
    "##### In the sampled 10,000 OD pairs"
   ]
  },
  {
   "cell_type": "code",
   "execution_count": null,
   "id": "7b27583464b7413b",
   "metadata": {},
   "outputs": [],
   "source": [
    "data = {\n",
    "    \"traffic controls\": [\"Tom\", \"nick\", \"krish\", \"jack\"],\n",
    "    \"number of OD pairs with one or more corresponding controls\": [20, 21, 19, 18],\n",
    "}"
   ]
  },
  {
   "cell_type": "code",
   "execution_count": null,
   "id": "4269985e5e9a01d6",
   "metadata": {},
   "outputs": [],
   "source": [
    "data = [\n",
    "    [\"traffic signal\", len(ff_df[ff_df[\"freeflow_signal_count\"] >= 1])],\n",
    "    [\"stop sign\", len(ff_df[ff_df[\"freeflow_stop_count\"] >= 1])],\n",
    "    [\"crossing\", len(ff_df[ff_df[\"freeflow_crossing_count\"] >= 1])],\n",
    "    [\"give way\", len(ff_df[ff_df[\"freeflow_give_way_count\"] >= 1])],\n",
    "    [\"mini roundabout\", len(ff_df[ff_df[\"freeflow_mini_roundabout_count\"] >= 1])],\n",
    "]"
   ]
  },
  {
   "cell_type": "code",
   "execution_count": null,
   "id": "16fa112d25b19e6a",
   "metadata": {},
   "outputs": [],
   "source": [
    "tc_OD_df = pd.DataFrame(\n",
    "    data,\n",
    "    columns=[\"Traffic controls\", \"Number of OD pairs with one or more corresponding controls\"],\n",
    ")"
   ]
  },
  {
   "cell_type": "code",
   "execution_count": null,
   "id": "d95f4a6322475f12",
   "metadata": {},
   "outputs": [],
   "source": [
    "tc_OD_df"
   ]
  },
  {
   "cell_type": "markdown",
   "id": "e1422b337315c4bc",
   "metadata": {
    "collapsed": false
   },
   "source": [
    "## OLS Revised Model 1: only including traffic signals and stop sign as traffic controls in the model\n"
   ]
  },
  {
   "cell_type": "code",
   "execution_count": null,
   "id": "8b06a9b8d6e406d5",
   "metadata": {},
   "outputs": [],
   "source": [
    "# new revised model 1\n",
    "response = \"duration\"\n",
    "predictors = [\n",
    "    \"freeflow_travel_time\",\n",
    "    \"freeflow_signal_count\",\n",
    "    \"freeflow_stop_count\",\n",
    "    \"freeflow_left_count\",\n",
    "    \"freeflow_right_count\",\n",
    "    \"freeflow_u_count\",\n",
    "]\n",
    "data = train1[[response] + predictors].dropna()\n",
    "X = data[predictors]\n",
    "y = data[response]\n",
    "model1 = sm.OLS(y, sm.add_constant(X))\n",
    "result1 = model1.fit()\n",
    "print(result1.summary())"
   ]
  },
  {
   "cell_type": "code",
   "execution_count": null,
   "id": "9737f5bf129c753",
   "metadata": {},
   "outputs": [],
   "source": [
    "# calculate VIFs\n",
    "X = train1[\n",
    "    [\n",
    "        \"freeflow_travel_time\",\n",
    "        \"freeflow_signal_count\",\n",
    "        \"freeflow_stop_count\",\n",
    "        \"freeflow_left_count\",\n",
    "        \"freeflow_right_count\",\n",
    "        \"freeflow_u_count\",\n",
    "    ]\n",
    "]\n",
    "vif_data = pd.DataFrame()\n",
    "vif_data[\"feature\"] = X.columns\n",
    "vif_data[\"VIF\"] = [variance_inflation_factor(X.values, i) for i in range(len(X.columns))]\n",
    "print(vif_data)"
   ]
  },
  {
   "cell_type": "markdown",
   "id": "f383d38afe5da76d",
   "metadata": {
    "collapsed": false
   },
   "source": [
    "### Use the significant parameters in new revised model 1 to run the penalized routing (using OD_pairs_time_distance_uber_routes_1217.py)"
   ]
  },
  {
   "cell_type": "code",
   "execution_count": null,
   "id": "282381b1264aac22",
   "metadata": {},
   "outputs": [],
   "source": [
    "# Import the result\n",
    "p_df2 = pd.read_csv(output_file_path + \"route_result_uber_hod3am_10000_bo_newmodel1_1215.csv\")"
   ]
  },
  {
   "cell_type": "code",
   "execution_count": null,
   "id": "97510deda5b942ea",
   "metadata": {},
   "outputs": [],
   "source": [
    "# merge with Google travel time into one dataframe\n",
    "df2 = p_df2.merge(gg_df_result, left_on=[\"oid\", \"did\"], right_on=[\"oid\", \"did\"])"
   ]
  },
  {
   "cell_type": "code",
   "execution_count": null,
   "id": "6bee87ae19139bfb",
   "metadata": {},
   "outputs": [],
   "source": [
    "# split the training and testing set\n",
    "train2, test2 = train_test_split(df2, test_size=0.2, random_state=123)"
   ]
  },
  {
   "cell_type": "markdown",
   "id": "21803eb664a0c12c",
   "metadata": {
    "collapsed": false
   },
   "source": [
    "## OLS Revised Model 2\n"
   ]
  },
  {
   "cell_type": "code",
   "execution_count": null,
   "id": "5421598245027024",
   "metadata": {},
   "outputs": [],
   "source": [
    "# new model 2\n",
    "response = \"duration\"\n",
    "predictors = [\n",
    "    \"total_time\",\n",
    "    \"penalized_signal_count\",\n",
    "    \"penalized_stop_count\",\n",
    "    \"penalized_left_count\",\n",
    "    \"penalized_right_count\",\n",
    "    \"penalized_u_count\",\n",
    "]\n",
    "data = train2[[response] + predictors].dropna()\n",
    "X = data[predictors]\n",
    "y = data[response]\n",
    "model2 = sm.OLS(y, sm.add_constant(X))\n",
    "result2 = model2.fit()\n",
    "print(result2.summary())"
   ]
  },
  {
   "cell_type": "code",
   "execution_count": null,
   "id": "9bafa4b52b5973fd",
   "metadata": {},
   "outputs": [],
   "source": [
    "# VIFs\n",
    "X = train2[\n",
    "    [\n",
    "        \"total_time\",\n",
    "        \"penalized_signal_count\",\n",
    "        \"penalized_stop_count\",\n",
    "        \"penalized_left_count\",\n",
    "        \"penalized_right_count\",\n",
    "        \"penalized_u_count\",\n",
    "    ]\n",
    "]\n",
    "vif_data = pd.DataFrame()\n",
    "vif_data[\"feature\"] = X.columns\n",
    "vif_data[\"VIF\"] = [variance_inflation_factor(X.values, i) for i in range(len(X.columns))]\n",
    "print(vif_data)"
   ]
  },
  {
   "cell_type": "markdown",
   "id": "a4efad975e5d5409",
   "metadata": {
    "collapsed": false
   },
   "source": [
    "\n",
    "### Add the significant parameters in new revised model 2 to the previous parameter and run the penalized routing (using OD_pairs_time_distance_uber_routes_1217.py)\n"
   ]
  },
  {
   "cell_type": "code",
   "execution_count": null,
   "id": "70e219efa72a3b61",
   "metadata": {},
   "outputs": [],
   "source": [
    "p_df3 = pd.read_csv(output_file_path + \"route_result_uber_hod3am_10000_bo_newmodel2_1215.csv\")"
   ]
  },
  {
   "cell_type": "code",
   "execution_count": null,
   "id": "e69942a834ee1acb",
   "metadata": {},
   "outputs": [],
   "source": [
    "# merge with google travel time into one dataframe\n",
    "df3 = p_df3.merge(gg_df_result, left_on=[\"oid\", \"did\"], right_on=[\"oid\", \"did\"])\n",
    "# split the training and testing set\n",
    "train3, test3 = train_test_split(df3, test_size=0.2, random_state=123)"
   ]
  },
  {
   "cell_type": "markdown",
   "id": "5fb990348dd3194a",
   "metadata": {
    "collapsed": false
   },
   "source": [
    "## OLS Revised Model 2"
   ]
  },
  {
   "cell_type": "code",
   "execution_count": null,
   "id": "d470fa751de148bf",
   "metadata": {},
   "outputs": [],
   "source": [
    "# new model 3\n",
    "response = \"duration\"\n",
    "predictors = [\n",
    "    \"total_time\",\n",
    "    \"penalized_signal_count\",\n",
    "    \"penalized_stop_count\",\n",
    "    \"penalized_left_count\",\n",
    "    \"penalized_right_count\",\n",
    "    \"penalized_u_count\",\n",
    "]\n",
    "data = train3[[response] + predictors].dropna()\n",
    "X = data[predictors]\n",
    "y = data[response]\n",
    "model3 = sm.OLS(y, sm.add_constant(X))\n",
    "result3 = model3.fit()\n",
    "print(result3.summary())"
   ]
  },
  {
   "cell_type": "code",
   "execution_count": null,
   "id": "3c0750c5e6c7c16c",
   "metadata": {},
   "outputs": [],
   "source": [
    "# VIFs\n",
    "X = train3[\n",
    "    [\n",
    "        \"total_time\",\n",
    "        \"penalized_signal_count\",\n",
    "        \"penalized_stop_count\",\n",
    "        \"penalized_left_count\",\n",
    "        \"penalized_right_count\",\n",
    "        \"penalized_u_count\",\n",
    "    ]\n",
    "]\n",
    "vif_data = pd.DataFrame()\n",
    "vif_data[\"feature\"] = X.columns\n",
    "vif_data[\"VIF\"] = [variance_inflation_factor(X.values, i) for i in range(len(X.columns))]\n",
    "print(vif_data)"
   ]
  },
  {
   "cell_type": "markdown",
   "id": "b1a3c23eaf0fb66c",
   "metadata": {
    "collapsed": false
   },
   "source": [
    "## Result Visualization"
   ]
  },
  {
   "cell_type": "code",
   "execution_count": null,
   "id": "f9ac466ece02dcfa",
   "metadata": {},
   "outputs": [],
   "source": [
    "# Import the routing result using the original parameters based on R5 and ORSM\n",
    "original_df4 = pd.read_csv(\n",
    "    output_file_path + \"route_result_uber_hod3am_10000_originalparam1215.csv\",\n",
    ")"
   ]
  },
  {
   "cell_type": "code",
   "execution_count": null,
   "id": "22fb76c990941cdc",
   "metadata": {},
   "outputs": [],
   "source": [
    "# merge with google api travel time result\n",
    "df4 = original_df4.merge(gg_df_result, left_on=[\"oid\", \"did\"], right_on=[\"oid\", \"did\"])"
   ]
  },
  {
   "cell_type": "code",
   "execution_count": null,
   "id": "3236c858ae737682",
   "metadata": {},
   "outputs": [],
   "source": [
    "# split the training and testing set\n",
    "train4, test4 = train_test_split(df4, test_size=0.2, random_state=123)"
   ]
  },
  {
   "cell_type": "code",
   "execution_count": null,
   "id": "78a0b3bfa5172680",
   "metadata": {},
   "outputs": [],
   "source": [
    "# merge the testing dataframe with result based on our model parameter and original R5 ORSM parameters\n",
    "test34 = test3.merge(test4, left_on=[\"oid\", \"did\"], right_on=[\"oid\", \"did\"])"
   ]
  },
  {
   "cell_type": "code",
   "execution_count": null,
   "id": "92320fd2716cbd24",
   "metadata": {},
   "outputs": [],
   "source": [
    "test34[\"penalized_travel_time_google_model\"] = test34[\"total_time_x\"] / test34[\"duration_x\"]\n",
    "test34[\"penalized_travel_time_uber_model\"] = test34[\"total_time_x\"] / test34[\"uber_time_x\"]\n",
    "test34[\"penalized_travel_time_google_r5_osrm\"] = test34[\"total_time_y\"] / test34[\"duration_y\"]\n",
    "test34[\"penalized_travel_time_uber_r5_osrm\"] = test34[\"total_time_y\"] / test34[\"uber_time_y\"]"
   ]
  },
  {
   "cell_type": "code",
   "execution_count": null,
   "id": "9277361b3597d831",
   "metadata": {},
   "outputs": [],
   "source": [
    "# Result comparison plotting\n",
    "plt.figure(figsize=(20, 10))\n",
    "ax = sns.boxplot(\n",
    "    data=test34[\n",
    "        [\n",
    "            \"penalized_travel_time_google_model\",\n",
    "            \"penalized_travel_time_uber_model\",\n",
    "            \"penalized_travel_time_google_r5_osrm\",\n",
    "            \"penalized_travel_time_uber_r5_osrm\",\n",
    "        ]\n",
    "    ],\n",
    "    palette=\"coolwarm\",\n",
    ")\n",
    "plt.title(\"Travel Comparison\")\n",
    "plt.ylabel(\"proportion compared with google route api and uber movement\")\n",
    "medians = (\n",
    "    test34[\n",
    "        [\n",
    "            \"penalized_travel_time_google_model\",\n",
    "            \"penalized_travel_time_uber_model\",\n",
    "            \"penalized_travel_time_google_r5_osrm\",\n",
    "            \"penalized_travel_time_uber_r5_osrm\",\n",
    "        ]\n",
    "    ]\n",
    "    .median()\n",
    "    .values\n",
    ")\n",
    "\n",
    "for i, median_value in enumerate(medians):\n",
    "    ax.text(\n",
    "        i,\n",
    "        median_value,\n",
    "        f\"{median_value:.2f}\",\n",
    "        horizontalalignment=\"center\",\n",
    "        size=\"x-small\",\n",
    "        color=\"b\",\n",
    "        weight=\"semibold\",\n",
    "    )\n",
    "plt.show()"
   ]
  }
 ],
 "metadata": {
  "kernelspec": {
   "display_name": "Python 3",
   "language": "python",
   "name": "python3"
  },
  "language_info": {
   "codemirror_mode": {
    "name": "ipython",
    "version": 2
   },
   "file_extension": ".py",
   "mimetype": "text/x-python",
   "name": "python",
   "nbconvert_exporter": "python",
   "pygments_lexer": "ipython2",
   "version": "2.7.6"
  }
 },
 "nbformat": 4,
 "nbformat_minor": 5
}

{
 "cells": [
  {
   "cell_type": "code",
   "execution_count": null,
   "id": "initial_id",
   "metadata": {},
   "outputs": [],
   "source": [
    "import geopandas as gpd\n",
    "import osmnx as ox\n",
    "import pandas as pd"
   ]
  },
  {
   "cell_type": "code",
   "execution_count": null,
   "id": "43224ce62d055254",
   "metadata": {},
   "outputs": [],
   "source": [
    "file_path = \"../Data/\"\n",
    "output_file_path = file_path + \"Output/\""
   ]
  },
  {
   "cell_type": "markdown",
   "id": "dc367bc782c8f9ed",
   "metadata": {
    "collapsed": false
   },
   "source": [
    "# Import human settlement shapefile from GHS UCDB\n",
    "Source: GHS Urban Centre Database 2015\n",
    "https://ghsl.jrc.ec.europa.eu/download.php?ds=ucdb "
   ]
  },
  {
   "cell_type": "code",
   "execution_count": null,
   "id": "a2268bfa1bf253dc",
   "metadata": {},
   "outputs": [],
   "source": [
    "UCDB_gdf = gpd.read_file(file_path + \"GHS_STAT_UCDB2015MT_GLOBE_R2019A_V1_2.gpkg\")"
   ]
  },
  {
   "cell_type": "code",
   "execution_count": null,
   "id": "a9f5c3ff6c1819e0",
   "metadata": {},
   "outputs": [],
   "source": [
    "# Select the polygon that is the human settlement area of LA: plot it, you can see there are holes in it\n",
    "LA_UCDB_gdf = UCDB_gdf[UCDB_gdf[\"UC_NM_MN\"] == \"Los Angeles\"]\n",
    "LA_UCDB_gdf.plot()"
   ]
  },
  {
   "cell_type": "markdown",
   "id": "c17838f3c6dddc5b",
   "metadata": {
    "collapsed": false
   },
   "source": [
    "# Import TIGERline census tract shapefile"
   ]
  },
  {
   "cell_type": "code",
   "execution_count": null,
   "id": "997277004958b9a6",
   "metadata": {},
   "outputs": [],
   "source": [
    "# census tracts in California\n",
    "CA_22tract = gpd.read_file(file_path + \"tl_2022_06_tract/tl_2022_06_tract.shp\")\n",
    "LA_UCDB_gdf.crs == CA_22tract.crs"
   ]
  },
  {
   "cell_type": "code",
   "execution_count": null,
   "id": "2a92ee1d275359e4",
   "metadata": {},
   "outputs": [],
   "source": [
    "# project the CRS to be the same - 4326\n",
    "CA_22tract_crs = CA_22tract.to_crs(4326)\n",
    "LA_UCDB_gdf.crs == CA_22tract_crs.crs"
   ]
  },
  {
   "cell_type": "code",
   "execution_count": null,
   "id": "113130a60c7bba02",
   "metadata": {},
   "outputs": [],
   "source": [
    "# selecting census tracts in LA county\n",
    "LA_22tract = CA_22tract_crs[CA_22tract_crs[\"COUNTYFP\"] == \"037\"]"
   ]
  },
  {
   "cell_type": "markdown",
   "id": "101344b5436305b1",
   "metadata": {
    "collapsed": false
   },
   "source": [
    "# Get the shapefile of intersection of LA county and LA human settlement area"
   ]
  },
  {
   "cell_type": "code",
   "execution_count": null,
   "id": "620028d1ec5c448d",
   "metadata": {},
   "outputs": [],
   "source": [
    "# Plot the difference of two shapefile\n",
    "ax = LA_22tract.plot(color=\"palegreen\", edgecolor=\"green\", figsize=(20, 10))\n",
    "LA_UCDB_gdf.plot(ax=ax, color=\"red\")"
   ]
  },
  {
   "cell_type": "code",
   "execution_count": null,
   "id": "ea86c04c1fdb4862",
   "metadata": {},
   "outputs": [],
   "source": [
    "# Get the intersection proportion of these two shapefiles\n",
    "LA_clip = gpd.clip(LA_22tract, LA_UCDB_gdf)\n",
    "LA_clip_whole = LA_clip.dissolve()"
   ]
  },
  {
   "cell_type": "code",
   "execution_count": null,
   "id": "3ebc24e8e8b086a7",
   "metadata": {},
   "outputs": [],
   "source": [
    "LA_clip_whole.plot()"
   ]
  },
  {
   "cell_type": "markdown",
   "id": "f1a16d5f18360b72",
   "metadata": {
    "collapsed": false
   },
   "source": [
    "# Get the convex hull of it"
   ]
  },
  {
   "cell_type": "code",
   "execution_count": null,
   "id": "e60dd41f9b206b2a",
   "metadata": {},
   "outputs": [],
   "source": [
    "LA_clip_convex = LA_clip_whole.convex_hull"
   ]
  },
  {
   "cell_type": "code",
   "execution_count": null,
   "id": "f2fa45904122ddc6",
   "metadata": {},
   "outputs": [],
   "source": [
    "# plot the convex hull of the intersected shapefile, which is our study area\n",
    "ax = LA_clip_convex.plot(color=\"palegreen\", edgecolor=\"green\", figsize=(20, 10))\n",
    "LA_clip_whole.plot(ax=ax, color=\"red\")"
   ]
  },
  {
   "cell_type": "code",
   "execution_count": null,
   "id": "8105ff68df631a42",
   "metadata": {},
   "outputs": [],
   "source": [
    "LA_clip_convex.to_file(output_file_path + \"LA_clip_convex.shp\")"
   ]
  },
  {
   "cell_type": "markdown",
   "id": "e255c33851f5cb9",
   "metadata": {
    "collapsed": false
   },
   "source": [
    "# get street network for analysis\n",
    "### Using the above convex hull shapefile are our study region\n",
    "### Get strongly connected graph"
   ]
  },
  {
   "cell_type": "code",
   "execution_count": null,
   "id": "d61298041d30a5b0",
   "metadata": {},
   "outputs": [],
   "source": [
    "LA_clip_convex_gdf = gpd.GeoDataFrame(geometry=gpd.GeoSeries(LA_clip_convex))\n",
    "LA_clip_convex_polygon = LA_clip_convex_gdf.iloc[0][\"geometry\"]"
   ]
  },
  {
   "cell_type": "code",
   "execution_count": null,
   "id": "8471169d5e8fc80b",
   "metadata": {},
   "outputs": [],
   "source": [
    "G = ox.graph_from_polygon(LA_clip_convex_polygon, network_type=\"drive\")\n",
    "ox.plot_graph(G)"
   ]
  },
  {
   "cell_type": "code",
   "execution_count": null,
   "id": "e6b9a3244f706d35",
   "metadata": {},
   "outputs": [],
   "source": [
    "# get strongly connected graph\n",
    "G = ox.utils_graph.get_largest_component(G, strongly=True)"
   ]
  },
  {
   "cell_type": "code",
   "execution_count": null,
   "id": "ae2eaba5e76e356c",
   "metadata": {},
   "outputs": [],
   "source": [
    "# Save Geopackages\n",
    "ox.save_graph_geopackage(G, filepath=output_file_path + \"LA_clip_convex_strong_network.gpkg\")\n",
    "# Save Graphml\n",
    "ox.save_graphml(G, filepath=output_file_path + \"LA_clip_convex_strong_network.graphml\")"
   ]
  },
  {
   "cell_type": "markdown",
   "id": "bb7674eab3dde3d7",
   "metadata": {
    "collapsed": false
   },
   "source": [
    "# Attach information to all the nodes in the street network"
   ]
  },
  {
   "cell_type": "code",
   "execution_count": null,
   "id": "ee892b3132cf5005",
   "metadata": {},
   "outputs": [],
   "source": [
    "gdf_nodes, gdf_edges = ox.graph_to_gdfs(G)\n",
    "gdf = gdf_nodes.reset_index(drop=False)"
   ]
  },
  {
   "cell_type": "code",
   "execution_count": null,
   "id": "3d6ffba54e4068f",
   "metadata": {},
   "outputs": [],
   "source": [
    "gdf_proj = ox.project_gdf(gdf, to_latlong=True)\n",
    "gdf_proj[\"x\"] = gdf_proj[\"geometry\"].x\n",
    "gdf_proj[\"y\"] = gdf_proj[\"geometry\"].y"
   ]
  },
  {
   "cell_type": "code",
   "execution_count": null,
   "id": "930ad3aa545e6d6e",
   "metadata": {},
   "outputs": [],
   "source": [
    "# Los Angeles census tract used by uber movements\n",
    "uber_tract = gpd.read_file(file_path + \"los_angeles_censustracts.json\")"
   ]
  },
  {
   "cell_type": "code",
   "execution_count": null,
   "id": "9fae0c27fdb4ae67",
   "metadata": {},
   "outputs": [],
   "source": [
    "# attach information on\n",
    "selected_cols = [\"osmid\", \"y\", \"x\", \"highway\", \"street_count\", \"ref\", \"geometry\", \"GEOID\"]\n",
    "gdf_proj_tract = gpd.sjoin(gdf_proj, CA_22tract_crs, how=\"left\", predicate=\"within\")[selected_cols]\n",
    "gdf_proj_tract_uber = gpd.sjoin(gdf_proj_tract, uber_tract, how=\"left\", predicate=\"within\")[\n",
    "    selected_cols + [\"MOVEMENT_ID\", \"TRACT\"]\n",
    "]\n",
    "gdf_proj_tract_uber"
   ]
  },
  {
   "cell_type": "code",
   "execution_count": null,
   "id": "33af697abb53a094",
   "metadata": {},
   "outputs": [],
   "source": [
    "# As it is possible that a node locates on the borderline of uber movement tracts, I only keep the first matched information on uber tract.\n",
    "gdf_proj_tract_uber_dedup = gdf_proj_tract_uber.drop_duplicates(subset=[\"osmid\"], keep=\"first\")"
   ]
  },
  {
   "cell_type": "markdown",
   "id": "4b8805430f4c8a7e",
   "metadata": {
    "collapsed": false
   },
   "source": [
    "\n",
    "# Sample 5,000,000 nodes as origin and destination (5,000,000 OD pairs) in potential nodes candidates"
   ]
  },
  {
   "cell_type": "code",
   "execution_count": null,
   "id": "4121c407986253ea",
   "metadata": {},
   "outputs": [],
   "source": [
    "gdf_proj.to_csv(output_file_path + \"nodes_candidate_convex_strongly.csv\")\n",
    "gdf_proj_tract_uber_dedup.to_csv(\n",
    "    output_file_path + \"nodes_candidate_convex_strongly_attributes.csv\",\n",
    ")"
   ]
  },
  {
   "cell_type": "code",
   "execution_count": null,
   "id": "260c9a5b077f9c9d",
   "metadata": {},
   "outputs": [],
   "source": [
    "# I randomly sampled with replacement as there are fewer than 5 million nodes in the studied street networks\n",
    "origin = gdf_proj_tract_uber_dedup.sample(5000000, random_state=123, replace=True).copy()\n",
    "destin = gdf_proj_tract_uber_dedup.sample(5000000, random_state=321, replace=True).copy()\n",
    "origin = origin.reset_index(drop=True)\n",
    "destin = destin.reset_index(drop=True)"
   ]
  },
  {
   "cell_type": "code",
   "execution_count": null,
   "id": "b4875d83e7c90003",
   "metadata": {},
   "outputs": [],
   "source": [
    "origin_od = origin[[\"osmid\", \"y\", \"x\", \"GEOID\", \"MOVEMENT_ID\"]]\n",
    "origin_od.columns = [\"oid\", \"oy\", \"ox\", \"oGEOID\", \"oMOVEMENT_ID\"]\n",
    "destin_od = destin[[\"osmid\", \"y\", \"x\", \"GEOID\", \"MOVEMENT_ID\"]]\n",
    "destin_od.columns = [\"did\", \"dy\", \"dx\", \"dGEOID\", \"dMOVEMENT_ID\"]\n",
    "temp_OD = pd.concat([origin_od, destin_od], sort=False, axis=1)"
   ]
  },
  {
   "cell_type": "code",
   "execution_count": null,
   "id": "ac12b47379c8b3e",
   "metadata": {},
   "outputs": [],
   "source": [
    "# Drop the OD pairs where the origin and destination are the same node\n",
    "origin_dedup = origin.drop(temp_OD[temp_OD[\"oid\"] == temp_OD[\"did\"]].index)\n",
    "destin_dedup = destin.drop(temp_OD[temp_OD[\"oid\"] == temp_OD[\"did\"]].index)"
   ]
  },
  {
   "cell_type": "code",
   "execution_count": null,
   "id": "f27ff93ac954a02b",
   "metadata": {},
   "outputs": [],
   "source": [
    "temp_OD = temp_OD.drop(temp_OD[temp_OD[\"oid\"] == temp_OD[\"did\"]].index)\n",
    "temp_OD.to_csv(output_file_path + \"OD_5m_strong.csv\")"
   ]
  },
  {
   "cell_type": "code",
   "execution_count": null,
   "id": "a0809b64e857000e",
   "metadata": {},
   "outputs": [],
   "source": [
    "# origin_dedup.to_file(output_file_path + 'origin_5m.shp')\n",
    "# destin_dedup.to_file(output_file_path + 'destin_5m.shp')"
   ]
  },
  {
   "cell_type": "markdown",
   "id": "9f153f1f7c58b64b",
   "metadata": {
    "collapsed": false
   },
   "source": [
    "# Subset OD pairs that have reference to uber movement 2020"
   ]
  },
  {
   "cell_type": "code",
   "execution_count": null,
   "id": "fc720135c5acfe1e",
   "metadata": {},
   "outputs": [],
   "source": [
    "temp_OD[\"oMOVEMENT_ID\"] = temp_OD[\"oMOVEMENT_ID\"].astype(float)\n",
    "temp_OD[\"dMOVEMENT_ID\"] = temp_OD[\"dMOVEMENT_ID\"].astype(float)"
   ]
  },
  {
   "cell_type": "code",
   "execution_count": null,
   "id": "8bcc02cf83847601",
   "metadata": {},
   "outputs": [],
   "source": [
    "temp_OD[\"uber_OD\"] = list(zip(temp_OD.oMOVEMENT_ID, temp_OD.dMOVEMENT_ID, strict=False))"
   ]
  },
  {
   "cell_type": "code",
   "execution_count": null,
   "id": "dacab4ac64c2457",
   "metadata": {},
   "outputs": [],
   "source": [
    "uber_2020 = pd.read_csv(\n",
    "    file_path + \"los_angeles-censustracts-2020-1-All-HourlyAggregate.csv\",\n",
    "    dtype={\"sourceid\": float, \"dstid\": float},\n",
    ")"
   ]
  },
  {
   "cell_type": "code",
   "execution_count": null,
   "id": "bc4035e286327de8",
   "metadata": {},
   "outputs": [],
   "source": [
    "# Select the OD pairs that have reference in uber movement 2020\n",
    "unique_OD = set(list(zip(uber_2020.sourceid, uber_2020.dstid, strict=False)))\n",
    "OD_pairs_uber = temp_OD[temp_OD[\"uber_OD\"].isin(unique_OD)]"
   ]
  },
  {
   "cell_type": "code",
   "execution_count": null,
   "id": "8c22fed490939a23",
   "metadata": {},
   "outputs": [],
   "source": [
    "OD_pairs_uber"
   ]
  },
  {
   "cell_type": "code",
   "execution_count": null,
   "id": "e2c000f553853cb",
   "metadata": {},
   "outputs": [],
   "source": [
    "# sample 1 million OD pairs out of 1,197,651 OD pairs that have reference with 202 uber movement data\n",
    "OD_pairs_uber_1m = OD_pairs_uber.sample(1000000, random_state=123).copy()"
   ]
  },
  {
   "cell_type": "code",
   "execution_count": null,
   "id": "2c89e3bebb7be35b",
   "metadata": {},
   "outputs": [],
   "source": [
    "OD_pairs_uber_1m.to_csv(output_file_path + \"OD_pairs_uber_1m_strongly.csv\")"
   ]
  },
  {
   "cell_type": "code",
   "execution_count": null,
   "id": "254ded05a8f4e4eb",
   "metadata": {},
   "outputs": [],
   "source": [
    "uber_pairs_remains = OD_pairs_uber[~OD_pairs_uber.index.isin(OD_pairs_uber_1m.index)]"
   ]
  },
  {
   "cell_type": "code",
   "execution_count": null,
   "id": "2a07ccd3bf55b157",
   "metadata": {},
   "outputs": [],
   "source": [
    "# Save all not sampled OD pairs that have a reference in 2020 ubermovement to csv\n",
    "uber_pairs_remains.to_csv(output_file_path + \"OD_pairs_uber_remains_strongly_19w.csv\")"
   ]
  },
  {
   "cell_type": "code",
   "execution_count": null,
   "id": "a93775f7b7bc0d84",
   "metadata": {},
   "outputs": [],
   "source": [
    "# Save all the sampled OD pairs that have a reference in 2020 ubermovement to csv\n",
    "OD_pairs_uber.to_csv(output_file_path + \"OD_pairs_uber_all_strongly_119w.csv\")"
   ]
  },
  {
   "cell_type": "code",
   "execution_count": null,
   "id": "2938c8b425dd617c",
   "metadata": {},
   "outputs": [],
   "source": [
    "OD_pairs_remains = temp_OD[~temp_OD.index.isin(OD_pairs_uber_1m.index)]\n",
    "OD_pairs_remains.to_csv(output_file_path + \"OD_pairs_uber_4m_remains_strongly.csv\")"
   ]
  }
 ],
 "metadata": {
  "kernelspec": {
   "display_name": "Python 3",
   "language": "python",
   "name": "python3"
  },
  "language_info": {
   "codemirror_mode": {
    "name": "ipython",
    "version": 2
   },
   "file_extension": ".py",
   "mimetype": "text/x-python",
   "name": "python",
   "nbconvert_exporter": "python",
   "pygments_lexer": "ipython2",
   "version": "2.7.6"
  }
 },
 "nbformat": 4,
 "nbformat_minor": 5
}

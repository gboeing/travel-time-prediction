{
 "cells": [
  {
   "cell_type": "code",
   "execution_count": null,
   "id": "initial_id",
   "metadata": {},
   "outputs": [],
   "source": [
    "import numpy as np\n",
    "import pandas as pd\n",
    "from scipy import stats\n",
    "from sklearn.metrics import mean_squared_error, r2_score"
   ]
  },
  {
   "cell_type": "code",
   "execution_count": null,
   "id": "d15a009bb8c3e3b8",
   "metadata": {},
   "outputs": [],
   "source": [
    "# setting up file paths\n",
    "file_path = \"../Data/\"\n",
    "output_file_path = file_path + \"Output/\""
   ]
  },
  {
   "cell_type": "code",
   "execution_count": null,
   "id": "e101d90af0dce836",
   "metadata": {},
   "outputs": [],
   "source": [
    "# google time result\n",
    "result = pd.read_csv(output_file_path + \"googlerouteapi2024allresult.csv\")"
   ]
  },
  {
   "cell_type": "code",
   "execution_count": null,
   "id": "e51d9dc76cbfab15",
   "metadata": {},
   "outputs": [],
   "source": [
    "# freeflow routing result based on the simplified graph\n",
    "ff_sim = pd.read_csv(\n",
    "    output_file_path\n",
    "    + \"result0319parsimonious/\"\n",
    "    + \"freeflow_OD3am_all_googlerouteapi_simplified_parsi.csv\",\n",
    ")"
   ]
  },
  {
   "cell_type": "code",
   "execution_count": null,
   "id": "3c68ba7bc1743e87",
   "metadata": {},
   "outputs": [],
   "source": [
    "# rename the column name and merge the freeflow result with google api result\n",
    "ff_sim.rename(\n",
    "    columns={\"distance\": \"ff_distance\", \"travel_time\": \"ff_time\", \"route\": \"ff_route\"},\n",
    "    inplace=True,\n",
    ")\n",
    "ff_sim_df_result = ff_sim[[\"oid\", \"did\", \"ff_distance\", \"ff_time\", \"ff_route\"]]\n",
    "\n",
    "df = result.merge(ff_sim_df_result, left_on=[\"oid\", \"did\"], right_on=[\"oid\", \"did\"])"
   ]
  },
  {
   "cell_type": "code",
   "execution_count": null,
   "id": "51bc91ae5a121bd3",
   "metadata": {},
   "outputs": [],
   "source": [
    "# OLS routing result based on both turn and traffic control penalties\n",
    "penalized_param = pd.read_csv(\n",
    "    output_file_path\n",
    "    + \"result0226/\"\n",
    "    + \"penalized_OD3am_all_googlerouteapi_new_graph_new_turn_control_model2_no_slight.csv\",\n",
    ")"
   ]
  },
  {
   "cell_type": "code",
   "execution_count": null,
   "id": "68acd6d57f4693d",
   "metadata": {},
   "outputs": [],
   "source": [
    "# rename the column name and merge with previous df\n",
    "penalized_param.rename(\n",
    "    columns={\n",
    "        \"distance\": \"all_ols_distance\",\n",
    "        \"total_time_with_turn_penalty\": \"all_ols_time\",\n",
    "        \"route\": \"all_ols_route\",\n",
    "    },\n",
    "    inplace=True,\n",
    ")\n",
    "penalized_param_result = penalized_param[\n",
    "    [\"oid\", \"did\", \"all_ols_distance\", \"all_ols_time\", \"all_ols_route\"]\n",
    "]\n",
    "df = df.merge(penalized_param_result, left_on=[\"oid\", \"did\"], right_on=[\"oid\", \"did\"])"
   ]
  },
  {
   "cell_type": "code",
   "execution_count": null,
   "id": "d74966b5e7c070a7",
   "metadata": {},
   "outputs": [],
   "source": [
    "df = df.drop([\"Unnamed: 0.3\", \"Unnamed: 0.2\", \"Unnamed: 0.1\", \"Unnamed: 0\"], axis=1)"
   ]
  },
  {
   "cell_type": "code",
   "execution_count": null,
   "id": "1c349c24526a2610",
   "metadata": {},
   "outputs": [],
   "source": [
    "# OLS routing result based on only turn penalty on non-simplified graph\n",
    "non_simplify_turn = pd.read_csv(\n",
    "    output_file_path\n",
    "    + \"result0319parsimonious/\"\n",
    "    + \"penalized_OD3am_all_googlerouteapi_model2_parsi.csv\",\n",
    ")"
   ]
  },
  {
   "cell_type": "code",
   "execution_count": null,
   "id": "7c63e245096f4f2c",
   "metadata": {},
   "outputs": [],
   "source": [
    "# rename the column name and merge with previous df\n",
    "non_simplify_turn.rename(\n",
    "    columns={\n",
    "        \"distance\": \"non_simplify_turn_distance\",\n",
    "        \"total_time_with_turn_penalty\": \"non_simplify_turn_time\",\n",
    "        \"route\": \"non_simplify_route\",\n",
    "    },\n",
    "    inplace=True,\n",
    ")\n",
    "non_simplify_turn_result = non_simplify_turn[\n",
    "    [\"oid\", \"did\", \"non_simplify_turn_distance\", \"non_simplify_turn_time\", \"non_simplify_route\"]\n",
    "]\n",
    "df = df.merge(non_simplify_turn_result, left_on=[\"oid\", \"did\"], right_on=[\"oid\", \"did\"])"
   ]
  },
  {
   "cell_type": "code",
   "execution_count": null,
   "id": "4ef3ca6fd0fa3132",
   "metadata": {},
   "outputs": [],
   "source": [
    "# OLS routing result based on only turn penalty on simplified graph\n",
    "simplify_turn = pd.read_csv(\n",
    "    output_file_path\n",
    "    + \"result0319parsimonious/\"\n",
    "    + \"penalized_OD3am_all_googlerouteapi_simplified_parsi_model2.csv\",\n",
    ")"
   ]
  },
  {
   "cell_type": "code",
   "execution_count": null,
   "id": "15b5b290c081ec59",
   "metadata": {},
   "outputs": [],
   "source": [
    "# rename the column name and merge with previous df\n",
    "simplify_turn.rename(\n",
    "    columns={\n",
    "        \"distance\": \"simplify_turn_distance\",\n",
    "        \"total_time_with_turn_penalty\": \"simplify_turn_time\",\n",
    "        \"route\": \"simplify_route\",\n",
    "    },\n",
    "    inplace=True,\n",
    ")\n",
    "simplify_turn_result = simplify_turn[\n",
    "    [\"oid\", \"did\", \"simplify_turn_distance\", \"simplify_turn_time\", \"simplify_route\"]\n",
    "]\n",
    "df = df.merge(simplify_turn_result, left_on=[\"oid\", \"did\"], right_on=[\"oid\", \"did\"])"
   ]
  },
  {
   "cell_type": "code",
   "execution_count": null,
   "id": "142691c6670f66b6",
   "metadata": {},
   "outputs": [],
   "source": [
    "# calculate percentages\n",
    "df[\"ff_time_pct\"] = df[\"ff_time\"] / df[\"duration\"]\n",
    "df[\"all_ols_time_pct\"] = df[\"all_ols_time\"] / df[\"duration\"]\n",
    "df[\"non_simplify_turn_time_pct\"] = df[\"non_simplify_turn_time\"] / df[\"duration\"]\n",
    "df[\"simplify_turn_time_pct\"] = df[\"simplify_turn_time\"] / df[\"duration\"]"
   ]
  },
  {
   "cell_type": "code",
   "execution_count": null,
   "id": "4e71b2c80e9b6248",
   "metadata": {},
   "outputs": [],
   "source": [
    "# function for prediction accuracy evaluation\n",
    "def evaluate(predictions, test_labels):\n",
    "    errors = abs(predictions - test_labels)\n",
    "    mape = 100 * np.mean(errors / test_labels)\n",
    "    mdeian_mape = 100 * np.median(errors / test_labels)\n",
    "    accuracy_mean = 100 - mape\n",
    "    accuracy_median = 100 - mdeian_mape\n",
    "    print(\"Model Performance\")\n",
    "    print(f\"Average Error: {np.mean(errors):0.4f} seconds.\")\n",
    "    print(f\"Median Error: {np.median(errors):0.4f} seconds.\")\n",
    "    print(f\"accuracy_mean = {accuracy_mean:0.2f}%.\")\n",
    "    print(f\"accuracy_median = {accuracy_median:0.2f}%.\")\n",
    "\n",
    "    return accuracy_mean"
   ]
  },
  {
   "cell_type": "code",
   "execution_count": null,
   "id": "685d9fb119c463c7",
   "metadata": {},
   "outputs": [],
   "source": [
    "# split for the test\n",
    "test = pd.read_csv(output_file_path + \"/result0319parsimonious/test3.csv\")\n",
    "test[\"split\"] = \"test\"\n",
    "test = test[[\"oid\", \"did\", \"split\"]]\n",
    "df = df.merge(test, how=\"left\", left_on=[\"oid\", \"did\"], right_on=[\"oid\", \"did\"])\n",
    "df[[\"split\"]] = df[[\"split\"]].fillna(\"train\")\n",
    "test_df = df[df[\"split\"] == \"test\"]"
   ]
  },
  {
   "cell_type": "code",
   "execution_count": null,
   "id": "7340a15d823a126e",
   "metadata": {},
   "outputs": [],
   "source": [
    "evaluate(test_df[\"ff_time\"], test_df[\"duration\"])"
   ]
  },
  {
   "cell_type": "code",
   "execution_count": null,
   "id": "42c20e8b037fde2e",
   "metadata": {},
   "outputs": [],
   "source": [
    "Errors = abs(test_df[\"all_ols_time\"] - test_df[\"duration\"])\n",
    "print(\"Average baseline error:\", round(np.mean(Errors), 3), \" seconds\")\n",
    "# Evaluating the model\n",
    "mse = mean_squared_error(test_df[\"duration\"], test_df[\"all_ols_time\"])\n",
    "print(f\"Mean Squared Error: {mse}\")\n",
    "r2 = r2_score(test_df[\"duration\"], test_df[\"all_ols_time\"])\n",
    "print(f\"R-squared: {r2}\")"
   ]
  },
  {
   "cell_type": "code",
   "execution_count": null,
   "id": "4803aafe09e7fb9",
   "metadata": {},
   "outputs": [],
   "source": [
    "Errors = abs(test_df[\"non_simplify_turn_time\"] - test_df[\"duration\"])\n",
    "print(\"Average baseline error:\", round(np.mean(Errors), 3), \" seconds\")\n",
    "# Evaluating the model\n",
    "mse = mean_squared_error(test_df[\"duration\"], test_df[\"non_simplify_turn_time\"])\n",
    "print(f\"Mean Squared Error: {mse}\")\n",
    "r2 = r2_score(test_df[\"duration\"], test_df[\"non_simplify_turn_time\"])\n",
    "print(f\"R-squared: {r2}\")"
   ]
  },
  {
   "cell_type": "code",
   "execution_count": null,
   "id": "64321c293804a282",
   "metadata": {},
   "outputs": [],
   "source": [
    "Errors = abs(test_df[\"simplify_turn_time\"] - test_df[\"duration\"])\n",
    "print(\"Average baseline error:\", round(np.mean(Errors), 3), \" seconds\")\n",
    "# Evaluating the model\n",
    "mse = mean_squared_error(test_df[\"duration\"], test_df[\"simplify_turn_time\"])\n",
    "print(f\"Mean Squared Error: {mse}\")\n",
    "r2 = r2_score(test_df[\"duration\"], test_df[\"simplify_turn_time\"])\n",
    "print(f\"R-squared: {r2}\")"
   ]
  },
  {
   "cell_type": "code",
   "execution_count": null,
   "id": "e2dac94f4b5c9f8c",
   "metadata": {},
   "outputs": [],
   "source": [
    "stats.ttest_rel(test_df[\"simplify_turn_time\"], test_df[\"duration\"])"
   ]
  },
  {
   "cell_type": "code",
   "execution_count": null,
   "id": "958046c82544560e",
   "metadata": {},
   "outputs": [],
   "source": [
    "stats.ttest_rel(test_df[\"ff_time\"], test_df[\"duration\"])"
   ]
  },
  {
   "cell_type": "code",
   "execution_count": null,
   "id": "98e8bb6efb8666a8",
   "metadata": {},
   "outputs": [],
   "source": [
    "stats.ttest_rel(test_df[\"all_ols_time\"], test_df[\"duration\"])"
   ]
  },
  {
   "cell_type": "code",
   "execution_count": null,
   "id": "4a509befd894c371",
   "metadata": {},
   "outputs": [],
   "source": [
    "# libraries & dataset\n",
    "import matplotlib.pyplot as plt\n",
    "import seaborn as sns\n",
    "\n",
    "# set a grey background (use sns.set_theme() if seaborn version 0.11.0 or above)\n",
    "sns.set(style=\"darkgrid\")\n",
    "sns.set_theme(rc={\"figure.figsize\": (11.7, 8.27)})\n",
    "sns.histplot(data=df, x=\"duration\", color=\"skyblue\", label=\"google travel time\", kde=True)\n",
    "sns.histplot(data=df, x=\"ff_time\", color=\"red\", label=\"shortest edge traversal time\", kde=True)\n",
    "sns.histplot(\n",
    "    data=df,\n",
    "    x=\"all_ols_time\",\n",
    "    color=\"yellow\",\n",
    "    label=\"travel time based on OLS parameters\",\n",
    "    kde=True,\n",
    ")\n",
    "\n",
    "plt.legend()\n",
    "plt.show()"
   ]
  },
  {
   "cell_type": "markdown",
   "id": "71681f9c29dbc979",
   "metadata": {
    "collapsed": false
   },
   "source": [
    "# machine learning predictions"
   ]
  },
  {
   "cell_type": "code",
   "execution_count": null,
   "id": "bb0c6f783807d0cf",
   "metadata": {},
   "outputs": [],
   "source": [
    "rf = pd.read_csv(output_file_path + \"result0331/\" + \"test1_best_rf_predict0331.csv\")"
   ]
  },
  {
   "cell_type": "code",
   "execution_count": null,
   "id": "cba3fdb480320864",
   "metadata": {},
   "outputs": [],
   "source": [
    "rf_result = rf[[\"oid\", \"did\", \"best_rf_predict\"]]"
   ]
  },
  {
   "cell_type": "code",
   "execution_count": null,
   "id": "b0482cc07cf89797",
   "metadata": {},
   "outputs": [],
   "source": [
    "test_df = test_df.merge(rf_result, left_on=[\"oid\", \"did\"], right_on=[\"oid\", \"did\"])"
   ]
  },
  {
   "cell_type": "code",
   "execution_count": null,
   "id": "1e6bbb9cb1feb02e",
   "metadata": {},
   "outputs": [],
   "source": [
    "test_df[\"rf_predict_gg_pct\"] = test_df[\"best_rf_predict\"] / test_df[\"duration\"]\n",
    "test_df[\"rf_predict_uber_pct\"] = test_df[\"best_rf_predict\"] / test_df[\"mean_travel_time\"]"
   ]
  },
  {
   "cell_type": "code",
   "execution_count": null,
   "id": "4992ac861474af17",
   "metadata": {},
   "outputs": [],
   "source": [
    "stats.ttest_rel(test_df[\"best_rf_predict\"], test_df[\"duration\"])"
   ]
  },
  {
   "cell_type": "code",
   "execution_count": null,
   "id": "7291882583ea78f3",
   "metadata": {},
   "outputs": [],
   "source": [
    "# libraries & dataset\n",
    "import matplotlib.pyplot as plt\n",
    "import seaborn as sns\n",
    "\n",
    "# set a grey background (use sns.set_theme() if seaborn version 0.11.0 or above)\n",
    "sns.set(style=\"darkgrid\")\n",
    "sns.set_theme(rc={\"figure.figsize\": (11.7, 8.27)})\n",
    "sns.histplot(data=test_df, x=\"duration\", color=\"skyblue\", label=\"google travel time\", kde=True)\n",
    "sns.histplot(\n",
    "    data=test_df,\n",
    "    x=\"ff_time\",\n",
    "    color=\"red\",\n",
    "    label=\"shortest freeflow traversal time\",\n",
    "    kde=True,\n",
    ")\n",
    "sns.histplot(\n",
    "    data=test_df,\n",
    "    x=\"all_ols_time\",\n",
    "    color=\"yellow\",\n",
    "    label=\"travel time based on OLS parameters\",\n",
    "    kde=True,\n",
    ")\n",
    "sns.histplot(\n",
    "    data=test_df,\n",
    "    x=\"best_rf_predict\",\n",
    "    color=\"green\",\n",
    "    label=\"travel time based on OLS parameters\",\n",
    "    kde=True,\n",
    ")\n",
    "\n",
    "plt.legend()\n",
    "plt.show()"
   ]
  },
  {
   "cell_type": "code",
   "execution_count": null,
   "id": "9e2d63c2aff5b896",
   "metadata": {},
   "outputs": [],
   "source": [
    "sns.set(style=\"darkgrid\")\n",
    "sns.set_theme(rc={\"figure.figsize\": (11.7, 8.27)})\n",
    "sns.histplot(\n",
    "    data=df,\n",
    "    x=\"duration\",\n",
    "    color=\"skyblue\",\n",
    "    label=\"all sample: google travel time\",\n",
    "    kde=True,\n",
    ")\n",
    "sns.histplot(\n",
    "    data=df,\n",
    "    x=\"ff_time\",\n",
    "    color=\"red\",\n",
    "    label=\"all sample: shortest freeflow traversal time\",\n",
    "    kde=True,\n",
    ")\n",
    "sns.histplot(\n",
    "    data=df,\n",
    "    x=\"all_ols_time\",\n",
    "    color=\"yellow\",\n",
    "    label=\"all sample: travel time based on OLS parameters\",\n",
    "    kde=True,\n",
    ")\n",
    "sns.histplot(\n",
    "    data=test_df,\n",
    "    x=\"duration\",\n",
    "    color=\"skyblue\",\n",
    "    label=\"test: google travel time\",\n",
    "    kde=True,\n",
    ")\n",
    "sns.histplot(\n",
    "    data=test_df,\n",
    "    x=\"ff_time\",\n",
    "    color=\"red\",\n",
    "    label=\"test:shortest freeflow traversal time\",\n",
    "    kde=True,\n",
    ")\n",
    "sns.histplot(\n",
    "    data=test_df,\n",
    "    x=\"all_ols_time\",\n",
    "    color=\"yellow\",\n",
    "    label=\"test:travel time based on OLS parameters\",\n",
    "    kde=True,\n",
    ")\n",
    "sns.histplot(\n",
    "    data=test_df,\n",
    "    x=\"best_rf_predict\",\n",
    "    color=\"green\",\n",
    "    label=\"test:travel time based on random forest\",\n",
    "    kde=True,\n",
    ")\n",
    "\n",
    "\n",
    "plt.legend()\n",
    "plt.show()"
   ]
  }
 ],
 "metadata": {
  "kernelspec": {
   "display_name": "Python 3",
   "language": "python",
   "name": "python3"
  },
  "language_info": {
   "codemirror_mode": {
    "name": "ipython",
    "version": 2
   },
   "file_extension": ".py",
   "mimetype": "text/x-python",
   "name": "python",
   "nbconvert_exporter": "python",
   "pygments_lexer": "ipython2",
   "version": "2.7.6"
  }
 },
 "nbformat": 4,
 "nbformat_minor": 5
}

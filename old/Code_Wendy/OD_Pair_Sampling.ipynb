{
 "cells": [
  {
   "cell_type": "code",
   "execution_count": null,
   "id": "initial_id",
   "metadata": {},
   "outputs": [],
   "source": [
    "import geopandas as gpd\n",
    "import osmnx as ox\n",
    "import pandas as pd"
   ]
  },
  {
   "cell_type": "code",
   "execution_count": null,
   "id": "940ac50093e4b16f",
   "metadata": {},
   "outputs": [],
   "source": [
    "file_path = \"../Data/\"\n",
    "output_file_path = file_path + \"Output/\""
   ]
  },
  {
   "cell_type": "markdown",
   "id": "668a8d6e949abb7e",
   "metadata": {
    "collapsed": false
   },
   "source": [
    "# Street network in LA county"
   ]
  },
  {
   "cell_type": "code",
   "execution_count": null,
   "id": "51c1e55855b00458",
   "metadata": {},
   "outputs": [],
   "source": [
    "G = ox.graph_from_place(\"Los Angeles County, CA, USA\", network_type=\"drive\")"
   ]
  },
  {
   "cell_type": "markdown",
   "id": "b7279c0d34db1fea",
   "metadata": {
    "collapsed": false
   },
   "source": [
    "# Street network in LA urban settlement area, dataverse"
   ]
  },
  {
   "cell_type": "code",
   "execution_count": null,
   "id": "8ae9497150cb2060",
   "metadata": {},
   "outputs": [],
   "source": [
    "# street network for LA urban settlement area\n",
    "G_graphml = ox.io.load_graphml(file_path + \"los_angeles-14.graphml\")\n",
    "fig, ax = ox.plot_graph(G_graphml)"
   ]
  },
  {
   "cell_type": "code",
   "execution_count": null,
   "id": "7b930aa84b7e7a4c",
   "metadata": {},
   "outputs": [],
   "source": [
    "# California census tract downloaded from census bureau\n",
    "CA_22tract = gpd.read_file(file_path + \"tl_2022_06_tract/tl_2022_06_tract.shp\")"
   ]
  },
  {
   "cell_type": "code",
   "execution_count": null,
   "id": "e5fee6779b26ccb8",
   "metadata": {},
   "outputs": [],
   "source": [
    "LA_22tract = CA_22tract[CA_22tract[\"COUNTYFP\"] == \"037\"]"
   ]
  },
  {
   "cell_type": "code",
   "execution_count": null,
   "id": "b966067eeb38628",
   "metadata": {},
   "outputs": [],
   "source": [
    "# Los Angeles census tract used by uber movements\n",
    "uber_tract = gpd.read_file(file_path + \"los_angeles_censustracts.json\")"
   ]
  },
  {
   "cell_type": "code",
   "execution_count": null,
   "id": "ae50dd755ca96178",
   "metadata": {},
   "outputs": [],
   "source": [
    "CA_22tract.crs"
   ]
  },
  {
   "cell_type": "code",
   "execution_count": null,
   "id": "d34a562f52695d99",
   "metadata": {},
   "outputs": [],
   "source": [
    "CA_22tract_crs = CA_22tract.to_crs(4326)\n",
    "CA_22tract_crs.crs"
   ]
  },
  {
   "cell_type": "code",
   "execution_count": null,
   "id": "87419ffdcba39ea2",
   "metadata": {},
   "outputs": [],
   "source": [
    "uber_tract.crs"
   ]
  },
  {
   "cell_type": "code",
   "execution_count": null,
   "id": "2fc6c303209e8431",
   "metadata": {},
   "outputs": [],
   "source": [
    "gdf_nodes, gdf_edges = ox.graph_to_gdfs(G)\n",
    "gdf = gdf_nodes.reset_index(drop=False)"
   ]
  },
  {
   "cell_type": "code",
   "execution_count": null,
   "id": "908d8a3842a6040c",
   "metadata": {},
   "outputs": [],
   "source": [
    "gdf_proj = ox.project_gdf(gdf, to_latlong=True)\n",
    "gdf_proj[\"x\"] = gdf_proj[\"geometry\"].x\n",
    "gdf_proj[\"y\"] = gdf_proj[\"geometry\"].y"
   ]
  },
  {
   "cell_type": "code",
   "execution_count": null,
   "id": "5147cf36c9d81293",
   "metadata": {},
   "outputs": [],
   "source": [
    "gdf_proj.crs"
   ]
  },
  {
   "cell_type": "markdown",
   "id": "a69561ff16c2e9e1",
   "metadata": {
    "collapsed": false
   },
   "source": [
    "# attach (spatial join) census tract GEOID and Uber Movement Tract Movement ID to all the nodes in LA county"
   ]
  },
  {
   "cell_type": "code",
   "execution_count": null,
   "id": "a9a18b21b2149478",
   "metadata": {},
   "outputs": [],
   "source": [
    "selected_cols = [\"osmid\", \"y\", \"x\", \"highway\", \"street_count\", \"ref\", \"geometry\", \"GEOID\"]\n",
    "\n",
    "gdf_proj_tract = gpd.sjoin(gdf_proj, CA_22tract_crs, how=\"left\", predicate=\"within\")[selected_cols]\n",
    "gdf_proj_tract_uber = gpd.sjoin(gdf_proj_tract, uber_tract, how=\"left\", predicate=\"within\")[\n",
    "    selected_cols + [\"MOVEMENT_ID\", \"TRACT\"]\n",
    "]\n",
    "gdf_proj_tract_uber"
   ]
  },
  {
   "cell_type": "markdown",
   "id": "be852a0b36196f19",
   "metadata": {
    "collapsed": false
   },
   "source": [
    "# Sample 100,000 nodes as origin and destination (100,000 OD pairs) in Los Angeles County"
   ]
  },
  {
   "cell_type": "code",
   "execution_count": null,
   "id": "50d151297e81d716",
   "metadata": {},
   "outputs": [],
   "source": [
    "origin = gdf_proj_tract_uber.sample(100000, random_state=12345, replace=True).copy()\n",
    "origin = origin[[\"osmid\", \"y\", \"x\", \"GEOID\", \"MOVEMENT_ID\"]]\n",
    "origin.columns = [\"oid\", \"oy\", \"ox\", \"oGEOID\", \"oMOVEMENT_ID\"]\n",
    "destin = gdf_proj_tract_uber.sample(100000, random_state=12345, replace=True).copy()\n",
    "destin = destin[[\"osmid\", \"y\", \"x\", \"GEOID\", \"MOVEMENT_ID\"]]\n",
    "destin.columns = [\"did\", \"dy\", \"dx\", \"dGEOID\", \"dMOVEMENT_ID\"]"
   ]
  },
  {
   "cell_type": "code",
   "execution_count": null,
   "id": "dec8cbf419945c8c",
   "metadata": {},
   "outputs": [],
   "source": [
    "origin = origin.reset_index(drop=True)\n",
    "destin = destin.reset_index(drop=True)"
   ]
  },
  {
   "cell_type": "code",
   "execution_count": null,
   "id": "d4aca60df8e88e1",
   "metadata": {},
   "outputs": [],
   "source": [
    "temp_OD = pd.concat([origin, destin], sort=False, axis=1)\n",
    "temp_OD = temp_OD.drop(temp_OD[temp_OD[\"oid\"] == temp_OD[\"did\"]].index)"
   ]
  },
  {
   "cell_type": "markdown",
   "id": "f36185fbda82cf7e",
   "metadata": {
    "collapsed": false
   },
   "source": [
    "# attach (spatial join) census tract GEOID and Uber Movement Tract Movement ID to all the nodes in LA urban area"
   ]
  },
  {
   "cell_type": "code",
   "execution_count": null,
   "id": "ba458c8c53ff93b7",
   "metadata": {},
   "outputs": [],
   "source": [
    "gdfml_nodes, gdfml_edges = ox.graph_to_gdfs(G_graphml)\n",
    "gdfml = gdfml_nodes.reset_index(drop=False)"
   ]
  },
  {
   "cell_type": "code",
   "execution_count": null,
   "id": "11cb6a28a46e4bbc",
   "metadata": {},
   "outputs": [],
   "source": [
    "gdfml_proj = ox.project_gdf(gdfml, to_latlong=True)\n",
    "gdfml_proj[\"x\"] = gdfml_proj[\"geometry\"].x\n",
    "gdfml_proj[\"y\"] = gdfml_proj[\"geometry\"].y"
   ]
  },
  {
   "cell_type": "code",
   "execution_count": null,
   "id": "233e924f616ff812",
   "metadata": {},
   "outputs": [],
   "source": [
    "gdfml_proj_tract = gpd.sjoin(gdfml_proj, CA_22tract_crs, how=\"left\", predicate=\"within\")\n",
    "gdfml_proj_tract_clean = gdfml_proj_tract[\n",
    "    [\"osmid\", \"y\", \"x\", \"highway\", \"street_count\", \"ref\", \"geometry\", \"GEOID\"]\n",
    "]\n",
    "gdfml_proj_tract_uber = gpd.sjoin(\n",
    "    gdfml_proj_tract_clean,\n",
    "    uber_tract,\n",
    "    how=\"left\",\n",
    "    predicate=\"within\",\n",
    ")\n",
    "gdfml_proj_tract_uber_clean = gdfml_proj_tract_uber[\n",
    "    [\n",
    "        \"osmid\",\n",
    "        \"y\",\n",
    "        \"x\",\n",
    "        \"highway\",\n",
    "        \"street_count\",\n",
    "        \"ref\",\n",
    "        \"geometry\",\n",
    "        \"GEOID\",\n",
    "        \"MOVEMENT_ID\",\n",
    "        \"TRACT\",\n",
    "    ]\n",
    "]\n",
    "gdfml_proj_tract_uber_clean"
   ]
  },
  {
   "cell_type": "markdown",
   "id": "78aed3b65cd6e9eb",
   "metadata": {
    "collapsed": false
   },
   "source": [
    "# Sample 100,000 nodes as origin and destination (100,000 OD pairs) in Los Angeles Urban Area"
   ]
  },
  {
   "cell_type": "code",
   "execution_count": null,
   "id": "5c94c207466071f2",
   "metadata": {},
   "outputs": [],
   "source": [
    "originml = gdfml_proj_tract_uber_clean.sample(100000, replace=True).copy()\n",
    "originml = originml[[\"osmid\", \"y\", \"x\", \"GEOID\", \"MOVEMENT_ID\"]]\n",
    "originml.columns = [\"oid\", \"oy\", \"ox\", \"oGEOID\", \"oMOVEMENT_ID\"]\n",
    "destinml = gdfml_proj_tract_uber_clean.sample(100000, replace=True).copy()\n",
    "destinml = destinml[[\"osmid\", \"y\", \"x\", \"GEOID\", \"MOVEMENT_ID\"]]\n",
    "destinml.columns = [\"did\", \"dy\", \"dx\", \"dGEOID\", \"dMOVEMENT_ID\"]"
   ]
  },
  {
   "cell_type": "code",
   "execution_count": null,
   "id": "234a1a07f3140cb",
   "metadata": {},
   "outputs": [],
   "source": [
    "originml = originml.reset_index(drop=True)\n",
    "destinml = destinml.reset_index(drop=True)"
   ]
  },
  {
   "cell_type": "code",
   "execution_count": null,
   "id": "74f2a59877be70d4",
   "metadata": {},
   "outputs": [],
   "source": [
    "tempml_OD = pd.concat([originml, destinml], sort=False, axis=1)\n",
    "tempml_OD = tempml_OD.drop(tempml_OD[tempml_OD[\"oid\"] == tempml_OD[\"did\"]].index)"
   ]
  },
  {
   "cell_type": "markdown",
   "id": "b0aed11dc52ab801",
   "metadata": {
    "collapsed": false
   },
   "source": [
    "# Sampling OD pairs that are in both the Los Angeles Urban Area and Los Angeles county"
   ]
  },
  {
   "cell_type": "code",
   "execution_count": null,
   "id": "279eec1c450cba1e",
   "metadata": {},
   "outputs": [],
   "source": [
    "la_county_ml_intersect = gdfml_proj_tract_uber_clean[~gdfml_proj_tract_uber_clean[\"GEOID\"].isna()]"
   ]
  },
  {
   "cell_type": "code",
   "execution_count": null,
   "id": "7c634e4703b843a1",
   "metadata": {},
   "outputs": [],
   "source": [
    "la_county_ml_intersect = la_county_ml_intersect.loc[\n",
    "    la_county_ml_intersect[\"GEOID\"].str.startswith(\"06037\")\n",
    "]"
   ]
  },
  {
   "cell_type": "code",
   "execution_count": null,
   "id": "10c5dbae320d1dc4",
   "metadata": {},
   "outputs": [],
   "source": [
    "# percentage of nodes in LA urban area that are also in LA county\n",
    "len(la_county_ml_intersect) / len(gdfml_proj_tract_uber_clean)"
   ]
  },
  {
   "cell_type": "code",
   "execution_count": null,
   "id": "51bf7be78b06861d",
   "metadata": {},
   "outputs": [],
   "source": [
    "ax = LA_22tract.plot(color=\"palegreen\", edgecolor=\"green\", figsize=(20, 10))\n",
    "gdfml_proj_tract_uber_clean.plot(ax=ax, color=\"red\")"
   ]
  },
  {
   "cell_type": "code",
   "execution_count": null,
   "id": "f7a0478587356e80",
   "metadata": {},
   "outputs": [],
   "source": [
    "origin_intersect = la_county_ml_intersect.sample(100000, replace=True).copy()\n",
    "origin_intersect = origin_intersect[[\"osmid\", \"y\", \"x\", \"GEOID\", \"MOVEMENT_ID\"]]\n",
    "origin_intersect.columns = [\"oid\", \"oy\", \"ox\", \"oGEOID\", \"oMOVEMENT_ID\"]\n",
    "destin_intersect = la_county_ml_intersect.sample(100000, replace=True).copy()\n",
    "destin_intersect = destin_intersect[[\"osmid\", \"y\", \"x\", \"GEOID\", \"MOVEMENT_ID\"]]\n",
    "destin_intersect.columns = [\"did\", \"dy\", \"dx\", \"dGEOID\", \"dMOVEMENT_ID\"]"
   ]
  },
  {
   "cell_type": "code",
   "execution_count": null,
   "id": "328faa8402aeb671",
   "metadata": {},
   "outputs": [],
   "source": [
    "origin_intersect"
   ]
  },
  {
   "cell_type": "code",
   "execution_count": null,
   "id": "bfedd709a79509a8",
   "metadata": {},
   "outputs": [],
   "source": [
    "origin_intersect = origin_intersect.reset_index(drop=True)\n",
    "destin_intersect = destin_intersect.reset_index(drop=True)\n",
    "temp_intersect_OD = pd.concat([origin_intersect, destin_intersect], sort=False, axis=1)\n",
    "temp_intersect_OD = temp_intersect_OD.drop(\n",
    "    temp_intersect_OD[temp_intersect_OD[\"oid\"] == temp_intersect_OD[\"did\"]].index,\n",
    ")"
   ]
  },
  {
   "cell_type": "markdown",
   "id": "fcefa445fa084895",
   "metadata": {
    "collapsed": false
   },
   "source": [
    "# Save sampled PD pairs as csv"
   ]
  },
  {
   "cell_type": "code",
   "execution_count": null,
   "id": "388a50f46840a5da",
   "metadata": {},
   "outputs": [],
   "source": [
    "temp_OD.to_csv(output_file_path + \"temp_OD.csv\")\n",
    "tempml_OD.to_csv(output_file_path + \"tempml_OD.csv\")\n",
    "temp_intersect_OD.to_csv(output_file_path + \"temp_intersect_OD.csv\")"
   ]
  }
 ],
 "metadata": {
  "kernelspec": {
   "display_name": "Python 3",
   "language": "python",
   "name": "python3"
  },
  "language_info": {
   "codemirror_mode": {
    "name": "ipython",
    "version": 2
   },
   "file_extension": ".py",
   "mimetype": "text/x-python",
   "name": "python",
   "nbconvert_exporter": "python",
   "pygments_lexer": "ipython2",
   "version": "2.7.6"
  }
 },
 "nbformat": 4,
 "nbformat_minor": 5
}

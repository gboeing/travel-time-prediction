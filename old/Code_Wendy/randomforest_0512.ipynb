{
 "cells": [
  {
   "cell_type": "code",
   "execution_count": null,
   "id": "initial_id",
   "metadata": {
    "ExecuteTime": {
     "end_time": "2024-05-15T21:50:31.195707Z",
     "start_time": "2024-05-15T21:50:31.192243Z"
    }
   },
   "outputs": [],
   "source": [
    "from pprint import pprint\n",
    "\n",
    "import numpy as np\n",
    "import pandas as pd\n",
    "import statsmodels.api as sm\n",
    "from scipy import stats\n",
    "from sklearn.ensemble import RandomForestRegressor\n",
    "from sklearn.metrics import mean_squared_error, r2_score\n",
    "from sklearn.model_selection import GridSearchCV, train_test_split"
   ]
  },
  {
   "cell_type": "code",
   "execution_count": null,
   "id": "18a0d7ce87b4903a",
   "metadata": {
    "ExecuteTime": {
     "end_time": "2024-05-15T21:50:31.689057Z",
     "start_time": "2024-05-15T21:50:31.685444Z"
    }
   },
   "outputs": [],
   "source": [
    "# file paths\n",
    "file_path = \"../Data/\"\n",
    "output_file_path = file_path + \"Output/\""
   ]
  },
  {
   "cell_type": "code",
   "execution_count": null,
   "id": "1163fe5da854c9de",
   "metadata": {
    "ExecuteTime": {
     "end_time": "2024-05-15T21:50:33.467593Z",
     "start_time": "2024-05-15T21:50:32.079134Z"
    }
   },
   "outputs": [],
   "source": [
    "# import the freeflow result based on non-simplified graph\n",
    "ff_df = pd.read_csv(\n",
    "    output_file_path\n",
    "    + \"result0226/\"\n",
    "    + \"freeflow_OD3am_all_googlerouteapi_new_graph_new_turn_control_slight.csv\",\n",
    ")"
   ]
  },
  {
   "cell_type": "code",
   "execution_count": null,
   "id": "d4b86c987fa24421",
   "metadata": {
    "ExecuteTime": {
     "end_time": "2024-05-15T21:50:34.513457Z",
     "start_time": "2024-05-15T21:50:33.469602Z"
    }
   },
   "outputs": [],
   "source": [
    "# import the google api result\n",
    "gg_df_result_all = pd.read_csv(output_file_path + \"googlerouteapi2024allresult.csv\")\n",
    "# merge the freeflow travel time and google travel time into one dataframe\n",
    "df = ff_df.merge(gg_df_result_all, left_on=[\"oid\", \"did\"], right_on=[\"oid\", \"did\"])"
   ]
  },
  {
   "cell_type": "code",
   "execution_count": null,
   "id": "1f9e1ea3785a546e",
   "metadata": {
    "ExecuteTime": {
     "end_time": "2024-05-13T17:51:58.984743Z",
     "start_time": "2024-05-13T17:51:58.981031Z"
    }
   },
   "outputs": [],
   "source": [
    "df[\"diff\"] = df[\"duration\"] - df[\"travel_time\"]"
   ]
  },
  {
   "cell_type": "markdown",
   "id": "c63e9ca6410808d2",
   "metadata": {
    "collapsed": false
   },
   "source": [
    "# Random Forest Regression Model"
   ]
  },
  {
   "cell_type": "code",
   "execution_count": null,
   "id": "bf0de26baffbe160",
   "metadata": {
    "ExecuteTime": {
     "end_time": "2024-05-13T17:52:05.081436Z",
     "start_time": "2024-05-13T17:52:04.898997Z"
    }
   },
   "outputs": [],
   "source": [
    "# split train and test set\n",
    "train1, test1 = train_test_split(df, test_size=0.2, random_state=123)"
   ]
  },
  {
   "cell_type": "code",
   "execution_count": null,
   "id": "b970d7297d88c11a",
   "metadata": {
    "ExecuteTime": {
     "end_time": "2024-05-13T17:52:09.957877Z",
     "start_time": "2024-05-13T17:52:09.952229Z"
    }
   },
   "outputs": [],
   "source": [
    "y = train1[\"duration\"]\n",
    "x = train1[\n",
    "    [\n",
    "        \"signal_count\",\n",
    "        \"stop_count\",\n",
    "        \"crossing_count\",\n",
    "        \"give_way_count\",\n",
    "        \"mini_roundabout_count\",\n",
    "        \"left_count\",\n",
    "        \"slight_left_count\",\n",
    "        \"right_count\",\n",
    "        \"slight_right_count\",\n",
    "        \"u_count\",\n",
    "        \"travel_time\",\n",
    "    ]\n",
    "]\n",
    "x_test = test1[\n",
    "    [\n",
    "        \"signal_count\",\n",
    "        \"stop_count\",\n",
    "        \"crossing_count\",\n",
    "        \"give_way_count\",\n",
    "        \"mini_roundabout_count\",\n",
    "        \"left_count\",\n",
    "        \"slight_left_count\",\n",
    "        \"right_count\",\n",
    "        \"slight_right_count\",\n",
    "        \"u_count\",\n",
    "        \"travel_time\",\n",
    "    ]\n",
    "]\n",
    "y_test = test1[\"duration\"]"
   ]
  },
  {
   "cell_type": "code",
   "execution_count": null,
   "id": "c16fb134d088240e",
   "metadata": {
    "ExecuteTime": {
     "end_time": "2024-05-15T08:53:16.134408Z",
     "start_time": "2024-05-15T08:53:16.106295Z"
    }
   },
   "outputs": [],
   "source": [
    "train1"
   ]
  },
  {
   "cell_type": "code",
   "execution_count": null,
   "id": "585c463b3317e431",
   "metadata": {
    "ExecuteTime": {
     "end_time": "2024-05-13T17:52:22.127449Z",
     "start_time": "2024-05-13T17:52:10.673551Z"
    }
   },
   "outputs": [],
   "source": [
    "# Fitting the default Random forest Regression to the dataset\n",
    "regressor = RandomForestRegressor()\n",
    "# Fit the regressor with x and y data\n",
    "regressor.fit(x, y)"
   ]
  },
  {
   "cell_type": "code",
   "execution_count": null,
   "id": "a44b483f91826353",
   "metadata": {
    "ExecuteTime": {
     "end_time": "2024-05-13T17:52:22.414902Z",
     "start_time": "2024-05-13T17:52:22.129433Z"
    }
   },
   "outputs": [],
   "source": [
    "# Predict the result\n",
    "predictions = regressor.predict(x_test)"
   ]
  },
  {
   "cell_type": "code",
   "execution_count": null,
   "id": "5abf1dbc47fff9f3",
   "metadata": {
    "ExecuteTime": {
     "end_time": "2024-05-13T17:52:22.424077Z",
     "start_time": "2024-05-13T17:52:22.417016Z"
    }
   },
   "outputs": [],
   "source": [
    "Errors = abs(predictions - y_test)\n",
    "print(\"Average baseline error:\", round(np.mean(Errors), 3), \" seconds\")"
   ]
  },
  {
   "cell_type": "code",
   "execution_count": null,
   "id": "ff362d34b2a89455",
   "metadata": {
    "ExecuteTime": {
     "end_time": "2024-05-13T17:52:35.619951Z",
     "start_time": "2024-05-13T17:52:35.343218Z"
    }
   },
   "outputs": [],
   "source": [
    "test1[\"rf_predict_default\"] = regressor.predict(x_test)"
   ]
  },
  {
   "cell_type": "code",
   "execution_count": null,
   "id": "831504d06d1a1460",
   "metadata": {
    "ExecuteTime": {
     "end_time": "2024-05-13T17:52:38.069796Z",
     "start_time": "2024-05-13T17:52:38.064316Z"
    }
   },
   "outputs": [],
   "source": [
    "# Evaluating the default random forest model: mean square error and r-squared\n",
    "mse = mean_squared_error(y_test, predictions)\n",
    "print(f\"Mean Squared Error: {mse}\")\n",
    "r2 = r2_score(y_test, predictions)\n",
    "print(f\"R-squared: {r2}\")"
   ]
  },
  {
   "cell_type": "markdown",
   "id": "38ab115e8dfbb94b",
   "metadata": {
    "collapsed": false
   },
   "source": [
    "## Freeflow travel time prediction"
   ]
  },
  {
   "cell_type": "code",
   "execution_count": null,
   "id": "97cac281d4eded2",
   "metadata": {
    "ExecuteTime": {
     "end_time": "2024-05-13T17:52:39.341186Z",
     "start_time": "2024-05-13T17:52:39.336285Z"
    }
   },
   "outputs": [],
   "source": [
    "# Evaluating the default freeflow model: mean square error and r-squared\n",
    "mse = mean_squared_error(y_test, test1[\"travel_time\"])\n",
    "print(f\"Mean Squared Error: {mse}\")\n",
    "r2 = r2_score(y_test, test1[\"travel_time\"])\n",
    "print(f\"R-squared: {r2}\")"
   ]
  },
  {
   "cell_type": "code",
   "execution_count": null,
   "id": "f6f905a643df7df7",
   "metadata": {
    "ExecuteTime": {
     "end_time": "2024-05-13T17:52:40.801961Z",
     "start_time": "2024-05-13T17:52:40.798163Z"
    }
   },
   "outputs": [],
   "source": [
    "errors = abs(y_test - test1[\"travel_time\"])\n",
    "print(f\"Average Error: {np.mean(errors):0.3f} seconds.\")"
   ]
  },
  {
   "cell_type": "code",
   "execution_count": null,
   "id": "f3567f1a6bff399f",
   "metadata": {
    "ExecuteTime": {
     "end_time": "2024-05-13T17:52:41.257081Z",
     "start_time": "2024-05-13T17:52:41.250458Z"
    }
   },
   "outputs": [],
   "source": [
    "errors = abs(y_test - test1[\"travel_time\"])\n",
    "print(f\"Median Error: {np.median(errors):0.3f} seconds.\")"
   ]
  },
  {
   "cell_type": "code",
   "execution_count": null,
   "id": "153c1515700aa1ea",
   "metadata": {
    "ExecuteTime": {
     "end_time": "2024-05-13T17:52:41.471476Z",
     "start_time": "2024-05-13T17:52:41.466824Z"
    }
   },
   "outputs": [],
   "source": [
    "mape = 100 * np.mean(errors / y_test)\n",
    "accuracy = 100 - mape\n",
    "print(f\"Average Accuracy = {accuracy:0.2f}%.\")"
   ]
  },
  {
   "cell_type": "code",
   "execution_count": null,
   "id": "cacbf70425bee944",
   "metadata": {
    "ExecuteTime": {
     "end_time": "2024-05-13T17:52:41.764259Z",
     "start_time": "2024-05-13T17:52:41.760150Z"
    }
   },
   "outputs": [],
   "source": [
    "mape = 100 * np.median(errors / y_test)\n",
    "accuracy = 100 - mape\n",
    "print(f\"Average Accuracy = {accuracy:0.2f}%.\")"
   ]
  },
  {
   "cell_type": "markdown",
   "id": "c850735626c6ab38",
   "metadata": {
    "collapsed": false
   },
   "source": [
    "## Try modelling using the difference as the dependent variable"
   ]
  },
  {
   "cell_type": "code",
   "execution_count": null,
   "id": "bb542e70cb2e1b03",
   "metadata": {
    "ExecuteTime": {
     "end_time": "2024-05-13T17:52:43.691057Z",
     "start_time": "2024-05-13T17:52:43.684818Z"
    }
   },
   "outputs": [],
   "source": [
    "# try modelling using the difference\n",
    "y = train1[\"diff\"]\n",
    "x = train1[\n",
    "    [\n",
    "        \"signal_count\",\n",
    "        \"stop_count\",\n",
    "        \"crossing_count\",\n",
    "        \"give_way_count\",\n",
    "        \"mini_roundabout_count\",\n",
    "        \"left_count\",\n",
    "        \"slight_left_count\",\n",
    "        \"right_count\",\n",
    "        \"slight_right_count\",\n",
    "        \"u_count\",\n",
    "    ]\n",
    "]\n",
    "y_test = test1[\"diff\"]\n",
    "x_test = test1[\n",
    "    [\n",
    "        \"signal_count\",\n",
    "        \"stop_count\",\n",
    "        \"crossing_count\",\n",
    "        \"give_way_count\",\n",
    "        \"mini_roundabout_count\",\n",
    "        \"left_count\",\n",
    "        \"slight_left_count\",\n",
    "        \"right_count\",\n",
    "        \"slight_right_count\",\n",
    "        \"u_count\",\n",
    "    ]\n",
    "]"
   ]
  },
  {
   "cell_type": "code",
   "execution_count": null,
   "id": "79e6e6ddbd0c5348",
   "metadata": {
    "ExecuteTime": {
     "end_time": "2024-05-13T17:52:51.556543Z",
     "start_time": "2024-05-13T17:52:44.535707Z"
    }
   },
   "outputs": [],
   "source": [
    "regressor = RandomForestRegressor(random_state=123)\n",
    "regressor.fit(x, y)"
   ]
  },
  {
   "cell_type": "code",
   "execution_count": null,
   "id": "665a022ef0210c28",
   "metadata": {
    "ExecuteTime": {
     "end_time": "2024-05-13T17:52:51.804518Z",
     "start_time": "2024-05-13T17:52:51.558475Z"
    }
   },
   "outputs": [],
   "source": [
    "predictions = regressor.predict(x_test)"
   ]
  },
  {
   "cell_type": "code",
   "execution_count": null,
   "id": "c927312bc49a495f",
   "metadata": {
    "ExecuteTime": {
     "end_time": "2024-05-13T17:52:51.814431Z",
     "start_time": "2024-05-13T17:52:51.806983Z"
    }
   },
   "outputs": [],
   "source": [
    "Errors = abs(predictions - y_test)\n",
    "print(\"Average baseline error:\", round(np.mean(Errors), 3), \" seconds\")"
   ]
  },
  {
   "cell_type": "code",
   "execution_count": null,
   "id": "1ea292935c2ff165",
   "metadata": {
    "ExecuteTime": {
     "end_time": "2024-05-13T17:52:51.825003Z",
     "start_time": "2024-05-13T17:52:51.817989Z"
    }
   },
   "outputs": [],
   "source": [
    "# Evaluating the model\n",
    "mse = mean_squared_error(y_test, predictions)\n",
    "print(f\"Mean Squared Error: {mse}\")\n",
    "\n",
    "r2 = r2_score(y_test, predictions)\n",
    "print(f\"R-squared: {r2}\")"
   ]
  },
  {
   "cell_type": "markdown",
   "id": "cba509e5a0e9a248",
   "metadata": {},
   "source": [
    "### It is a lot worse than modelling the google travel time, so we abandon the model that use the difference as the dependent variable"
   ]
  },
  {
   "cell_type": "markdown",
   "id": "513753c6989ce219",
   "metadata": {
    "collapsed": false
   },
   "source": [
    "## Hyper tuning of random forest regression"
   ]
  },
  {
   "cell_type": "code",
   "execution_count": null,
   "id": "7b0c03fd86b9f87c",
   "metadata": {
    "ExecuteTime": {
     "end_time": "2024-05-13T17:53:26.047197Z",
     "start_time": "2024-05-13T17:53:26.044611Z"
    }
   },
   "outputs": [],
   "source": [
    "regressor = RandomForestRegressor(random_state=123)"
   ]
  },
  {
   "cell_type": "code",
   "execution_count": null,
   "id": "a4fd995b0787f1a8",
   "metadata": {
    "ExecuteTime": {
     "end_time": "2024-05-13T17:53:27.000356Z",
     "start_time": "2024-05-13T17:53:26.996870Z"
    }
   },
   "outputs": [],
   "source": [
    "print(\"Parameters currently in use:\\n\")\n",
    "pprint(regressor.get_params())"
   ]
  },
  {
   "cell_type": "code",
   "execution_count": null,
   "id": "df6b221ca34482a4",
   "metadata": {
    "ExecuteTime": {
     "end_time": "2024-05-13T17:53:32.783323Z",
     "start_time": "2024-05-13T17:53:32.777688Z"
    }
   },
   "outputs": [],
   "source": [
    "# Create and randomized grid of hyper parameters\n",
    "# Number of trees in random forest\n",
    "n_estimators = [int(x) for x in np.linspace(start=100, stop=1000, num=10)]\n",
    "# Number of features to consider at every split\n",
    "max_features = [\"sqrt\", \"log2\", None]\n",
    "# Maximum number of levels in tree\n",
    "max_depth = [int(x) for x in np.linspace(10, 110, num=11)]\n",
    "max_depth.append(None)\n",
    "# Minimum number of samples required to split a node\n",
    "min_samples_split = [2, 5, 10, None]\n",
    "# Minimum number of samples required at each leaf node\n",
    "min_samples_leaf = [1, 2, 4]\n",
    "# Method of selecting samples for training each tree\n",
    "bootstrap = [True, False]\n",
    "# Create the random grid\n",
    "random_grid = {\n",
    "    \"n_estimators\": n_estimators,\n",
    "    \"max_features\": max_features,\n",
    "    \"max_depth\": max_depth,\n",
    "    \"min_samples_split\": min_samples_split,\n",
    "    \"bootstrap\": bootstrap,\n",
    "}\n",
    "pprint(random_grid)"
   ]
  },
  {
   "cell_type": "code",
   "execution_count": null,
   "id": "2a3c0b4257d75a97",
   "metadata": {
    "ExecuteTime": {
     "end_time": "2024-05-13T17:53:39.975039Z",
     "start_time": "2024-05-13T17:53:39.965285Z"
    }
   },
   "outputs": [],
   "source": [
    "train_labels = train1[\"duration\"]\n",
    "train_features = train1[\n",
    "    [\n",
    "        \"signal_count\",\n",
    "        \"stop_count\",\n",
    "        \"crossing_count\",\n",
    "        \"give_way_count\",\n",
    "        \"mini_roundabout_count\",\n",
    "        \"left_count\",\n",
    "        \"slight_left_count\",\n",
    "        \"right_count\",\n",
    "        \"slight_right_count\",\n",
    "        \"u_count\",\n",
    "        \"travel_time\",\n",
    "    ]\n",
    "]\n",
    "test_features = test1[\n",
    "    [\n",
    "        \"signal_count\",\n",
    "        \"stop_count\",\n",
    "        \"crossing_count\",\n",
    "        \"give_way_count\",\n",
    "        \"mini_roundabout_count\",\n",
    "        \"left_count\",\n",
    "        \"slight_left_count\",\n",
    "        \"right_count\",\n",
    "        \"slight_right_count\",\n",
    "        \"u_count\",\n",
    "        \"travel_time\",\n",
    "    ]\n",
    "]\n",
    "test_labels = test1[\"duration\"]"
   ]
  },
  {
   "cell_type": "code",
   "execution_count": null,
   "id": "615832efbafa7ddd",
   "metadata": {
    "ExecuteTime": {
     "end_time": "2024-05-14T08:02:52.189709Z",
     "start_time": "2024-05-13T17:53:41.433777Z"
    }
   },
   "outputs": [],
   "source": [
    "# Use the random grid to search for best hyperparameters\n",
    "# First create the base model to tune\n",
    "rf = RandomForestRegressor(random_state=123)\n",
    "# Random search of parameters, using 5 fold cross validation,\n",
    "# search across 100 different combinations, and use all available cores\n",
    "rf_random = GridSearchCV(\n",
    "    estimator=rf,\n",
    "    param_grid=random_grid,\n",
    "    scoring=\"neg_mean_absolute_error\",\n",
    "    cv=5,\n",
    "    verbose=2,\n",
    "    n_jobs=-1,\n",
    "    return_train_score=True,\n",
    ")\n",
    "\n",
    "# Fit the random search model\n",
    "rf_random.fit(train_features, train_labels);"
   ]
  },
  {
   "cell_type": "code",
   "execution_count": null,
   "id": "32cd9d986c0c54a7",
   "metadata": {
    "ExecuteTime": {
     "end_time": "2024-05-15T08:15:28.489585Z",
     "start_time": "2024-05-15T08:15:28.341904Z"
    }
   },
   "outputs": [],
   "source": [
    "rf_random.cv_results_"
   ]
  },
  {
   "cell_type": "code",
   "execution_count": null,
   "id": "22e11ae1ae366f54",
   "metadata": {
    "ExecuteTime": {
     "end_time": "2024-05-15T08:20:21.552674Z",
     "start_time": "2024-05-15T08:20:21.545588Z"
    }
   },
   "outputs": [],
   "source": [
    "param_accuracy = pd.concat(\n",
    "    [\n",
    "        pd.DataFrame(rf_random.cv_results_[\"params\"]),\n",
    "        pd.DataFrame(rf_random.cv_results_[\"mean_test_score\"], columns=[\"Accuracy\"]),\n",
    "    ],\n",
    "    axis=1,\n",
    ")"
   ]
  },
  {
   "cell_type": "code",
   "execution_count": null,
   "id": "cd3c886118b8f214",
   "metadata": {
    "ExecuteTime": {
     "end_time": "2024-05-15T08:33:26.389246Z",
     "start_time": "2024-05-15T08:33:26.377166Z"
    }
   },
   "outputs": [],
   "source": [
    "param_accuracy"
   ]
  },
  {
   "cell_type": "code",
   "execution_count": null,
   "id": "c930b32fdad15d13",
   "metadata": {
    "ExecuteTime": {
     "end_time": "2024-05-15T18:18:34.674005Z",
     "start_time": "2024-05-15T18:18:34.664412Z"
    }
   },
   "outputs": [],
   "source": [
    "param_accuracy[\n",
    "    (param_accuracy[\"n_estimators\"] == 600)\n",
    "    & (param_accuracy[\"min_samples_split\"] == 2.0)\n",
    "    & (param_accuracy[\"max_depth\"] == 10)\n",
    "]"
   ]
  },
  {
   "cell_type": "code",
   "execution_count": null,
   "id": "95d59106ca4cda77",
   "metadata": {
    "ExecuteTime": {
     "end_time": "2024-05-15T08:36:47.800127Z",
     "start_time": "2024-05-15T08:36:47.788585Z"
    }
   },
   "outputs": [],
   "source": [
    "param_accuracy[\n",
    "    (param_accuracy[\"n_estimators\"] == 100)\n",
    "    & (param_accuracy[\"min_samples_split\"] == 2.0)\n",
    "    & (param_accuracy[\"max_depth\"].isna())\n",
    "]"
   ]
  },
  {
   "cell_type": "code",
   "execution_count": null,
   "id": "21414bd4fabcb703",
   "metadata": {
    "ExecuteTime": {
     "end_time": "2024-05-15T08:32:31.429946Z",
     "start_time": "2024-05-15T08:32:31.419371Z"
    }
   },
   "outputs": [],
   "source": [
    "param_accuracy[\n",
    "    (param_accuracy[\"n_estimators\"] == 1000)\n",
    "    & (param_accuracy[\"min_samples_split\"] == 5.0)\n",
    "    & (param_accuracy[\"max_depth\"] == 10.0)\n",
    "    & (param_accuracy[\"bootstrap\"] == True)\n",
    "]"
   ]
  },
  {
   "cell_type": "code",
   "execution_count": null,
   "id": "3930d66626ac64ee",
   "metadata": {
    "ExecuteTime": {
     "end_time": "2024-05-15T08:31:43.773024Z",
     "start_time": "2024-05-15T08:31:43.764824Z"
    }
   },
   "outputs": [],
   "source": [
    "param_accuracy[\"max_depth\"].value_counts()"
   ]
  },
  {
   "cell_type": "code",
   "execution_count": null,
   "id": "dc5523a43c645b0f",
   "metadata": {
    "ExecuteTime": {
     "end_time": "2024-05-15T08:20:46.422440Z",
     "start_time": "2024-05-15T08:20:46.400994Z"
    }
   },
   "outputs": [],
   "source": [
    "param_accuracy.to_csv(\n",
    "    output_file_path + \"result0331/\" + \"param_accuracy_completegridsearch_0514.csv\",\n",
    ")"
   ]
  },
  {
   "cell_type": "code",
   "execution_count": null,
   "id": "dd6159932f061ba2",
   "metadata": {
    "ExecuteTime": {
     "end_time": "2024-05-13T02:08:44.897367Z",
     "start_time": "2024-05-13T02:08:44.876841Z"
    }
   },
   "outputs": [],
   "source": [
    "# Use the random grid to search for best hyperparameters\n",
    "# First create the base model to tune\n",
    "rf = RandomForestRegressor(random_state=123)\n",
    "# Random search of parameters, using 5 fold cross validation,\n",
    "# search across 100 different combinations, and use all available cores\n",
    "rf_random = GridSearchCV(\n",
    "    estimator=rf,\n",
    "    param_distributions=random_grid,\n",
    "    n_iter=100,\n",
    "    scoring=\"neg_mean_absolute_error\",\n",
    "    cv=5,\n",
    "    verbose=2,\n",
    "    random_state=123,\n",
    "    n_jobs=-1,\n",
    "    return_train_score=True,\n",
    ")\n",
    "\n",
    "# Fit the random search model\n",
    "rf_random.fit(train_features, train_labels);"
   ]
  },
  {
   "cell_type": "code",
   "execution_count": null,
   "id": "a21622c68cb285e5",
   "metadata": {
    "ExecuteTime": {
     "end_time": "2024-05-14T08:08:44.104894Z",
     "start_time": "2024-05-14T08:08:44.100983Z"
    }
   },
   "outputs": [],
   "source": [
    "# the best hyper parameters\n",
    "rf_random.best_params_"
   ]
  },
  {
   "cell_type": "code",
   "execution_count": null,
   "id": "52fa78142323cc68",
   "metadata": {
    "ExecuteTime": {
     "end_time": "2024-05-14T08:05:08.173989Z",
     "start_time": "2024-05-14T08:05:08.170092Z"
    }
   },
   "outputs": [],
   "source": [
    "def evaluate(model, test_features, test_labels):\n",
    "    predictions = model.predict(test_features)\n",
    "    errors = abs(predictions - test_labels)\n",
    "    mape = 100 * np.mean(errors / test_labels)\n",
    "    accuracy = 100 - mape\n",
    "    print(\"Model Performance\")\n",
    "    print(f\"Average Error: {np.mean(errors):0.4f} seconds.\")\n",
    "    print(f\"Accuracy = {accuracy:0.2f}%.\")\n",
    "\n",
    "    return accuracy"
   ]
  },
  {
   "cell_type": "code",
   "execution_count": null,
   "id": "eb84ef8eb6ff173a",
   "metadata": {
    "ExecuteTime": {
     "end_time": "2024-05-14T08:05:28.306937Z",
     "start_time": "2024-05-14T08:05:17.012053Z"
    }
   },
   "outputs": [],
   "source": [
    "base_model = RandomForestRegressor(n_estimators=100, random_state=123)\n",
    "base_model.fit(train_features, train_labels)\n",
    "base_accuracy = evaluate(base_model, test_features, test_labels)"
   ]
  },
  {
   "cell_type": "code",
   "execution_count": null,
   "id": "93e13c4f3f59a418",
   "metadata": {
    "ExecuteTime": {
     "end_time": "2024-05-14T08:15:22.116026Z",
     "start_time": "2024-05-14T08:14:31.538483Z"
    }
   },
   "outputs": [],
   "source": [
    "best_random = RandomForestRegressor(\n",
    "    n_estimators=1000,\n",
    "    random_state=123,\n",
    "    min_samples_split=10,\n",
    "    max_features=None,\n",
    "    max_depth=10,\n",
    "    bootstrap=True,\n",
    ")\n",
    "best_random.fit(train_features, train_labels)\n",
    "random_accuracy = evaluate(best_random, test_features, test_labels)"
   ]
  },
  {
   "cell_type": "code",
   "execution_count": null,
   "id": "ea5de8261832e91a",
   "metadata": {
    "ExecuteTime": {
     "end_time": "2024-05-14T08:10:23.175163Z",
     "start_time": "2024-05-14T08:10:22.260076Z"
    }
   },
   "outputs": [],
   "source": [
    "predictions = best_random.predict(test_features)\n",
    "# Evaluating the model\n",
    "mse = mean_squared_error(test_labels, predictions)\n",
    "print(f\"Mean Squared Error: {mse}\")\n",
    "r2 = r2_score(y_test, predictions)\n",
    "print(f\"R-squared: {r2}\")"
   ]
  },
  {
   "cell_type": "code",
   "execution_count": null,
   "id": "5fdf662f63aa93a2",
   "metadata": {
    "ExecuteTime": {
     "end_time": "2024-05-14T08:10:42.782718Z",
     "start_time": "2024-05-14T08:10:41.893386Z"
    }
   },
   "outputs": [],
   "source": [
    "test1[\"best_rf_predict\"] = best_random.predict(test_features)"
   ]
  },
  {
   "cell_type": "code",
   "execution_count": null,
   "id": "4c9c9e376cc6ede1",
   "metadata": {
    "ExecuteTime": {
     "end_time": "2024-05-14T08:13:51.271630Z",
     "start_time": "2024-05-14T08:13:51.266677Z"
    }
   },
   "outputs": [],
   "source": [
    "# t-test\n",
    "stats.ttest_rel(test1[\"best_rf_predict\"], test_labels)"
   ]
  },
  {
   "cell_type": "code",
   "execution_count": null,
   "id": "2ce7f7b9a4efdc29",
   "metadata": {
    "ExecuteTime": {
     "end_time": "2024-05-14T08:11:05.167478Z",
     "start_time": "2024-05-14T08:11:03.313909Z"
    }
   },
   "outputs": [],
   "source": [
    "# save to csv\n",
    "test1.to_csv(output_file_path + \"result0331/\" + \"test1_best_rf_predict0514.csv\")"
   ]
  },
  {
   "cell_type": "code",
   "execution_count": null,
   "id": "b376c1386220ae0",
   "metadata": {
    "ExecuteTime": {
     "end_time": "2024-05-15T09:05:42.670931Z",
     "start_time": "2024-05-15T09:05:42.654062Z"
    }
   },
   "outputs": [],
   "source": [
    "res = sm.OLS(endog=test1[\"duration\"], exog=test1[[\"best_rf_predict\"]]).fit()\n",
    "print(res.summary())"
   ]
  },
  {
   "cell_type": "code",
   "execution_count": null,
   "id": "a5321ef266c69e7e",
   "metadata": {
    "ExecuteTime": {
     "end_time": "2024-05-15T09:33:07.645023Z",
     "start_time": "2024-05-15T09:33:07.640365Z"
    }
   },
   "outputs": [],
   "source": [
    "r2_score(test1[\"duration\"], test1[\"best_rf_predict\"])"
   ]
  },
  {
   "cell_type": "code",
   "execution_count": null,
   "id": "c4790b21a4a7233b",
   "metadata": {
    "ExecuteTime": {
     "end_time": "2024-05-15T09:07:58.277570Z",
     "start_time": "2024-05-15T09:07:58.258736Z"
    }
   },
   "outputs": [],
   "source": [
    "response = \"duration\"\n",
    "predictors = [\"best_rf_predict\"]\n",
    "data = test1[[response] + predictors].dropna()\n",
    "X = data[predictors]\n",
    "y = data[response]\n",
    "model1 = sm.OLS(y, sm.add_constant(X))\n",
    "result1 = model1.fit()\n",
    "print(result1.summary())"
   ]
  },
  {
   "cell_type": "code",
   "execution_count": null,
   "id": "c1ac87b8301f0cde",
   "metadata": {},
   "outputs": [],
   "source": []
  }
 ],
 "metadata": {
  "kernelspec": {
   "display_name": "Python 3",
   "language": "python",
   "name": "python3"
  },
  "language_info": {
   "codemirror_mode": {
    "name": "ipython",
    "version": 2
   },
   "file_extension": ".py",
   "mimetype": "text/x-python",
   "name": "python",
   "nbconvert_exporter": "python",
   "pygments_lexer": "ipython2",
   "version": "2.7.6"
  }
 },
 "nbformat": 4,
 "nbformat_minor": 5
}

{
 "cells": [
  {
   "cell_type": "code",
   "execution_count": null,
   "metadata": {
    "cellView": "form",
    "id": "qQ0kH_aBIRZF"
   },
   "outputs": [],
   "source": [
    "import collections\n",
    "import json\n",
    "from datetime import date, datetime, time\n",
    "from statistics import mean\n",
    "\n",
    "import geopandas as gpd\n",
    "import googlemaps\n",
    "import matplotlib.pyplot as plt\n",
    "import pandas as pd\n",
    "import seaborn as sns\n",
    "from shapely import wkt"
   ]
  },
  {
   "cell_type": "code",
   "execution_count": null,
   "metadata": {
    "id": "6ScOAaL4IWY-"
   },
   "outputs": [],
   "source": [
    "# import origin and destination data\n",
    "file_path = \"../Data/\"\n",
    "output_file_path = file_path + \"Output/\"\n",
    "\n",
    "origins = pd.read_csv(file_path + \"origins_gdf.csv\")\n",
    "destinations = pd.read_csv(file_path + \"destinations_gdf.csv\")"
   ]
  },
  {
   "cell_type": "code",
   "execution_count": null,
   "metadata": {
    "id": "JoLhtwqnIeeD"
   },
   "outputs": [],
   "source": [
    "# transform into geo dataframe\n",
    "origins[\"geometry\"] = origins[\"geometry\"].apply(wkt.loads)\n",
    "destinations[\"geometry\"] = destinations[\"geometry\"].apply(wkt.loads)\n",
    "origins = gpd.GeoDataFrame(origins, geometry=\"geometry\")\n",
    "destinations = gpd.GeoDataFrame(destinations, geometry=\"geometry\")"
   ]
  },
  {
   "cell_type": "code",
   "execution_count": null,
   "metadata": {},
   "outputs": [],
   "source": [
    "with open(file_path + \"config.json\") as config:\n",
    "    api_key = json.load(config)[\"api_key\"]\n",
    "gmaps = googlemaps.Client(key=api_key)"
   ]
  },
  {
   "cell_type": "code",
   "execution_count": null,
   "metadata": {
    "id": "tYIl0Q0yTDLw"
   },
   "outputs": [],
   "source": [
    "# extract origin and destination coordinates from the GeoDataFrames\n",
    "point_origins = origins.geometry.apply(lambda point: (point.y, point.x)).tolist()\n",
    "point_destinations = destinations.geometry.apply(lambda point: (point.y, point.x)).tolist()"
   ]
  },
  {
   "cell_type": "code",
   "execution_count": null,
   "metadata": {},
   "outputs": [],
   "source": [
    "od_pair_count = min(len(point_origins), len(point_destinations))\n",
    "sample_duration = {}"
   ]
  },
  {
   "cell_type": "code",
   "execution_count": null,
   "metadata": {},
   "outputs": [],
   "source": [
    "traffic_models = [\"durations\", \"best_guess\", \"pessimistic\", \"optimistic\"]\n",
    "\n",
    "\n",
    "def get_traffic_time_with_models(sample_date: datetime.date, start_hour=0, end_hour=23):\n",
    "    durations = {model: collections.defaultdict(list) for model in traffic_models}\n",
    "\n",
    "    for day_hour in range(start_hour, end_hour + 1):\n",
    "        # note: `distance_matrix` will convert to the current system timezone. colab timezone is UTC\n",
    "        # import time, time.tzname to check your timezone\n",
    "        dep_time = datetime.combine(sample_date, time(day_hour, 0))\n",
    "\n",
    "        for origin, destination in zip(point_origins, point_destinations, strict=False):\n",
    "            # get 'duration' and 'durations_in_traffic' from gmaps.distance_matrix.\n",
    "            duration_res_list = []\n",
    "            for model in traffic_models[1:]:\n",
    "                result = gmaps.distance_matrix(\n",
    "                    origins=origin,\n",
    "                    destinations=destination,\n",
    "                    mode=\"driving\",\n",
    "                    departure_time=dep_time,\n",
    "                    traffic_model=model,\n",
    "                )\n",
    "                duration_res = result[\"rows\"][0][\"elements\"][0][\"duration\"][\"value\"]\n",
    "                duration_res_list.append(duration_res)\n",
    "\n",
    "                durations_in_traffic_res = result[\"rows\"][0][\"elements\"][0][\"duration_in_traffic\"][\n",
    "                    \"value\"\n",
    "                ]\n",
    "                durations[model][day_hour].append(durations_in_traffic_res)\n",
    "\n",
    "            # check duration is the same among three different traffic model requests.\n",
    "            if len(set(duration_res_list)) != 1:\n",
    "                print(f\"duration not equal: {dep_time, origin, destination}\")\n",
    "            durations[\"durations\"][day_hour].append(mean(duration_res_list))\n",
    "    return durations"
   ]
  },
  {
   "cell_type": "code",
   "execution_count": null,
   "metadata": {},
   "outputs": [],
   "source": [
    "sample_weekday = date(2023, 10, 18)\n",
    "weekday_durations = get_traffic_time_with_models(sample_date=sample_weekday)\n",
    "sample_duration[sample_weekday] = weekday_durations"
   ]
  },
  {
   "cell_type": "code",
   "execution_count": null,
   "metadata": {},
   "outputs": [],
   "source": [
    "# visualize the travel time hot spot of different times of the day\n",
    "traffic_heatmap_weekday = pd.DataFrame.from_dict(weekday_durations[\"best_guess\"], orient=\"index\")\n",
    "plt.figure(figsize=(20, 10))\n",
    "sns.heatmap(traffic_heatmap_weekday, annot=True, cmap=\"YlGnBu\", linewidths=0.5)"
   ]
  },
  {
   "cell_type": "code",
   "execution_count": null,
   "metadata": {},
   "outputs": [],
   "source": [
    "sample_weekend = date(2023, 10, 21)\n",
    "weekend_duration = get_traffic_time_with_models(sample_date=date(2023, 10, 21))\n",
    "sample_duration[sample_weekend] = weekend_duration"
   ]
  },
  {
   "cell_type": "code",
   "execution_count": null,
   "metadata": {
    "colab": {
     "base_uri": "https://localhost:8080/",
     "height": 543
    },
    "id": "-BXqwlwCAJXC",
    "outputId": "bde4c0c7-6f5c-4211-d9d2-1257f54413fb"
   },
   "outputs": [],
   "source": [
    "traffic_heatmap_weekend = pd.DataFrame.from_dict(weekend_duration[\"best_guess\"], orient=\"index\")\n",
    "plt.figure(figsize=(20, 10))\n",
    "sns.heatmap(traffic_heatmap_weekend, annot=True, cmap=\"YlGnBu\", linewidths=0.5)"
   ]
  },
  {
   "cell_type": "code",
   "execution_count": null,
   "metadata": {},
   "outputs": [],
   "source": [
    "# save the results.\n",
    "\n",
    "for date in sample_duration:\n",
    "    for model in traffic_models:\n",
    "        file_name = output_file_path + date.strftime(\"%Y%m%d\") + \"_\" + model + \".csv\"\n",
    "        pd.DataFrame.from_dict(sample_duration[date][model], orient=\"index\").to_csv(file_name)"
   ]
  },
  {
   "cell_type": "markdown",
   "metadata": {
    "id": "Y0wdJIrMudF7"
   },
   "source": [
    "# Visualization"
   ]
  },
  {
   "cell_type": "code",
   "execution_count": null,
   "metadata": {},
   "outputs": [],
   "source": [
    "# draw function\n",
    "def draw_travel_time_with_different_models(df: pd.DataFrame, add_title=\"\"):\n",
    "    for od_pair_index in range(od_pair_count):\n",
    "        fig = plt.figure()\n",
    "        plt.xticks(range(24))\n",
    "        ax = sns.lineplot(\n",
    "            x=\"day_hour\",\n",
    "            y=\"duration\",\n",
    "            hue=\"traffic_model\",\n",
    "            data=df[df[\"od_pair\"] == od_pair_index],\n",
    "        )\n",
    "        ax.set_ylabel(\"travel time (minute)\")\n",
    "        ax.set_xlabel(\"time of day\")\n",
    "        ax.set_title(f\"OD Pair {od_pair_index}\" + add_title)"
   ]
  },
  {
   "cell_type": "markdown",
   "metadata": {
    "id": "DkBx1khwvU3o"
   },
   "source": [
    "## Visualization of different google api duration in traffic models"
   ]
  },
  {
   "cell_type": "code",
   "execution_count": null,
   "metadata": {},
   "outputs": [],
   "source": [
    "sample_duration_df = pd.DataFrame(\n",
    "    [\n",
    "        (date, model, day_hour, od_pair, duration)\n",
    "        for date in sample_duration\n",
    "        for model in traffic_models\n",
    "        for day_hour, res in sample_duration[date][model].items()\n",
    "        for od_pair, duration in enumerate(res)\n",
    "    ],\n",
    "    columns=[\"date\", \"traffic_model\", \"day_hour\", \"od_pair\", \"duration\"],\n",
    ")\n",
    "sample_duration_df"
   ]
  },
  {
   "cell_type": "code",
   "execution_count": null,
   "metadata": {
    "colab": {
     "base_uri": "https://localhost:8080/",
     "height": 1000
    },
    "id": "I8pvqIZQJc0b",
    "outputId": "7f9ea8e3-f846-495d-af7a-57dcb16a646d"
   },
   "outputs": [],
   "source": [
    "# visualize travel time throughout a weekday using different google API models\n",
    "draw_travel_time_with_different_models(\n",
    "    sample_duration_df[sample_duration_df[\"date\"] == sample_weekday],\n",
    "    \" weekday\",\n",
    ")"
   ]
  },
  {
   "cell_type": "code",
   "execution_count": null,
   "metadata": {
    "colab": {
     "base_uri": "https://localhost:8080/",
     "height": 1000
    },
    "id": "283HAP2PN6pp",
    "outputId": "f2461ef8-7947-49d8-e9a3-e4c33e6d4a4d"
   },
   "outputs": [],
   "source": [
    "draw_travel_time_with_different_models(\n",
    "    sample_duration_df[sample_duration_df[\"date\"] == sample_weekend],\n",
    "    \" weekend\",\n",
    ")"
   ]
  },
  {
   "cell_type": "markdown",
   "metadata": {
    "id": "-zkiBdKywBec"
   },
   "source": [
    "## Visualization between google travel time and our model result (traffic impediment and incorporating turn penalty in the routing)"
   ]
  },
  {
   "cell_type": "code",
   "execution_count": null,
   "metadata": {
    "id": "-lJvlVFXxLXr"
   },
   "outputs": [],
   "source": [
    "penalty_df = pd.read_csv(file_path + \"all_penalty_travel_time.csv\", names=[\"od_pair\", \"duration\"])\n",
    "penalty_df[\"traffic_model\"] = \"penalty_model\"\n",
    "penalty_df = penalty_df.merge(pd.Series(range(24), name=\"day_hour\"), how=\"cross\")"
   ]
  },
  {
   "cell_type": "code",
   "execution_count": null,
   "metadata": {},
   "outputs": [],
   "source": [
    "duration_df = sample_duration_df.copy()\n",
    "duration_df[\"weekday\"] = sample_duration_df.apply(\n",
    "    lambda row: \"weekday\" if row[\"date\"] == sample_weekday else \"weekend\",\n",
    "    axis=1,\n",
    ")\n",
    "all_df = pd.concat([penalty_df, duration_df], axis=0)\n",
    "all_df"
   ]
  },
  {
   "cell_type": "code",
   "execution_count": null,
   "metadata": {
    "colab": {
     "base_uri": "https://localhost:8080/",
     "height": 1000
    },
    "id": "iIGejIg1zsuu",
    "outputId": "8c645d52-007b-4468-dcc8-7e3dfdbe86b7"
   },
   "outputs": [],
   "source": [
    "selected_df = all_df[\n",
    "    all_df[\"traffic_model\"].isin([\"penalty_model\", \"durations\", \"best_guess\"])\n",
    "].copy()"
   ]
  },
  {
   "cell_type": "code",
   "execution_count": null,
   "metadata": {},
   "outputs": [],
   "source": [
    "for od_pair_index in range(od_pair_count):\n",
    "    df = selected_df[selected_df[\"od_pair\"] == od_pair_index]\n",
    "    fig = plt.figure()\n",
    "    plt.xticks(range(24))\n",
    "    ax = sns.lineplot(\n",
    "        x=\"day_hour\",\n",
    "        y=\"duration\",\n",
    "        hue=df[[\"traffic_model\", \"weekday\"]].apply(tuple, axis=1),\n",
    "        data=df,\n",
    "    )\n",
    "    ax.set_ylabel(\"travel time (minute)\")\n",
    "    ax.set_xlabel(\"time of day\")\n",
    "    ax.set_title(f\"OD Pair {od_pair_index}\")"
   ]
  }
 ],
 "metadata": {
  "colab": {
   "provenance": []
  },
  "kernelspec": {
   "display_name": "Python 3 (ipykernel)",
   "language": "python",
   "name": "python3"
  },
  "language_info": {
   "name": "python"
  }
 },
 "nbformat": 4,
 "nbformat_minor": 0
}

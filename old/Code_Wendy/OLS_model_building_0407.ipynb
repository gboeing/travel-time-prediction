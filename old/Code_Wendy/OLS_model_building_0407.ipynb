{
 "cells": [
  {
   "cell_type": "markdown",
   "id": "9b32017706d585bf",
   "metadata": {
    "collapsed": false
   },
   "source": [
    "# OLS Model Building for penalty estimation"
   ]
  },
  {
   "cell_type": "code",
   "execution_count": null,
   "id": "initial_id",
   "metadata": {},
   "outputs": [],
   "source": [
    "import pandas as pd\n",
    "import statsmodels.api as sm\n",
    "from sklearn.model_selection import train_test_split"
   ]
  },
  {
   "cell_type": "code",
   "execution_count": null,
   "id": "dc422e227c99475c",
   "metadata": {},
   "outputs": [],
   "source": [
    "# setting up file path\n",
    "file_path = \"../Data/\"\n",
    "output_file_path = file_path + \"Output/\""
   ]
  },
  {
   "cell_type": "code",
   "execution_count": null,
   "id": "ed12ac8153764bbf",
   "metadata": {},
   "outputs": [],
   "source": [
    "# import the dataframe with the result of freeflow travel time and routing\n",
    "ff_df = pd.read_csv(\n",
    "    output_file_path\n",
    "    + \"result0226/\"\n",
    "    + \"freeflow_OD3am_all_googlerouteapi_new_graph_new_turn_control_slight.csv\",\n",
    ")"
   ]
  },
  {
   "cell_type": "code",
   "execution_count": null,
   "id": "72c3223251e4a4d5",
   "metadata": {},
   "outputs": [],
   "source": [
    "# Import the result of google route api travel time\n",
    "gg_df_result_all = pd.read_csv(output_file_path + \"googlerouteapi2024allresult.csv\")"
   ]
  },
  {
   "cell_type": "code",
   "execution_count": null,
   "id": "3b9ac3ca9a3fe971",
   "metadata": {},
   "outputs": [],
   "source": [
    "# merge the freeflow travel time and google travel time into one dataframe\n",
    "df = ff_df.merge(gg_df_result_all, left_on=[\"oid\", \"did\"], right_on=[\"oid\", \"did\"])"
   ]
  },
  {
   "cell_type": "code",
   "execution_count": null,
   "id": "2f1bd889419fa71a",
   "metadata": {},
   "outputs": [],
   "source": [
    "# split the training and testing set\n",
    "train1, test1 = train_test_split(df, test_size=0.2, random_state=123)"
   ]
  },
  {
   "cell_type": "markdown",
   "id": "89123496e666856d",
   "metadata": {
    "collapsed": false
   },
   "source": [
    "## OLS Model 1: based on freeflow routing"
   ]
  },
  {
   "cell_type": "code",
   "execution_count": null,
   "id": "6a754cb755b3fe8e",
   "metadata": {},
   "outputs": [],
   "source": [
    "# model the difference between google travel time and edge freeflow traversal travel time\n",
    "train1[\"diff\"] = train1[\"duration\"] - train1[\"travel_time\"]"
   ]
  },
  {
   "cell_type": "code",
   "execution_count": null,
   "id": "89e6f041a1c25cc6",
   "metadata": {},
   "outputs": [],
   "source": [
    "# model all the traffic control and turn count to explain the difference between google travel time and edge freeflow traversal travel time\n",
    "res = sm.OLS(\n",
    "    endog=train1[\"diff\"],\n",
    "    exog=train1[\n",
    "        [\n",
    "            \"signal_count\",\n",
    "            \"stop_count\",\n",
    "            \"crossing_count\",\n",
    "            \"give_way_count\",\n",
    "            \"mini_roundabout_count\",\n",
    "            \"left_count\",\n",
    "            \"slight_left_count\",\n",
    "            \"right_count\",\n",
    "            \"slight_right_count\",\n",
    "            \"u_count\",\n",
    "        ]\n",
    "    ].assign(intercept=0),\n",
    ").fit()\n",
    "print(res.summary())"
   ]
  },
  {
   "cell_type": "code",
   "execution_count": null,
   "id": "c7444072ac05cea9",
   "metadata": {},
   "outputs": [],
   "source": [
    "# only include significant and positive coefficients\n",
    "res2 = sm.OLS(\n",
    "    endog=train1[\"diff\"],\n",
    "    exog=train1[\n",
    "        [\n",
    "            \"signal_count\",\n",
    "            \"stop_count\",\n",
    "            \"crossing_count\",\n",
    "            \"left_count\",\n",
    "            \"right_count\",\n",
    "            \"slight_right_count\",\n",
    "            \"u_count\",\n",
    "        ]\n",
    "    ].assign(intercept=0),\n",
    ").fit()\n",
    "print(res2.summary())"
   ]
  },
  {
   "cell_type": "code",
   "execution_count": null,
   "id": "3f5ebf313e338116",
   "metadata": {},
   "outputs": [],
   "source": [
    "# only include significant and positive coefficients, excluding slight right count\n",
    "res3 = sm.OLS(\n",
    "    endog=train1[\"diff\"],\n",
    "    exog=train1[\n",
    "        [\"signal_count\", \"stop_count\", \"crossing_count\", \"left_count\", \"right_count\", \"u_count\"]\n",
    "    ].assign(intercept=0),\n",
    ").fit()\n",
    "print(res3.summary())"
   ]
  },
  {
   "cell_type": "code",
   "execution_count": null,
   "id": "3772f84e959bd1f4",
   "metadata": {},
   "outputs": [],
   "source": [
    "# only include significant and positive coefficients, excluding slight right count and crossing count\n",
    "res4 = sm.OLS(\n",
    "    endog=train1[\"diff\"],\n",
    "    exog=train1[[\"signal_count\", \"stop_count\", \"left_count\", \"right_count\", \"u_count\"]].assign(\n",
    "        intercept=0,\n",
    "    ),\n",
    ").fit()\n",
    "print(res4.summary())"
   ]
  },
  {
   "cell_type": "code",
   "execution_count": null,
   "id": "e1d31fcc09056b04",
   "metadata": {},
   "outputs": [],
   "source": [
    "# include only turns\n",
    "res5 = sm.OLS(\n",
    "    endog=train1[\"diff\"],\n",
    "    exog=train1[\n",
    "        [\"left_count\", \"slight_left_count\", \"right_count\", \"slight_right_count\", \"u_count\"]\n",
    "    ].assign(intercept=0),\n",
    ").fit()\n",
    "print(res5.summary())"
   ]
  },
  {
   "cell_type": "markdown",
   "id": "e1422b337315c4bc",
   "metadata": {
    "collapsed": false
   },
   "source": [
    "## OLS Revised Model 1: Re-estimate the OLS model based on the routing result based on the coefficient estimated by the OLS models above\n"
   ]
  },
  {
   "cell_type": "markdown",
   "id": "f383d38afe5da76d",
   "metadata": {
    "collapsed": false
   },
   "source": [
    "### Use the coefficient of only turns in model 1 to run the penalized routing (using OD_pairs_time_distance_uber_routes_0224.py)"
   ]
  },
  {
   "cell_type": "code",
   "execution_count": null,
   "id": "282381b1264aac22",
   "metadata": {},
   "outputs": [],
   "source": [
    "# Import the result\n",
    "p_df2 = pd.read_csv(\n",
    "    output_file_path\n",
    "    + \"result0319parsimonious/\"\n",
    "    + \"penalized_OD3am_all_googlerouteapi_model1_parsi.csv\",\n",
    ")"
   ]
  },
  {
   "cell_type": "code",
   "execution_count": null,
   "id": "97510deda5b942ea",
   "metadata": {},
   "outputs": [],
   "source": [
    "# merge with Google travel time into one dataframe\n",
    "df2 = p_df2.merge(gg_df_result_all, left_on=[\"oid\", \"did\"], right_on=[\"oid\", \"did\"])"
   ]
  },
  {
   "cell_type": "code",
   "execution_count": null,
   "id": "6bee87ae19139bfb",
   "metadata": {},
   "outputs": [],
   "source": [
    "# split the training and testing set\n",
    "train2, test2 = train_test_split(df2, test_size=0.2, random_state=123)"
   ]
  },
  {
   "cell_type": "markdown",
   "id": "21803eb664a0c12c",
   "metadata": {
    "collapsed": false
   },
   "source": [
    "## OLS Revised Model 2\n"
   ]
  },
  {
   "cell_type": "code",
   "execution_count": null,
   "id": "22e6a7b606f6a90c",
   "metadata": {},
   "outputs": [],
   "source": [
    "train2[\"diff\"] = train2[\"duration\"] - train2[\"total_time_with_turn_penalty\"]"
   ]
  },
  {
   "cell_type": "code",
   "execution_count": null,
   "id": "57c0fab4309f70ae",
   "metadata": {},
   "outputs": [],
   "source": [
    "res6 = sm.OLS(\n",
    "    endog=train2[\"diff\"],\n",
    "    exog=train2[\n",
    "        [\"left_count\", \"slight_left_count\", \"right_count\", \"slight_right_count\", \"u_count\"]\n",
    "    ].assign(intercept=0),\n",
    ").fit()\n",
    "print(res6.summary())"
   ]
  },
  {
   "cell_type": "markdown",
   "id": "a4efad975e5d5409",
   "metadata": {
    "collapsed": false
   },
   "source": [
    "\n",
    "### Add the significant coefficients in new revised model 2 to the previous penalties in model 1 and run the penalized routing (using OD_pairs_time_distance_uber_routes_0224.py)\n",
    "\n"
   ]
  },
  {
   "cell_type": "code",
   "execution_count": null,
   "id": "70e219efa72a3b61",
   "metadata": {},
   "outputs": [],
   "source": [
    "p_df3 = pd.read_csv(\n",
    "    output_file_path\n",
    "    + \"result0319parsimonious/\"\n",
    "    + \"penalized_OD3am_all_googlerouteapi_model2_parsi.csv\",\n",
    ")"
   ]
  },
  {
   "cell_type": "code",
   "execution_count": null,
   "id": "e69942a834ee1acb",
   "metadata": {},
   "outputs": [],
   "source": [
    "# merge with google travel time into one dataframe\n",
    "df3 = p_df3.merge(gg_df_result_all, left_on=[\"oid\", \"did\"], right_on=[\"oid\", \"did\"])\n",
    "# split the training and testing set\n",
    "train3, test3 = train_test_split(df3, test_size=0.2, random_state=123)"
   ]
  },
  {
   "cell_type": "markdown",
   "id": "5fb990348dd3194a",
   "metadata": {
    "collapsed": false
   },
   "source": [
    "## OLS Revised Model 2"
   ]
  },
  {
   "cell_type": "code",
   "execution_count": null,
   "id": "dc924615372f56dc",
   "metadata": {},
   "outputs": [],
   "source": [
    "train3[\"diff\"] = train3[\"duration\"] - train3[\"total_time_with_turn_penalty\"]"
   ]
  },
  {
   "cell_type": "code",
   "execution_count": null,
   "id": "bcc6b700261377b1",
   "metadata": {},
   "outputs": [],
   "source": [
    "res7 = sm.OLS(\n",
    "    endog=train3[\"diff\"],\n",
    "    exog=train3[\n",
    "        [\"left_count\", \"slight_left_count\", \"right_count\", \"slight_right_count\", \"u_count\"]\n",
    "    ].assign(intercept=0),\n",
    ").fit()\n",
    "print(res4.summary())"
   ]
  }
 ],
 "metadata": {
  "kernelspec": {
   "display_name": "Python 3",
   "language": "python",
   "name": "python3"
  },
  "language_info": {
   "codemirror_mode": {
    "name": "ipython",
    "version": 2
   },
   "file_extension": ".py",
   "mimetype": "text/x-python",
   "name": "python",
   "nbconvert_exporter": "python",
   "pygments_lexer": "ipython2",
   "version": "2.7.6"
  }
 },
 "nbformat": 4,
 "nbformat_minor": 5
}

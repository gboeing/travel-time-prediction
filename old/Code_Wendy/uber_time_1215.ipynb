{
 "cells": [
  {
   "cell_type": "code",
   "execution_count": null,
   "id": "initial_id",
   "metadata": {},
   "outputs": [],
   "source": [
    "import matplotlib.pyplot as plt\n",
    "import pandas as pd\n",
    "import seaborn as sns"
   ]
  },
  {
   "cell_type": "code",
   "execution_count": null,
   "id": "481a6ce5b8f2dee9",
   "metadata": {},
   "outputs": [],
   "source": [
    "file_path = \"../Data/\"\n",
    "output_file_path = file_path + \"Output/\""
   ]
  },
  {
   "cell_type": "markdown",
   "id": "cf4f676079bee51f",
   "metadata": {
    "collapsed": false
   },
   "source": [
    "## Attach uber time and hour of day information to the sampled 119w OD pairs that have reference in 2022 uber movement data"
   ]
  },
  {
   "cell_type": "code",
   "execution_count": null,
   "id": "667b134867539dd3",
   "metadata": {},
   "outputs": [],
   "source": [
    "# Import all the sampled OD pairs that have reference in the 2020 uber movement\n",
    "all_uber = pd.read_csv(output_file_path + \"OD_pairs_uber_all_strongly_119w.csv\")"
   ]
  },
  {
   "cell_type": "code",
   "execution_count": null,
   "id": "97e99e180daf29db",
   "metadata": {},
   "outputs": [],
   "source": [
    "# deduplicate\n",
    "uber_dedup = all_uber.drop_duplicates(subset=[\"oid\", \"did\"], keep=\"first\")"
   ]
  },
  {
   "cell_type": "code",
   "execution_count": null,
   "id": "75a2c560ee5c3606",
   "metadata": {},
   "outputs": [],
   "source": [
    "# import uber 2020 travel time\n",
    "uber_2020 = pd.read_csv(\n",
    "    file_path + \"los_angeles-censustracts-2020-1-All-HourlyAggregate.csv\",\n",
    "    dtype={\"sourceid\": float, \"dstid\": float},\n",
    ")"
   ]
  },
  {
   "cell_type": "code",
   "execution_count": null,
   "id": "42d712daae39259f",
   "metadata": {},
   "outputs": [],
   "source": [
    "uber_2020[\"uber_OD\"] = list(zip(uber_2020.sourceid, uber_2020.dstid, strict=False))"
   ]
  },
  {
   "cell_type": "code",
   "execution_count": null,
   "id": "9fd96fa7b8cc2dbf",
   "metadata": {},
   "outputs": [],
   "source": [
    "uber_2020[\"uber_OD\"] = uber_2020[\"uber_OD\"].astype(str)\n",
    "uber_dedup[\"uber_OD\"] = uber_dedup[\"uber_OD\"].astype(str)"
   ]
  },
  {
   "cell_type": "code",
   "execution_count": null,
   "id": "180af1a69c28fe21",
   "metadata": {},
   "outputs": [],
   "source": [
    "# Merge sampled OD pairs with uber movement travel time result\n",
    "uber_dedup_merge = uber_dedup.merge(uber_2020, how=\"left\", on=\"uber_OD\")"
   ]
  },
  {
   "cell_type": "code",
   "execution_count": null,
   "id": "8fb2aec89e304ee7",
   "metadata": {},
   "outputs": [],
   "source": [
    "# Visualize the number of sampled OD pairs by hour of day with uber movement travel time\n",
    "plt.figure(figsize=(12, 6))\n",
    "ax = sns.histplot(data=uber_dedup_merge, x=\"hod\", stat=\"count\", discrete=True)\n",
    "for p in ax.patches:\n",
    "    ax.text(\n",
    "        p.get_x() + p.get_width() / 2,\n",
    "        p.get_height(),\n",
    "        f\"{int(p.get_height())}\",\n",
    "        ha=\"center\",\n",
    "        va=\"bottom\",\n",
    "        size=\"x-small\",\n",
    "        color=\"b\",\n",
    "        weight=\"semibold\",\n",
    "    )\n",
    "plt.title(\"Number of observations by hour of day of all sampled OD pairs\")\n",
    "bins = range(24)\n",
    "plt.xticks(bins)\n",
    "plt.ylabel(\"Number of Observations\")\n",
    "plt.xlabel(\"hour of the day\")"
   ]
  },
  {
   "cell_type": "code",
   "execution_count": null,
   "id": "7c2698e652c22acf",
   "metadata": {},
   "outputs": [],
   "source": [
    "# If an OD pairs have multiple hour of day travel time, sample one hour of day\n",
    "uber_dedup_merge_sample = (\n",
    "    uber_dedup_merge.groupby([\"oid\", \"did\"])\n",
    "    .apply(lambda x: x.sample(1, random_state=123))\n",
    "    .reset_index(drop=True)\n",
    ")"
   ]
  },
  {
   "cell_type": "code",
   "execution_count": null,
   "id": "3d6ab8fd61e39285",
   "metadata": {},
   "outputs": [],
   "source": [
    "# Save it to csv\n",
    "uber_dedup_merge_sample.to_csv(output_file_path + \"uber_dedup_hod_119w.csv\")"
   ]
  },
  {
   "cell_type": "markdown",
   "id": "a5e8c5bceacec582",
   "metadata": {
    "collapsed": false
   },
   "source": [
    "## Sample 10,000 3am OD pairs"
   ]
  },
  {
   "cell_type": "code",
   "execution_count": null,
   "id": "910c4cac222cf17c",
   "metadata": {},
   "outputs": [],
   "source": [
    "df = pd.read_csv(output_file_path + \"uber_dedup_hod_119w.csv\")"
   ]
  },
  {
   "cell_type": "code",
   "execution_count": null,
   "id": "98195a7b4d00e03b",
   "metadata": {},
   "outputs": [],
   "source": [
    "df3am = df[df[\"hod\"] == 3]\n",
    "df3am_10000 = df3am.sample(10000, random_state=123).copy()\n",
    "df3am_10000.to_csv(output_file_path + \"OD3am_10000.csv\")"
   ]
  },
  {
   "cell_type": "code",
   "execution_count": null,
   "id": "f62f6f7cfdf23d10",
   "metadata": {},
   "outputs": [],
   "source": [
    "new_df3am = df3am.drop(df3am_10000.index)\n",
    "new_df3am_10000 = new_df3am.sample(10000, random_state=123).copy()\n",
    "new_df3am_10000.to_csv(output_file_path + \"OD3am_10000_addon.csv\")"
   ]
  },
  {
   "cell_type": "code",
   "execution_count": null,
   "id": "7684f22aef5c76b7",
   "metadata": {},
   "outputs": [],
   "source": [
    "frames = [df3am_10000, new_df3am_10000]\n",
    "combined_df = pd.concat(frames)"
   ]
  },
  {
   "cell_type": "code",
   "execution_count": null,
   "id": "ecf67b43edd6ba9b",
   "metadata": {},
   "outputs": [],
   "source": [
    "combined_df.to_csv(output_file_path + \"OD3am_20000.csv\")"
   ]
  }
 ],
 "metadata": {
  "kernelspec": {
   "display_name": "Python 3",
   "language": "python",
   "name": "python3"
  },
  "language_info": {
   "codemirror_mode": {
    "name": "ipython",
    "version": 2
   },
   "file_extension": ".py",
   "mimetype": "text/x-python",
   "name": "python",
   "nbconvert_exporter": "python",
   "pygments_lexer": "ipython2",
   "version": "2.7.6"
  }
 },
 "nbformat": 4,
 "nbformat_minor": 5
}

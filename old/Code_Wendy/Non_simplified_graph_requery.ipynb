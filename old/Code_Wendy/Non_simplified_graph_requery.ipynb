{
 "cells": [
  {
   "cell_type": "code",
   "execution_count": null,
   "id": "initial_id",
   "metadata": {},
   "outputs": [],
   "source": [
    "import geopandas as gpd\n",
    "import osmnx as ox"
   ]
  },
  {
   "cell_type": "code",
   "execution_count": null,
   "id": "5570d4f28d3bbca9",
   "metadata": {},
   "outputs": [],
   "source": [
    "# include the tag we need\n",
    "ox.utils.config(\n",
    "    useful_tags_node=[\n",
    "        \"ref\",\n",
    "        \"highway\",\n",
    "        \"traffic_signals:direction\",\n",
    "        \"direction\",\n",
    "        \"crossing\",\n",
    "        \"stop\",\n",
    "        \"stop:direction\",\n",
    "    ],\n",
    ")"
   ]
  },
  {
   "cell_type": "code",
   "execution_count": null,
   "id": "6396f95b06929b3c",
   "metadata": {},
   "outputs": [],
   "source": [
    "utn = ox.settings.useful_tags_node\n",
    "utn"
   ]
  },
  {
   "cell_type": "code",
   "execution_count": null,
   "id": "43224ce62d055254",
   "metadata": {},
   "outputs": [],
   "source": [
    "file_path = \"../Data/\"\n",
    "output_file_path = file_path + \"Output/\""
   ]
  },
  {
   "cell_type": "markdown",
   "id": "dc367bc782c8f9ed",
   "metadata": {
    "collapsed": false
   },
   "source": [
    "# Import human settlement shapefile from GHS UCDB\n",
    "Source: GHS Urban Centre Database 2015\n",
    "https://ghsl.jrc.ec.europa.eu/download.php?ds=ucdb "
   ]
  },
  {
   "cell_type": "code",
   "execution_count": null,
   "id": "a2268bfa1bf253dc",
   "metadata": {},
   "outputs": [],
   "source": [
    "UCDB_gdf = gpd.read_file(file_path + \"GHS_STAT_UCDB2015MT_GLOBE_R2019A_V1_2.gpkg\")"
   ]
  },
  {
   "cell_type": "code",
   "execution_count": null,
   "id": "a9f5c3ff6c1819e0",
   "metadata": {},
   "outputs": [],
   "source": [
    "# Select the polygon that is the human settlement area of LA: plot it, you can see there are holes in it\n",
    "LA_UCDB_gdf = UCDB_gdf[UCDB_gdf[\"UC_NM_MN\"] == \"Los Angeles\"]\n",
    "LA_UCDB_gdf.plot()"
   ]
  },
  {
   "cell_type": "markdown",
   "id": "c17838f3c6dddc5b",
   "metadata": {
    "collapsed": false
   },
   "source": [
    "# Import TIGERline census tract shapefile"
   ]
  },
  {
   "cell_type": "code",
   "execution_count": null,
   "id": "997277004958b9a6",
   "metadata": {},
   "outputs": [],
   "source": [
    "# census tracts in California\n",
    "CA_22tract = gpd.read_file(file_path + \"tl_2022_06_tract/tl_2022_06_tract.shp\")\n",
    "LA_UCDB_gdf.crs == CA_22tract.crs"
   ]
  },
  {
   "cell_type": "code",
   "execution_count": null,
   "id": "2a92ee1d275359e4",
   "metadata": {},
   "outputs": [],
   "source": [
    "# project the CRS to be the same - 4326\n",
    "CA_22tract_crs = CA_22tract.to_crs(4326)\n",
    "LA_UCDB_gdf.crs == CA_22tract_crs.crs"
   ]
  },
  {
   "cell_type": "code",
   "execution_count": null,
   "id": "113130a60c7bba02",
   "metadata": {},
   "outputs": [],
   "source": [
    "# selecting census tracts in LA county\n",
    "LA_22tract = CA_22tract_crs[CA_22tract_crs[\"COUNTYFP\"] == \"037\"]"
   ]
  },
  {
   "cell_type": "markdown",
   "id": "101344b5436305b1",
   "metadata": {
    "collapsed": false
   },
   "source": [
    "# Get the shapefile of intersection of LA county and LA human settlement area"
   ]
  },
  {
   "cell_type": "code",
   "execution_count": null,
   "id": "620028d1ec5c448d",
   "metadata": {},
   "outputs": [],
   "source": [
    "# Plot the difference of two shapefile\n",
    "ax = LA_22tract.plot(color=\"palegreen\", edgecolor=\"green\", figsize=(20, 10))\n",
    "LA_UCDB_gdf.plot(ax=ax, color=\"red\")"
   ]
  },
  {
   "cell_type": "code",
   "execution_count": null,
   "id": "ea86c04c1fdb4862",
   "metadata": {},
   "outputs": [],
   "source": [
    "# Get the intersection proportion of these two shapefiles\n",
    "LA_clip = gpd.clip(LA_22tract, LA_UCDB_gdf)\n",
    "LA_clip_whole = LA_clip.dissolve()"
   ]
  },
  {
   "cell_type": "code",
   "execution_count": null,
   "id": "3ebc24e8e8b086a7",
   "metadata": {},
   "outputs": [],
   "source": [
    "LA_clip_whole.plot()"
   ]
  },
  {
   "cell_type": "markdown",
   "id": "f1a16d5f18360b72",
   "metadata": {
    "collapsed": false
   },
   "source": [
    "# Get the convex hull of it"
   ]
  },
  {
   "cell_type": "code",
   "execution_count": null,
   "id": "e60dd41f9b206b2a",
   "metadata": {},
   "outputs": [],
   "source": [
    "LA_clip_convex = LA_clip_whole.convex_hull"
   ]
  },
  {
   "cell_type": "code",
   "execution_count": null,
   "id": "f2fa45904122ddc6",
   "metadata": {},
   "outputs": [],
   "source": [
    "# plot the convex hull of the intersected shapefile, which is our study area\n",
    "ax = LA_clip_convex.plot(color=\"palegreen\", edgecolor=\"green\", figsize=(20, 10))\n",
    "LA_clip_whole.plot(ax=ax, color=\"red\")"
   ]
  },
  {
   "cell_type": "code",
   "execution_count": null,
   "id": "8105ff68df631a42",
   "metadata": {},
   "outputs": [],
   "source": [
    "LA_clip_convex.to_file(output_file_path + \"LA_clip_convex.shp\")"
   ]
  },
  {
   "cell_type": "markdown",
   "id": "e255c33851f5cb9",
   "metadata": {
    "collapsed": false
   },
   "source": [
    "# get street network for analysis\n",
    "### Using the above convex hull shapefile are our study region\n",
    "### Get strongly connected graph"
   ]
  },
  {
   "cell_type": "code",
   "execution_count": null,
   "id": "d61298041d30a5b0",
   "metadata": {},
   "outputs": [],
   "source": [
    "LA_clip_convex_gdf = gpd.GeoDataFrame(geometry=gpd.GeoSeries(LA_clip_convex))\n",
    "LA_clip_convex_polygon = LA_clip_convex_gdf.iloc[0][\"geometry\"]"
   ]
  },
  {
   "cell_type": "code",
   "execution_count": null,
   "id": "8471169d5e8fc80b",
   "metadata": {},
   "outputs": [],
   "source": [
    "G = ox.graph_from_polygon(LA_clip_convex_polygon, simplify=False, network_type=\"drive\")\n",
    "ox.plot_graph(G)"
   ]
  },
  {
   "cell_type": "code",
   "execution_count": null,
   "id": "4707cc10a61f7118",
   "metadata": {},
   "outputs": [],
   "source": [
    "G.nodes(data=True)[5432488414]"
   ]
  },
  {
   "cell_type": "code",
   "execution_count": null,
   "id": "e42dff62dcd6e661",
   "metadata": {},
   "outputs": [],
   "source": [
    "# Save Geopackages\n",
    "ox.save_graph_geopackage(\n",
    "    G,\n",
    "    filepath=output_file_path + \"LA_clip_convex_network_non_simplify_all_direction.gpkg\",\n",
    ")\n",
    "# Save Graphml\n",
    "ox.save_graphml(\n",
    "    G,\n",
    "    filepath=output_file_path + \"LA_clip_convex_network_non_simplify_all_direction.graphml\",\n",
    ")"
   ]
  },
  {
   "cell_type": "code",
   "execution_count": null,
   "id": "e6b9a3244f706d35",
   "metadata": {},
   "outputs": [],
   "source": [
    "# get strongly connected graph\n",
    "G = ox.utils_graph.get_largest_component(G, strongly=True)"
   ]
  },
  {
   "cell_type": "code",
   "execution_count": null,
   "id": "ae2eaba5e76e356c",
   "metadata": {},
   "outputs": [],
   "source": [
    "# Save Geopackages\n",
    "ox.save_graph_geopackage(\n",
    "    G,\n",
    "    filepath=output_file_path + \"LA_clip_convex_strong_network_non_simplify_all_direction.gpkg\",\n",
    ")\n",
    "# Save Graphml\n",
    "ox.save_graphml(\n",
    "    G,\n",
    "    filepath=output_file_path + \"LA_clip_convex_strong_network_non_simplify_all_direction.graphml\",\n",
    ")"
   ]
  }
 ],
 "metadata": {
  "kernelspec": {
   "display_name": "Python 3",
   "language": "python",
   "name": "python3"
  },
  "language_info": {
   "codemirror_mode": {
    "name": "ipython",
    "version": 2
   },
   "file_extension": ".py",
   "mimetype": "text/x-python",
   "name": "python",
   "nbconvert_exporter": "python",
   "pygments_lexer": "ipython2",
   "version": "2.7.6"
  }
 },
 "nbformat": 4,
 "nbformat_minor": 5
}

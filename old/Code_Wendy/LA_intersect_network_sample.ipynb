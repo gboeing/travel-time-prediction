{
 "cells": [
  {
   "cell_type": "code",
   "execution_count": null,
   "id": "initial_id",
   "metadata": {},
   "outputs": [],
   "source": [
    "import geopandas as gpd\n",
    "import osmnx as ox\n",
    "import pandas as pd"
   ]
  },
  {
   "cell_type": "code",
   "execution_count": null,
   "id": "43224ce62d055254",
   "metadata": {},
   "outputs": [],
   "source": [
    "file_path = \"../Data/\"\n",
    "output_file_path = file_path + \"Output/\""
   ]
  },
  {
   "cell_type": "markdown",
   "id": "dc367bc782c8f9ed",
   "metadata": {
    "collapsed": false
   },
   "source": [
    "# Import human settlement shapefile from GHS UCDB"
   ]
  },
  {
   "cell_type": "code",
   "execution_count": null,
   "id": "a2268bfa1bf253dc",
   "metadata": {},
   "outputs": [],
   "source": [
    "UCDB_gdf = gpd.read_file(file_path + \"GHS_STAT_UCDB2015MT_GLOBE_R2019A_V1_2.gpkg\")"
   ]
  },
  {
   "cell_type": "code",
   "execution_count": null,
   "id": "a9f5c3ff6c1819e0",
   "metadata": {},
   "outputs": [],
   "source": [
    "# Select the polygon that is the human settlement area of LA: plot it, you can see there are holes in it\n",
    "LA_UCDB_gdf = UCDB_gdf[UCDB_gdf[\"UC_NM_MN\"] == \"Los Angeles\"]\n",
    "LA_UCDB_gdf.plot()"
   ]
  },
  {
   "cell_type": "markdown",
   "id": "c17838f3c6dddc5b",
   "metadata": {
    "collapsed": false
   },
   "source": [
    "# Import TIGERline census tract shapefile"
   ]
  },
  {
   "cell_type": "code",
   "execution_count": null,
   "id": "997277004958b9a6",
   "metadata": {},
   "outputs": [],
   "source": [
    "CA_22tract = gpd.read_file(file_path + \"tl_2022_06_tract/tl_2022_06_tract.shp\")\n",
    "LA_UCDB_gdf.crs == CA_22tract.crs"
   ]
  },
  {
   "cell_type": "code",
   "execution_count": null,
   "id": "2a92ee1d275359e4",
   "metadata": {},
   "outputs": [],
   "source": [
    "CA_22tract_crs = CA_22tract.to_crs(4326)\n",
    "LA_UCDB_gdf.crs == CA_22tract_crs.crs"
   ]
  },
  {
   "cell_type": "code",
   "execution_count": null,
   "id": "113130a60c7bba02",
   "metadata": {},
   "outputs": [],
   "source": [
    "LA_22tract = CA_22tract_crs[CA_22tract_crs[\"COUNTYFP\"] == \"037\"]"
   ]
  },
  {
   "cell_type": "markdown",
   "id": "101344b5436305b1",
   "metadata": {
    "collapsed": false
   },
   "source": [
    "# Get the shapefile of intersection of LA county and LA human settlement area"
   ]
  },
  {
   "cell_type": "code",
   "execution_count": null,
   "id": "620028d1ec5c448d",
   "metadata": {},
   "outputs": [],
   "source": [
    "# Plot the difference of two shapefile\n",
    "ax = LA_22tract.plot(color=\"palegreen\", edgecolor=\"green\", figsize=(20, 10))\n",
    "LA_UCDB_gdf.plot(ax=ax, color=\"red\")"
   ]
  },
  {
   "cell_type": "code",
   "execution_count": null,
   "id": "952bcce57cc9e479",
   "metadata": {},
   "outputs": [],
   "source": [
    "LA_intersections = LA_22tract.overlay(LA_UCDB_gdf, how=\"intersection\")\n",
    "LA_intersections_whole = LA_intersections.dissolve()"
   ]
  },
  {
   "cell_type": "code",
   "execution_count": null,
   "id": "3ebc24e8e8b086a7",
   "metadata": {},
   "outputs": [],
   "source": [
    "LA_intersections_whole.plot()"
   ]
  },
  {
   "cell_type": "markdown",
   "id": "e255c33851f5cb9",
   "metadata": {
    "collapsed": false
   },
   "source": [
    "# get street network for analysis\n",
    "### As there are holes in the polygon we are interested in, I made the decision of pulling the street network larger than the polygon we are interested in sampling OD pairs, by \n",
    "#### (1) buffered the polygon just to be safe and get a larger street network\n",
    "#### (2) get the street network by the extent of the bounding box"
   ]
  },
  {
   "cell_type": "code",
   "execution_count": null,
   "id": "6430eaf3106ff655",
   "metadata": {},
   "outputs": [],
   "source": [
    "LA_intersections_whole_proj = LA_intersections_whole.to_crs(\n",
    "    3043,\n",
    ")  # project a crs that is in unit of meters\n",
    "LA_intersections_whole_proj[\"geometry\"] = LA_intersections_whole_proj[\"geometry\"].buffer(3000)\n",
    "LA_intersections_whole_proj = LA_intersections_whole_proj.to_crs(4326)  # Back to 4326"
   ]
  },
  {
   "cell_type": "code",
   "execution_count": null,
   "id": "a4145caa48350022",
   "metadata": {},
   "outputs": [],
   "source": [
    "ax = LA_intersections_whole_proj.plot(color=\"palegreen\", edgecolor=\"green\", figsize=(20, 10))\n",
    "LA_intersections_whole.plot(ax=ax, color=\"red\")"
   ]
  },
  {
   "cell_type": "code",
   "execution_count": null,
   "id": "61c76783e00be39f",
   "metadata": {},
   "outputs": [],
   "source": [
    "LA_intersections_whole_proj.bounds"
   ]
  },
  {
   "cell_type": "code",
   "execution_count": null,
   "id": "8416b6b57e4fa2b3",
   "metadata": {},
   "outputs": [],
   "source": [
    "G_box = ox.graph_from_bbox(\n",
    "    LA_intersections_whole_proj.bounds[\"maxy\"][0],\n",
    "    LA_intersections_whole_proj.bounds[\"miny\"][0],\n",
    "    LA_intersections_whole_proj.bounds[\"maxx\"][0],\n",
    "    LA_intersections_whole_proj.bounds[\"minx\"][0],\n",
    "    network_type=\"drive\",\n",
    ")"
   ]
  },
  {
   "cell_type": "code",
   "execution_count": null,
   "id": "72a43e1eb9420d99",
   "metadata": {},
   "outputs": [],
   "source": [
    "ox.plot_graph(G_box)"
   ]
  },
  {
   "cell_type": "code",
   "execution_count": null,
   "id": "ae2eaba5e76e356c",
   "metadata": {},
   "outputs": [],
   "source": [
    "# Save Geopackages\n",
    "ox.save_graph_geopackage(G_box, filepath=output_file_path + \"LA_intersect_network.gpkg\")\n",
    "# Save Graphml\n",
    "ox.save_graphml(G_box, filepath=output_file_path + \"LA_intersect_network.graphml\")"
   ]
  },
  {
   "cell_type": "markdown",
   "id": "bb7674eab3dde3d7",
   "metadata": {
    "collapsed": false
   },
   "source": [
    "# Attach information to all the nodes in the bounding box street network"
   ]
  },
  {
   "cell_type": "code",
   "execution_count": null,
   "id": "ee892b3132cf5005",
   "metadata": {},
   "outputs": [],
   "source": [
    "gdf_nodes, gdf_edges = ox.graph_to_gdfs(G_box)\n",
    "gdf = gdf_nodes.reset_index(drop=False)"
   ]
  },
  {
   "cell_type": "code",
   "execution_count": null,
   "id": "3d6ffba54e4068f",
   "metadata": {},
   "outputs": [],
   "source": [
    "gdf_proj = ox.project_gdf(gdf, to_latlong=True)\n",
    "gdf_proj[\"x\"] = gdf_proj[\"geometry\"].x\n",
    "gdf_proj[\"y\"] = gdf_proj[\"geometry\"].y"
   ]
  },
  {
   "cell_type": "code",
   "execution_count": null,
   "id": "930ad3aa545e6d6e",
   "metadata": {},
   "outputs": [],
   "source": [
    "# Los Angeles census tract used by uber movements\n",
    "uber_tract = gpd.read_file(file_path + \"los_angeles_censustracts.json\")"
   ]
  },
  {
   "cell_type": "code",
   "execution_count": null,
   "id": "9fae0c27fdb4ae67",
   "metadata": {},
   "outputs": [],
   "source": [
    "# attach information on\n",
    "selected_cols = [\"osmid\", \"y\", \"x\", \"highway\", \"street_count\", \"ref\", \"geometry\", \"GEOID\"]\n",
    "\n",
    "gdf_proj_tract = gpd.sjoin(gdf_proj, CA_22tract_crs, how=\"left\", predicate=\"within\")[selected_cols]\n",
    "gdf_proj_tract_uber = gpd.sjoin(gdf_proj_tract, uber_tract, how=\"left\", predicate=\"within\")[\n",
    "    selected_cols + [\"MOVEMENT_ID\", \"TRACT\"]\n",
    "]\n",
    "gdf_proj_tract_uber"
   ]
  },
  {
   "cell_type": "markdown",
   "id": "4b8805430f4c8a7e",
   "metadata": {
    "collapsed": false
   },
   "source": [
    "# Sample 100,000 nodes as origin and destination (100,000 OD pairs) in potential nodes candidates"
   ]
  },
  {
   "cell_type": "code",
   "execution_count": null,
   "id": "1b5e0b734d666a23",
   "metadata": {},
   "outputs": [],
   "source": [
    "# select only the nodes that are in the intersected boundary\n",
    "gdf_proj_tract_uber\n",
    "nodes_candidate = gpd.sjoin(\n",
    "    gdf_proj_tract_uber,\n",
    "    LA_intersections_whole,\n",
    "    how=\"inner\",\n",
    "    predicate=\"within\",\n",
    ")"
   ]
  },
  {
   "cell_type": "code",
   "execution_count": null,
   "id": "4121c407986253ea",
   "metadata": {},
   "outputs": [],
   "source": [
    "nodes_candidate.to_csv(output_file_path + \"nodes_candidate.csv\")"
   ]
  },
  {
   "cell_type": "code",
   "execution_count": null,
   "id": "3d36579312740a07",
   "metadata": {},
   "outputs": [],
   "source": [
    "origin = nodes_candidate.sample(100000, random_state=123, replace=True).copy()\n",
    "origin = origin[[\"osmid\", \"y\", \"x\", \"GEOID_left\", \"MOVEMENT_ID\"]]\n",
    "origin.columns = [\"oid\", \"oy\", \"ox\", \"oGEOID\", \"oMOVEMENT_ID\"]\n",
    "destin = nodes_candidate.sample(100000, random_state=321, replace=True).copy()\n",
    "destin = destin[[\"osmid\", \"y\", \"x\", \"GEOID_left\", \"MOVEMENT_ID\"]]\n",
    "destin.columns = [\"did\", \"dy\", \"dx\", \"dGEOID\", \"dMOVEMENT_ID\"]"
   ]
  },
  {
   "cell_type": "code",
   "execution_count": null,
   "id": "3b96486c61afb588",
   "metadata": {},
   "outputs": [],
   "source": [
    "origin = origin.reset_index(drop=True)\n",
    "destin = destin.reset_index(drop=True)"
   ]
  },
  {
   "cell_type": "code",
   "execution_count": null,
   "id": "13136f68031a3ca0",
   "metadata": {},
   "outputs": [],
   "source": [
    "temp_OD = pd.concat([origin, destin], sort=False, axis=1)\n",
    "temp_OD = temp_OD.drop(temp_OD[temp_OD[\"oid\"] == temp_OD[\"did\"]].index)"
   ]
  },
  {
   "cell_type": "code",
   "execution_count": null,
   "id": "dfb187860e2e6dd0",
   "metadata": {},
   "outputs": [],
   "source": [
    "temp_OD"
   ]
  },
  {
   "cell_type": "code",
   "execution_count": null,
   "id": "ff64ee75824ef761",
   "metadata": {},
   "outputs": [],
   "source": [
    "temp_OD.to_csv(output_file_path + \"potential_OD.csv\")"
   ]
  }
 ],
 "metadata": {
  "kernelspec": {
   "display_name": "Python 3",
   "language": "python",
   "name": "python3"
  },
  "language_info": {
   "codemirror_mode": {
    "name": "ipython",
    "version": 2
   },
   "file_extension": ".py",
   "mimetype": "text/x-python",
   "name": "python",
   "nbconvert_exporter": "python",
   "pygments_lexer": "ipython2",
   "version": "2.7.6"
  }
 },
 "nbformat": 4,
 "nbformat_minor": 5
}

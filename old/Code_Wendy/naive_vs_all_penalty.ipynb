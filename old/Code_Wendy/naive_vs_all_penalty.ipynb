{
 "cells": [
  {
   "cell_type": "markdown",
   "id": "4fa5764401d0ba3c",
   "metadata": {
    "collapsed": false
   },
   "source": [
    "# Import libraries and Config"
   ]
  },
  {
   "cell_type": "code",
   "execution_count": null,
   "id": "initial_id",
   "metadata": {},
   "outputs": [],
   "source": [
    "# import libraries\n",
    "import osmnx as ox\n",
    "import pandas as pd"
   ]
  },
  {
   "cell_type": "code",
   "execution_count": null,
   "id": "e0d6664a9d86eec",
   "metadata": {},
   "outputs": [],
   "source": [
    "from Code_Jessica.functions import (\n",
    "    add_edge_traffic_times,\n",
    "    get_turn_penalty_dict,\n",
    "    shortest_path_turn_penalty,\n",
    ")"
   ]
  },
  {
   "cell_type": "code",
   "execution_count": null,
   "id": "af22c592a85fc4f0",
   "metadata": {},
   "outputs": [],
   "source": [
    "def get_routes_from_OD_df(G, OD_df, **kwargs):\n",
    "    routes = []\n",
    "    for i in range(len(OD_df)):\n",
    "        # find routes while considering penalties\n",
    "        route = shortest_path_turn_penalty(G, OD_df.iloc[i][\"oid\"], OD_df.iloc[i][\"did\"], **kwargs)\n",
    "        routes.append(route)\n",
    "    return routes"
   ]
  },
  {
   "cell_type": "code",
   "execution_count": null,
   "id": "3d4316ec97799a10",
   "metadata": {},
   "outputs": [],
   "source": [
    "TRAFFIC_TIME_CONFIG = {\n",
    "    \"traffic_signals_time\": 2,\n",
    "    \"stop_time\": 2,\n",
    "    \"turning_circle_time\": 0,\n",
    "    \"crossing_time\": 1.5,\n",
    "    \"give_way_time\": 1.5,\n",
    "    \"mini_roundabout_time\": 1.5,\n",
    "}"
   ]
  },
  {
   "cell_type": "markdown",
   "id": "a4895ee6ae3894eb",
   "metadata": {
    "collapsed": false
   },
   "source": [
    "# Import OD pairs"
   ]
  },
  {
   "cell_type": "code",
   "execution_count": null,
   "id": "a9c5a444eb778946",
   "metadata": {},
   "outputs": [],
   "source": [
    "file_path = \"../Data/\"\n",
    "output_file_path = file_path + \"Output/\"\n",
    "OD_pairs = pd.read_csv(output_file_path + \"temp_intersect_OD.csv\")"
   ]
  },
  {
   "cell_type": "code",
   "execution_count": null,
   "id": "63bc5b6c02cb9ba7",
   "metadata": {},
   "outputs": [],
   "source": [
    "OD_pairs"
   ]
  },
  {
   "cell_type": "markdown",
   "id": "5a34fe4143c755bc",
   "metadata": {
    "collapsed": false
   },
   "source": [
    "# Import Street Network in LA Urban Area"
   ]
  },
  {
   "cell_type": "code",
   "execution_count": null,
   "id": "7a3f9283e0ddab94",
   "metadata": {},
   "outputs": [],
   "source": [
    "# using the street network of Graphml file of LA urban area\n",
    "G = ox.io.load_graphml(file_path + \"los_angeles-14.graphml\")"
   ]
  },
  {
   "cell_type": "code",
   "execution_count": null,
   "id": "122613c4a30c86a4",
   "metadata": {},
   "outputs": [],
   "source": [
    "# add attributes\n",
    "G = ox.add_edge_speeds(G)\n",
    "G = ox.add_edge_travel_times(G)\n",
    "G = ox.bearing.add_edge_bearings(G)"
   ]
  },
  {
   "cell_type": "code",
   "execution_count": null,
   "id": "50feecbd9e4cbc0c",
   "metadata": {},
   "outputs": [],
   "source": [
    "G = add_edge_traffic_times(G, **TRAFFIC_TIME_CONFIG)"
   ]
  },
  {
   "cell_type": "code",
   "execution_count": null,
   "id": "b744f809d1dc8de1",
   "metadata": {},
   "outputs": [],
   "source": [
    "nodes_gdf, edges_gdf = ox.graph_to_gdfs(G)"
   ]
  },
  {
   "cell_type": "markdown",
   "id": "26c8eda40d17c37b",
   "metadata": {
    "collapsed": false
   },
   "source": [
    "# Set Turn Penalty Parameter"
   ]
  },
  {
   "cell_type": "code",
   "execution_count": null,
   "id": "d8e13dde5d91bc16",
   "metadata": {},
   "outputs": [],
   "source": [
    "penalty = get_turn_penalty_dict(G, left_turn_penalty=30, right_turn_penalty=10, u_turn_penalty=90)"
   ]
  },
  {
   "cell_type": "markdown",
   "id": "8e5252c928eafe7b",
   "metadata": {
    "collapsed": false
   },
   "source": [
    "# Sample OD pair and calculate naive/free-flow VS penalized travel time"
   ]
  },
  {
   "cell_type": "code",
   "execution_count": null,
   "id": "eba47f7ded851e50",
   "metadata": {},
   "outputs": [],
   "source": [
    "# due to the run time, I only sampled 50 OD pairs\n",
    "OD_pairs_sample = OD_pairs.sample(50, replace=True).copy()"
   ]
  },
  {
   "cell_type": "code",
   "execution_count": null,
   "id": "84132c2675b4c178",
   "metadata": {},
   "outputs": [],
   "source": [
    "penalty_routes = get_routes_from_OD_df(G, OD_pairs_sample, weight=\"total_time\", penalty=penalty)"
   ]
  },
  {
   "cell_type": "code",
   "execution_count": null,
   "id": "4aeb5c459a5f9079",
   "metadata": {},
   "outputs": [],
   "source": [
    "naive_routes = get_routes_from_OD_df(G, OD_pairs_sample, weight=\"travel_time\")"
   ]
  },
  {
   "cell_type": "code",
   "execution_count": null,
   "id": "f4ad89bcd86b799b",
   "metadata": {},
   "outputs": [],
   "source": [
    "# travel time of 50 O-D pairs routes\n",
    "penalty_time_result = []\n",
    "naive_time_result = []\n",
    "\n",
    "for i in range(len(penalty_routes)):\n",
    "    x = sum(ox.utils_graph.get_route_edge_attributes(G, penalty_routes[i], \"total_time\"))\n",
    "    y = sum(ox.utils_graph.get_route_edge_attributes(G, naive_routes[i], \"travel_time\"))\n",
    "    penalty_time_result.append(x)\n",
    "    naive_time_result.append(y)"
   ]
  },
  {
   "cell_type": "code",
   "execution_count": null,
   "id": "9a582a4ef58b7529",
   "metadata": {},
   "outputs": [],
   "source": [
    "# compare the naive/freeflow travel time and penalized travel time\n",
    "time_compare = pd.DataFrame(\n",
    "    {\n",
    "        \"penalized travel time\": penalty_time_result,\n",
    "        \"naive travel time\": naive_time_result,\n",
    "    },\n",
    ")"
   ]
  },
  {
   "cell_type": "code",
   "execution_count": null,
   "id": "6d3af674b0f0697d",
   "metadata": {},
   "outputs": [],
   "source": [
    "time_compare"
   ]
  },
  {
   "cell_type": "code",
   "execution_count": null,
   "id": "fde9ad10292f98b6",
   "metadata": {},
   "outputs": [],
   "source": [
    "time_compare[\"penalized travel time\"].sum() / time_compare[\"naive travel time\"].sum()"
   ]
  }
 ],
 "metadata": {
  "kernelspec": {
   "display_name": "Python 3",
   "language": "python",
   "name": "python3"
  },
  "language_info": {
   "codemirror_mode": {
    "name": "ipython",
    "version": 2
   },
   "file_extension": ".py",
   "mimetype": "text/x-python",
   "name": "python",
   "nbconvert_exporter": "python",
   "pygments_lexer": "ipython2",
   "version": "2.7.6"
  }
 },
 "nbformat": 4,
 "nbformat_minor": 5
}
